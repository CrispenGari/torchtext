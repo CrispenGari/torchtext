{
  "nbformat": 4,
  "nbformat_minor": 0,
  "metadata": {
    "colab": {
      "provenance": []
    },
    "kernelspec": {
      "name": "python3",
      "display_name": "Python 3"
    },
    "language_info": {
      "name": "python"
    },
    "accelerator": "GPU",
    "gpuClass": "standard"
  },
  "cells": [
    {
      "cell_type": "markdown",
      "source": [
        "### Packed Padded Sequences, Masking, Inference and BLEU Metric\n",
        "\n",
        "In this notebook we will be adding a few improvements - `packed padded sequences` and `masking` - to the model from the previous notebook. Packed padded sequences are used to tell our `RNN` to skip over padding tokens in our encoder. `Masking` explicitly forces the model to ignore certain values, such as attention over padded elements. Both of these techniques are commonly used in `NLP`.\n",
        "\n",
        "We will also look at how to use our model for `inference`, by giving it a sentence, seeing what it translates it as and seeing where exactly it pays attention to when translating each word.\n",
        "\n",
        "Finally, we'll use the `BLEU` metric to measure the quality of our translations.\n",
        "\n",
        "> This notebook is nothing but a modified version of my previous notebooks on `seq2seq` machine translation model. The only difference is that in this notebook we are going to use the `torchtext` api instead of the `torchtext.lergacy`. The following notebooks are used as refences to this notebook. There you will find a deep understanding on how `Seq2Seq` models work.\n",
        "\n",
        "1. [04_Packed_Padded_Sequences%2C_Masking%2C_Inference_and_BLEU.ipynb](https://github.com/CrispenGari/pytorch-python/blob/main/09_NLP/03_Sequence_To_Sequence/04_Packed_Padded_Sequences%2C_Masking%2C_Inference_and_BLEU.ipynb)\n",
        "\n",
        "\n",
        "### Installation of Packages\n",
        "In the following code cell we are going to install the packages that we are going to use in this notebook which are `helperfns` and `torchdata`. The `helperfns` package allows us to get some machine learning helper function which we are also going to use in this notebook as well."
      ],
      "metadata": {
        "id": "PufgHqGWNPxt"
      }
    },
    {
      "cell_type": "code",
      "source": [
        "import locale\n",
        "def getpreferredencoding(do_setlocale = True):\n",
        "    return \"UTF-8\"\n",
        "locale.getpreferredencoding = getpreferredencoding"
      ],
      "metadata": {
        "id": "ISxr_Wdb1bEF"
      },
      "execution_count": 1,
      "outputs": []
    },
    {
      "cell_type": "code",
      "source": [
        "!pip install helperfns portalocker torchdata -q"
      ],
      "metadata": {
        "id": "jOHX7hrENIkU",
        "colab": {
          "base_uri": "https://localhost:8080/"
        },
        "outputId": "c2ea802b-4669-4991-e6ec-d76f87b00051"
      },
      "execution_count": 2,
      "outputs": [
        {
          "output_type": "stream",
          "name": "stdout",
          "text": [
            "  Preparing metadata (setup.py) ... \u001b[?25l\u001b[?25hdone\n",
            "  Building wheel for sklearn (setup.py) ... \u001b[?25l\u001b[?25hdone\n"
          ]
        }
      ]
    },
    {
      "cell_type": "markdown",
      "source": [
        "### Imports\n",
        "\n",
        "In the following code cell we are going to import the packages that are going to be used in this notebook."
      ],
      "metadata": {
        "id": "7Z_Ck4gdOv3K"
      }
    },
    {
      "cell_type": "code",
      "source": [
        "\n",
        "from torch import nn\n",
        "from torch.nn  import functional as F\n",
        "from torchtext import data, datasets\n",
        "from collections import Counter\n",
        "from torchtext import vocab\n",
        "from helperfns import tables, visualization, utils\n",
        "from helperfns.torch.models import model_params\n",
        "from matplotlib import pyplot as plt\n",
        "\n",
        "import spacy\n",
        "import math\n",
        "import random\n",
        "import torch\n",
        "import torchtext\n",
        "import numpy as np\n",
        "import time\n",
        "import gc\n",
        "\n",
        "torchtext.__version__, torch.__version__"
      ],
      "metadata": {
        "colab": {
          "base_uri": "https://localhost:8080/"
        },
        "id": "rafqZG3wNIhY",
        "outputId": "c5305e64-7bdb-40d9-c8ff-8df48b47850a"
      },
      "execution_count": 3,
      "outputs": [
        {
          "output_type": "execute_result",
          "data": {
            "text/plain": [
              "('0.15.2+cpu', '2.0.1+cu118')"
            ]
          },
          "metadata": {},
          "execution_count": 3
        }
      ]
    },
    {
      "cell_type": "code",
      "source": [
        "torch.cuda.empty_cache()"
      ],
      "metadata": {
        "id": "PDkMMYKc1tzw"
      },
      "execution_count": 4,
      "outputs": []
    },
    {
      "cell_type": "markdown",
      "source": [
        "### Seed\n",
        "In the following code cell we are going to set up the `SEED` for reproducivity in this notebook."
      ],
      "metadata": {
        "id": "okz1JiI6P5xV"
      }
    },
    {
      "cell_type": "code",
      "source": [
        "SEED = 42\n",
        "\n",
        "torch.manual_seed(SEED)\n",
        "np.random.seed(SEED)\n",
        "random.seed(SEED)\n",
        "torch.cuda.manual_seed(SEED)\n",
        "torch.backends.cudnn.deteministic = True"
      ],
      "metadata": {
        "id": "8klW-wN0NId_"
      },
      "execution_count": 5,
      "outputs": []
    },
    {
      "cell_type": "markdown",
      "source": [
        "### Device\n",
        "\n",
        "In the following code cell we are going to declare a `device` variable that will allow us to make use of `GPU` if available."
      ],
      "metadata": {
        "id": "eu0y1XQ4QIGS"
      }
    },
    {
      "cell_type": "code",
      "source": [
        "device = torch.device('cuda' if torch.cuda.is_available() else 'cpu')\n",
        "device"
      ],
      "metadata": {
        "colab": {
          "base_uri": "https://localhost:8080/"
        },
        "id": "AyGo-myfNIb-",
        "outputId": "d42c8688-7880-4a96-d4e3-403da40fb363"
      },
      "execution_count": 6,
      "outputs": [
        {
          "output_type": "execute_result",
          "data": {
            "text/plain": [
              "device(type='cuda')"
            ]
          },
          "metadata": {},
          "execution_count": 6
        }
      ]
    },
    {
      "cell_type": "markdown",
      "source": [
        "### Tokenizer Models\n",
        "\n",
        "For the tokenizer we are going to make use of the `spacy` language models to tokenize sentences for each language. So first we will need to download the `en_core_web_sm` and the `de_core_news_sm`."
      ],
      "metadata": {
        "id": "gWDaqUDIQf4E"
      }
    },
    {
      "cell_type": "code",
      "source": [
        "spacy.cli.download('de_core_news_sm')"
      ],
      "metadata": {
        "colab": {
          "base_uri": "https://localhost:8080/"
        },
        "id": "LGD13NUYNIYb",
        "outputId": "a2cd7c43-7c0e-4d2e-851d-0acdfa289a28"
      },
      "execution_count": 7,
      "outputs": [
        {
          "output_type": "stream",
          "name": "stdout",
          "text": [
            "\u001b[38;5;2m✔ Download and installation successful\u001b[0m\n",
            "You can now load the package via spacy.load('de_core_news_sm')\n"
          ]
        }
      ]
    },
    {
      "cell_type": "code",
      "source": [
        "spacy_de = spacy.load('de_core_news_sm')\n",
        "spacy_en = spacy.load('en_core_web_sm')"
      ],
      "metadata": {
        "id": "gXc95YjQNIWm"
      },
      "execution_count": 8,
      "outputs": []
    },
    {
      "cell_type": "markdown",
      "source": [
        "In the following code cell we are going to create our tokenizers functions that takes in a sentence in english and tokenize it.\n",
        "\n",
        "> Previously we reversed the source (German) sentence, however in the paper we are implementing they don't do this, so neither will we."
      ],
      "metadata": {
        "id": "sMvQzFTYRfZz"
      }
    },
    {
      "cell_type": "code",
      "source": [
        "def tokenize_de(sent:str)->list:\n",
        "  return [tok.text for tok in spacy_de.tokenizer(sent)]\n",
        "\n",
        "def tokenize_en(sent:str)->list:\n",
        "  return [tok.text for tok in spacy_en.tokenizer(sent)]"
      ],
      "metadata": {
        "id": "Da_roQ2ONITL"
      },
      "execution_count": 9,
      "outputs": []
    },
    {
      "cell_type": "markdown",
      "source": [
        "Testing our tokenizer functions."
      ],
      "metadata": {
        "id": "81jcHtDkSGTr"
      }
    },
    {
      "cell_type": "code",
      "source": [
        "tokenize_de(\"Kannst du mir helfen?\")"
      ],
      "metadata": {
        "colab": {
          "base_uri": "https://localhost:8080/"
        },
        "id": "FaE7za2mNIRX",
        "outputId": "9405e10a-c56f-4627-930c-d30e505e3714"
      },
      "execution_count": 10,
      "outputs": [
        {
          "output_type": "execute_result",
          "data": {
            "text/plain": [
              "['Kannst', 'du', 'mir', 'helfen', '?']"
            ]
          },
          "metadata": {},
          "execution_count": 10
        }
      ]
    },
    {
      "cell_type": "code",
      "source": [
        "tokenize_en(\"Can you help me?\")"
      ],
      "metadata": {
        "colab": {
          "base_uri": "https://localhost:8080/"
        },
        "id": "T5RROtSYNIOd",
        "outputId": "3299e58c-0ba3-48fa-bae1-0abcf81c7f39"
      },
      "execution_count": 11,
      "outputs": [
        {
          "output_type": "execute_result",
          "data": {
            "text/plain": [
              "['Can', 'you', 'help', 'me', '?']"
            ]
          },
          "metadata": {},
          "execution_count": 11
        }
      ]
    },
    {
      "cell_type": "markdown",
      "source": [
        "### Dataset\n",
        "\n",
        "The dataset we'll be using is the [Multi30k](https://pytorch.org/text/stable/datasets.html#multi30k) dataset. This is a dataset with `~30,000` parallel English, German and French sentences, each with `~12` words per sentence."
      ],
      "metadata": {
        "id": "HYv-xr3cSe7I"
      }
    },
    {
      "cell_type": "code",
      "source": [
        "train_iter, valid_iter, test_iter = datasets.Multi30k(\n",
        "     root = '.data', split = ('train', 'valid', 'test'), \n",
        "    language_pair= ('de', 'en')\n",
        ")"
      ],
      "metadata": {
        "id": "K6DayGR2NIMD"
      },
      "execution_count": 12,
      "outputs": []
    },
    {
      "cell_type": "markdown",
      "source": [
        "Checking as single train example."
      ],
      "metadata": {
        "id": "AAmFsNzsSQoW"
      }
    },
    {
      "cell_type": "code",
      "source": [
        "next(iter(train_iter))"
      ],
      "metadata": {
        "colab": {
          "base_uri": "https://localhost:8080/"
        },
        "id": "TKuNV_MaNIIo",
        "outputId": "6a1fa2a7-8b49-4b2f-97ea-a68dcb3e9f1b"
      },
      "execution_count": 13,
      "outputs": [
        {
          "output_type": "execute_result",
          "data": {
            "text/plain": [
              "('Zwei junge weiße Männer sind im Freien in der Nähe vieler Büsche.',\n",
              " 'Two young, White males are outside near many bushes.')"
            ]
          },
          "metadata": {},
          "execution_count": 13
        }
      ]
    },
    {
      "cell_type": "markdown",
      "source": [
        "### Getting `src` and `trg`\n",
        "Our `src` field will be the `de` sentence and the `trg` field will the the `en` sentence."
      ],
      "metadata": {
        "id": "cCe9GrbgTZdC"
      }
    },
    {
      "cell_type": "code",
      "source": [
        "train_src = []\n",
        "train_trg = []\n",
        "valid_src = []\n",
        "valid_trg = []\n",
        "test_src = []\n",
        "test_trg = []\n",
        "\n",
        "for (src, trg) in train_iter:\n",
        "  train_src.append(src)\n",
        "  train_trg.append(trg)\n",
        "\n",
        "for (src, trg) in test_iter:\n",
        "  test_src.append(src)\n",
        "  test_trg.append(trg)\n",
        "\n",
        "for (src, trg) in valid_iter:\n",
        "  valid_src.append(src)\n",
        "  valid_trg.append(trg)"
      ],
      "metadata": {
        "id": "-fOFrxOTNIGi",
        "colab": {
          "base_uri": "https://localhost:8080/"
        },
        "outputId": "d5b2d9fe-3014-4702-b74c-f7d7489827ac"
      },
      "execution_count": 14,
      "outputs": [
        {
          "output_type": "stream",
          "name": "stderr",
          "text": [
            "/usr/local/lib/python3.10/dist-packages/torch/utils/data/datapipes/iter/combining.py:297: UserWarning: Some child DataPipes are not exhausted when __iter__ is called. We are resetting the buffer and each child DataPipe will read from the start again.\n",
            "  warnings.warn(\"Some child DataPipes are not exhausted when __iter__ is called. We are resetting \"\n"
          ]
        }
      ]
    },
    {
      "cell_type": "markdown",
      "source": [
        "Checking if the `src` and the `trg` has the same length for all sets."
      ],
      "metadata": {
        "id": "wSIeQpwNSXGG"
      }
    },
    {
      "cell_type": "code",
      "source": [
        "assert len(train_src) == len(train_trg), f\"The src and trg must have the same length got {len(train_src)} and {len(train_trg)}.\"\n",
        "assert len(valid_src) == len(valid_trg), f\"The src and trg must have the same length got {len(valid_src)} and {len(valid_trg)}.\"\n",
        "assert len(test_src) == len(test_trg), f\"The src and trg must have the same length got {len(test_src)} and {len(test_trg)}.\""
      ],
      "metadata": {
        "id": "4LqMOxA2NIDd"
      },
      "execution_count": 15,
      "outputs": []
    },
    {
      "cell_type": "markdown",
      "source": [
        "### Counting examples\n",
        "\n",
        "In the following code cell we are going to count examples in each language pair and visualize them using a table."
      ],
      "metadata": {
        "id": "8uKw4HcZUqK-"
      }
    },
    {
      "cell_type": "code",
      "source": [
        "columns = [\"set\", \"src\", \"trg\"]\n",
        "examples = [\n",
        "    ['training', len(train_src), len(train_trg)],\n",
        "    ['validation' , len(valid_src), len(valid_trg)],\n",
        "    ['testing' , len(test_src), len(test_trg)],\n",
        "]\n",
        "tables.tabulate_data(columns, examples, \"Examples\")"
      ],
      "metadata": {
        "colab": {
          "base_uri": "https://localhost:8080/"
        },
        "id": "SSXbJRDHNIBW",
        "outputId": "6442cfa9-ed44-4697-edf1-6cef86555bc1"
      },
      "execution_count": 16,
      "outputs": [
        {
          "output_type": "stream",
          "name": "stdout",
          "text": [
            "+------------+-------+-------+\n",
            "| set        |   src |   trg |\n",
            "+------------+-------+-------+\n",
            "| training   | 29001 | 29001 |\n",
            "| validation |  1015 |  1015 |\n",
            "| testing    |  1000 |  1000 |\n",
            "+------------+-------+-------+\n"
          ]
        }
      ]
    },
    {
      "cell_type": "markdown",
      "source": [
        "### Building Vocabulary\n",
        "Next, we'll build the vocabulary for the `source` (src) and `target` (trg) languages. The vocabulary is used to associate each unique token with an index (an integer). The vocabularies of the `source` and `target` languages are distinct.\n",
        "\n",
        "Using the `min_freq` argument, we only allow tokens that appear at least `2` times to appear in our vocabulary. Tokens that appear only once are converted into an `<unk>` (unknown) token.\n",
        "\n",
        "> It is important to note that our vocabulary should only be built from the `training` set and not the `validation/test` set. This prevents `\"information leakage\"` into our model, giving us artifically inflated `validation/test` scores.\n",
        "\n",
        "Also note that in this notebook we are not going to focus much about text cleaning. We are going to convert sentences to lower case only."
      ],
      "metadata": {
        "id": "JbnP0EM6VcIq"
      }
    },
    {
      "cell_type": "code",
      "source": [
        "counter_src = Counter()\n",
        "for line in train_src:\n",
        "  counter_src.update(tokenize_de(line.lower()))\n",
        "vocabulary_src = vocab.vocab(counter_src, min_freq=5, specials=('-unk-', '-sos-', '-eos-', '-pad-'))\n",
        "\n",
        "counter_trg = Counter()\n",
        "for line in train_trg:\n",
        "  counter_trg.update(tokenize_de(line.lower()))\n",
        "vocabulary_trg = vocab.vocab(counter_trg, min_freq=5, specials=('-unk-', '-sos-', '-eos-', '-pad-'))"
      ],
      "metadata": {
        "id": "BOFgvANUNH-O"
      },
      "execution_count": 29,
      "outputs": []
    },
    {
      "cell_type": "markdown",
      "source": [
        "In the following code cell we are going to get the `string-to-integer` representation of our `src` and `trg` fields."
      ],
      "metadata": {
        "id": "Swjhc1V8SnXj"
      }
    },
    {
      "cell_type": "code",
      "source": [
        "stoi_src = vocabulary_src.get_stoi()\n",
        "stoi_trg = vocabulary_trg.get_stoi()\n",
        "\n",
        "SRC_VOCAB_SIZE = len(stoi_src)\n",
        "TRG_VOCAB_SIZE = len(stoi_trg)"
      ],
      "metadata": {
        "id": "Csd_5BBRNH8S"
      },
      "execution_count": 30,
      "outputs": []
    },
    {
      "cell_type": "markdown",
      "source": [
        "### SRC and Target Pipelines\n",
        "After our text has been tokenized we need a way of converting those words into numbers because machine leaning models understand numbers not words. That's where we the `src_text_pipeline` and `trg_text_pipeline` functions into play. So these function takes in a sentence and tokenize it then converts each word to a number. Note that the word that does not exists in the vocabulay for either `src` or `trg` will be converted to an `unkown` (`-unk-`) token."
      ],
      "metadata": {
        "id": "MzRQmHw6Xe6M"
      }
    },
    {
      "cell_type": "code",
      "source": [
        "def src_text_pipeline(x: str)->list:\n",
        "  values = list()\n",
        "  tokens = tokenize_de(x.lower())\n",
        "  for token in tokens:\n",
        "    try:\n",
        "      v = stoi_src[token]\n",
        "    except KeyError as e:\n",
        "      v = stoi_trg['-unk-']\n",
        "    values.append(v)\n",
        "  return values\n",
        "\n",
        "def trg_text_pipeline(x: str)->list:\n",
        "  values = list()\n",
        "  tokens = tokenize_de(x.lower())\n",
        "  for token in tokens:\n",
        "    try:\n",
        "      v = stoi_trg[token]\n",
        "    except KeyError as e:\n",
        "      v = stoi_trg['-unk-']\n",
        "    values.append(v)\n",
        "  return values"
      ],
      "metadata": {
        "id": "6Zhq-2_9NH5B"
      },
      "execution_count": 31,
      "outputs": []
    },
    {
      "cell_type": "markdown",
      "source": [
        "#### Translation Dataset\n",
        "\n",
        "In the following code cell we are going to create a `TranslationDataset` class which will inherid from the `torch.utils.data.Dataset` class. This class will take in the `src` and `trg` values and pair them together."
      ],
      "metadata": {
        "id": "vamzzJK5ZEOD"
      }
    },
    {
      "cell_type": "code",
      "source": [
        "class TranslationDataset(torch.utils.data.Dataset):\n",
        "  def __init__(self, src, trg):\n",
        "    super(TranslationDataset, self).__init__()\n",
        "    self.src = src\n",
        "    self.trg = trg\n",
        "      \n",
        "  def __getitem__(self, index):\n",
        "    return self.src[index], self.trg[index]\n",
        "  \n",
        "  def __len__(self):\n",
        "    return len(self.src)"
      ],
      "metadata": {
        "id": "_fEnlyUEZDi9"
      },
      "execution_count": 32,
      "outputs": []
    },
    {
      "cell_type": "markdown",
      "source": [
        "### collate_fn of the `DataLoader`\n",
        "Our collate function will be named `tokenize_batch` which takes in the batch of `src` and `trg` pairs then `tokenize`, `numericalize` and then `pad` the to a given `max_len`."
      ],
      "metadata": {
        "id": "5COsTvtUTaEl"
      }
    },
    {
      "cell_type": "code",
      "source": [
        "def tokenize_batch(batch, max_len=100, padding=\"pre\"):\n",
        "  assert padding==\"pre\" or padding==\"post\", \"the padding can be either pre or post\"\n",
        "  src, trg = [], []\n",
        "  for src_, trg_ in batch:\n",
        "    _src = torch.zeros(max_len, dtype=torch.int32)\n",
        "    _trg = torch.zeros(max_len, dtype=torch.int32)\n",
        "    _src_processed_text = torch.tensor(src_text_pipeline(src_.lower()), dtype=torch.int32)\n",
        "    _trg_processed_text = torch.tensor(trg_text_pipeline(trg_.lower()), dtype=torch.int32)\n",
        "    _src_pos = min(max_len, len(_src_processed_text))\n",
        "    _trg_pos = min(max_len, len(_trg_processed_text))\n",
        "    if padding == \"pre\":\n",
        "      _src[:_src_pos] = _src_processed_text[:_src_pos]\n",
        "      _trg[:_trg_pos] = _trg_processed_text[:_trg_pos]\n",
        "    else:\n",
        "      _src[-_src_pos:] = _src_processed_text[-_src_pos:]\n",
        "      _trg[-_trg_pos:] = _trg_processed_text[-_trg_pos:]\n",
        "    trg.append(_trg.unsqueeze(dim=0))\n",
        "    src.append(_src.unsqueeze(dim=0))\n",
        "  #  the target values must be a LongTensor\n",
        "  return torch.cat(src, dim=0), torch.cat(trg, dim=0).type(torch.LongTensor)"
      ],
      "metadata": {
        "id": "rBepTZbdNH3Z"
      },
      "execution_count": 33,
      "outputs": []
    },
    {
      "cell_type": "markdown",
      "source": [
        "### Creating datasets\n",
        "In the following code cell we are going to create datasets for all our `3` sets."
      ],
      "metadata": {
        "id": "UrQYV7ZtUUCr"
      }
    },
    {
      "cell_type": "code",
      "source": [
        "train_dataset = TranslationDataset(train_src, train_trg)\n",
        "test_dataset = TranslationDataset(test_src, test_trg)\n",
        "valid_dataset = TranslationDataset(valid_src, valid_trg)"
      ],
      "metadata": {
        "id": "oInS_T66NH0Y"
      },
      "execution_count": 34,
      "outputs": []
    },
    {
      "cell_type": "markdown",
      "source": [
        "Checking a single example in the `train` set."
      ],
      "metadata": {
        "id": "d0_NQd57UfeG"
      }
    },
    {
      "cell_type": "code",
      "source": [
        "train_dataset[0]"
      ],
      "metadata": {
        "colab": {
          "base_uri": "https://localhost:8080/"
        },
        "id": "mmJVzPTRNHx3",
        "outputId": "d2285eb8-b687-40fd-d5db-b6fc6c977e9f"
      },
      "execution_count": 35,
      "outputs": [
        {
          "output_type": "execute_result",
          "data": {
            "text/plain": [
              "('Zwei junge weiße Männer sind im Freien in der Nähe vieler Büsche.',\n",
              " 'Two young, White males are outside near many bushes.')"
            ]
          },
          "metadata": {},
          "execution_count": 35
        }
      ]
    },
    {
      "cell_type": "code",
      "source": [
        "train_dataset[:5]"
      ],
      "metadata": {
        "colab": {
          "base_uri": "https://localhost:8080/"
        },
        "id": "JSaI9K8_CBm8",
        "outputId": "47f381ec-581a-418e-fc20-59ba5ff73143"
      },
      "execution_count": 36,
      "outputs": [
        {
          "output_type": "execute_result",
          "data": {
            "text/plain": [
              "(['Zwei junge weiße Männer sind im Freien in der Nähe vieler Büsche.',\n",
              "  'Mehrere Männer mit Schutzhelmen bedienen ein Antriebsradsystem.',\n",
              "  'Ein kleines Mädchen klettert in ein Spielhaus aus Holz.',\n",
              "  'Ein Mann in einem blauen Hemd steht auf einer Leiter und putzt ein Fenster.',\n",
              "  'Zwei Männer stehen am Herd und bereiten Essen zu.'],\n",
              " ['Two young, White males are outside near many bushes.',\n",
              "  'Several men in hard hats are operating a giant pulley system.',\n",
              "  'A little girl climbing into a wooden playhouse.',\n",
              "  'A man in a blue shirt is standing on a ladder cleaning a window.',\n",
              "  'Two men are at the stove preparing food.'])"
            ]
          },
          "metadata": {},
          "execution_count": 36
        }
      ]
    },
    {
      "cell_type": "code",
      "source": [
        "test_dataset[:5]"
      ],
      "metadata": {
        "colab": {
          "base_uri": "https://localhost:8080/"
        },
        "id": "skVx6Q36CG7K",
        "outputId": "71ef24cf-8e6f-4341-b61c-f71628fe259c"
      },
      "execution_count": 37,
      "outputs": [
        {
          "output_type": "execute_result",
          "data": {
            "text/plain": [
              "(['Ein Mann mit einem orangefarbenen Hut, der etwas anstarrt.',\n",
              "  'Ein Boston Terrier läuft über saftig-grünes Gras vor einem weißen Zaun.',\n",
              "  'Ein Mädchen in einem Karateanzug bricht einen Stock mit einem Tritt.',\n",
              "  'Fünf Leute in Winterjacken und mit Helmen stehen im Schnee mit Schneemobilen im Hintergrund.',\n",
              "  'Leute Reparieren das Dach eines Hauses.'],\n",
              " ['A man in an orange hat starring at something.',\n",
              "  'A Boston Terrier is running on lush green grass in front of a white fence.',\n",
              "  'A girl in karate uniform breaking a stick with a front kick.',\n",
              "  'Five people wearing winter jackets and helmets stand in the snow, with snowmobiles in the background.',\n",
              "  'People are fixing the roof of a house.'])"
            ]
          },
          "metadata": {},
          "execution_count": 37
        }
      ]
    },
    {
      "cell_type": "code",
      "source": [
        "valid_dataset[:5]"
      ],
      "metadata": {
        "colab": {
          "base_uri": "https://localhost:8080/"
        },
        "id": "H4q-apj_CLLV",
        "outputId": "4cff3672-70ed-4fad-900f-0169908a6e81"
      },
      "execution_count": 38,
      "outputs": [
        {
          "output_type": "execute_result",
          "data": {
            "text/plain": [
              "(['Eine Gruppe von Männern lädt Baumwolle auf einen Lastwagen',\n",
              "  'Ein Mann schläft in einem grünen Raum auf einem Sofa.',\n",
              "  'Ein Junge mit Kopfhörern sitzt auf den Schultern einer Frau.',\n",
              "  'Zwei Männer bauen eine blaue Eisfischerhütte auf einem zugefrorenen See auf',\n",
              "  'Ein Mann mit beginnender Glatze, der eine rote Rettungsweste trägt, sitzt in einem kleinen Boot.'],\n",
              " ['A group of men are loading cotton onto a truck',\n",
              "  'A man sleeping in a green room on a couch.',\n",
              "  \"A boy wearing headphones sits on a woman's shoulders.\",\n",
              "  'Two men setting up a blue ice fishing hut on an iced over lake',\n",
              "  'A balding man wearing a red life jacket is sitting in a small boat.'])"
            ]
          },
          "metadata": {},
          "execution_count": 38
        }
      ]
    },
    {
      "cell_type": "markdown",
      "source": [
        "### DataLoaders\n",
        "\n",
        "In the following code cell we are going to create  dataloaders for our three sets of data. We are going to pass the `tokenize_batch` as our `collate_fn`. We are going to shuffle example in the `train` set only."
      ],
      "metadata": {
        "id": "nUkDJkdAUmdG"
      }
    },
    {
      "cell_type": "code",
      "source": [
        "BATCH_SIZE = 64\n",
        "train_loader = torch.utils.data.DataLoader(train_dataset, batch_size=BATCH_SIZE, shuffle=True, collate_fn=tokenize_batch)\n",
        "valid_loader = torch.utils.data.DataLoader(valid_dataset, batch_size=BATCH_SIZE, shuffle=False, collate_fn=tokenize_batch)\n",
        "test_loader = torch.utils.data.DataLoader(test_dataset, batch_size=BATCH_SIZE, shuffle=False, collate_fn=tokenize_batch)"
      ],
      "metadata": {
        "id": "PqHv_IxzNHuj"
      },
      "execution_count": 39,
      "outputs": []
    },
    {
      "cell_type": "markdown",
      "source": [
        "#### Checking examples."
      ],
      "metadata": {
        "id": "xH9rAhXKVAjy"
      }
    },
    {
      "cell_type": "code",
      "source": [
        "src, trg = next(iter(train_loader))"
      ],
      "metadata": {
        "id": "nlvqqmBSNHsV"
      },
      "execution_count": 43,
      "outputs": []
    },
    {
      "cell_type": "code",
      "source": [
        "itos_src = {v:k for k, v in stoi_src.items()}\n",
        "itos_trg = {v:k for k, v in stoi_trg.items()}"
      ],
      "metadata": {
        "id": "CP27uumDCU_9"
      },
      "execution_count": 47,
      "outputs": []
    },
    {
      "cell_type": "code",
      "source": [
        "def tokens_to_strings(tokens, itos):\n",
        "  v = list()\n",
        "  for token in tokens:\n",
        "    try:\n",
        "      v.append(itos[token.item()])\n",
        "    except KeyError:\n",
        "      v.append('-unk-')\n",
        "  return [i for i in v if i != \"-unk-\"]"
      ],
      "metadata": {
        "id": "uknRunX5Cmlh"
      },
      "execution_count": 48,
      "outputs": []
    },
    {
      "cell_type": "code",
      "source": [
        "print(tokens_to_strings(src[0], itos_src))\n",
        "print(tokens_to_strings(trg[0], itos_trg))"
      ],
      "metadata": {
        "colab": {
          "base_uri": "https://localhost:8080/"
        },
        "id": "ILvF8HLbNHpT",
        "outputId": "f5f2f5d5-7fe1-4dde-d01e-d810d220da6c"
      },
      "execution_count": 49,
      "outputs": [
        {
          "output_type": "stream",
          "name": "stdout",
          "text": [
            "['ein', 'mann', 'steht', 'in', 'der', 'nähe', 'eines', 'und', 'hat', 'sein', 'graues', 'shirt', 'teilweise', 'über', 'seinen', 'kopf', 'gezogen', '.']\n",
            "['a', 'man', 'stands', 'near', 'a', 'pool', 'with', 'his', 'gray', 'shirt', 'partially', 'pulled', 'over', 'his', 'head', '.']\n"
          ]
        }
      ]
    },
    {
      "cell_type": "code",
      "source": [
        "src, trg = next(iter(valid_loader))"
      ],
      "metadata": {
        "id": "HIeDIhtZNHnL"
      },
      "execution_count": 50,
      "outputs": []
    },
    {
      "cell_type": "code",
      "source": [
        "print(tokens_to_strings(src[0], itos_src))\n",
        "print(tokens_to_strings(trg[0], itos_trg))"
      ],
      "metadata": {
        "colab": {
          "base_uri": "https://localhost:8080/"
        },
        "id": "qMcJH_waEipt",
        "outputId": "4099d867-19eb-4c48-ae0a-4e1b5ad35821"
      },
      "execution_count": 51,
      "outputs": [
        {
          "output_type": "stream",
          "name": "stdout",
          "text": [
            "['eine', 'gruppe', 'von', 'männern', 'lädt', 'auf', 'einen', 'lastwagen']\n",
            "['a', 'group', 'of', 'men', 'are', 'loading', 'cotton', 'onto', 'a', 'truck']\n"
          ]
        }
      ]
    },
    {
      "cell_type": "code",
      "source": [
        "src, trg = next(iter(test_loader))"
      ],
      "metadata": {
        "id": "Vd9J3Dq3Eo1M"
      },
      "execution_count": 52,
      "outputs": []
    },
    {
      "cell_type": "code",
      "source": [
        "print(tokens_to_strings(src[0], itos_src))\n",
        "print(tokens_to_strings(trg[0], itos_trg))"
      ],
      "metadata": {
        "colab": {
          "base_uri": "https://localhost:8080/"
        },
        "id": "ctwU7_UAEnOK",
        "outputId": "f7b1b680-ea53-4f02-a86d-51112336885a"
      },
      "execution_count": 53,
      "outputs": [
        {
          "output_type": "stream",
          "name": "stdout",
          "text": [
            "['ein', 'mann', 'mit', 'einem', 'orangefarbenen', 'hut', ',', 'der', 'etwas', '.']\n",
            "['a', 'man', 'in', 'an', 'orange', 'hat', 'starring', 'at', 'something', '.']\n"
          ]
        }
      ]
    },
    {
      "cell_type": "markdown",
      "source": [
        "### Sequence To Sequence Model\n",
        "\n",
        "We are going to build our model in `3` parts. The `econder`, `decoder` and `seq2seq`.\n",
        "\n",
        "### Encoder\n",
        "\n",
        "The changes here all within the forward method. It now accepts the `lengths` of the source sentences as well as the sentences themselves.\n",
        "\n",
        "> **Note**: We have only used need lengths for the `src` sentences in the encoder. \n",
        "\n",
        "Note that the tensor containing the lengths of the sequences must be a `CPU` tensor as of the latest version of PyTorch, which we explicitly do so with `to('cpu')`. "
      ],
      "metadata": {
        "id": "XO7m3irCV3HA"
      }
    },
    {
      "cell_type": "code",
      "execution_count": 54,
      "metadata": {
        "id": "1mt6XJgaNEv4"
      },
      "outputs": [],
      "source": [
        "class Encoder(nn.Module):\n",
        "  def __init__(self, input_dim, emb_dim, enc_hid_dim, dec_hid_dim, dropout):\n",
        "    super(Encoder, self).__init__()\n",
        "\n",
        "    self.embedding = nn.Embedding(input_dim, embedding_dim=emb_dim)\n",
        "    self.gru = nn.GRU(emb_dim, enc_hid_dim, bidirectional = True)\n",
        "    self.fc = nn.Linear(enc_hid_dim * 2, dec_hid_dim)\n",
        "    self.dropout = nn.Dropout(dropout)\n",
        "\n",
        "  def forward(self, src, src_len):\n",
        "    \"\"\" \n",
        "    src = [src len, batch size]\n",
        "    src_len = [batch size]\n",
        "    \"\"\"\n",
        "    embedded = self.dropout(self.embedding(src)) # embedded = [src len, batch size, emb dim]\n",
        "    # need to explicitly put lengths on cpu!\n",
        "    packed_embedded = nn.utils.rnn.pack_padded_sequence(embedded, src_len.to('cpu'))\n",
        "    packed_outputs, hidden = self.gru(packed_embedded)\n",
        "    \"\"\"\n",
        "    packed_outputs is a packed sequence containing all hidden states\n",
        "    hidden is now from the final non-padded element in the batch\n",
        "    \"\"\"\n",
        "    outputs, _ = nn.utils.rnn.pad_packed_sequence(packed_outputs) \n",
        "    \"\"\"\n",
        "    outputs is now a non-packed sequence, all hidden states obtained\n",
        "    when the input is a pad token are all zeros\n",
        "  \n",
        "    outputs = [src len, batch size, hid dim * num directions]\n",
        "    hidden = [n layers * num directions, batch size, hid dim]\n",
        "\n",
        "    hidden is stacked [forward_1, backward_1, forward_2, backward_2, ...]\n",
        "    outputs are always from the last layer\n",
        "\n",
        "    hidden [-2, :, : ] is the last of the forwards RNN \n",
        "    hidden [-1, :, : ] is the last of the backwards RNN\n",
        "\n",
        "    initial decoder hidden is final hidden state of the forwards and backwards \n",
        "    encoder RNNs fed through a linear layer\n",
        "    \"\"\"\n",
        "    hidden = torch.tanh(self.fc(torch.cat((hidden[-2,:,:], hidden[-1,:,:]), dim = 1)))\n",
        "\n",
        "    \"\"\"\n",
        "    outputs = [src len, batch size, enc hid dim * 2]\n",
        "    hidden = [batch size, dec hid dim]\n",
        "    \"\"\"\n",
        "    return outputs, hidden"
      ]
    },
    {
      "cell_type": "markdown",
      "source": [
        "### Attention Layer\n",
        "\n",
        "The attention module is where we calculate the attention values over the source sentence.\n",
        "\n",
        "Previously, we allowed this module to \"pay attention\" to padding tokens within the source sentence. However, using masking, we can force the attention to only be over non-padding elements.\n",
        "\n",
        "The forward method now takes a mask input. This is a `[batch size, source sentence length]` tensor that is 1 when the source sentence token is not a padding token, and 0 when it is a padding token. For example, if the source sentence is: `[\"hello\", \"how\", \"are\", \"you\", \"?\", <pad>, <pad>]`, then the mask would be `[1, 1, 1, 1, 1, 0, 0]`.\n",
        "\n",
        "We apply the `mask` after the attention has been calculated, but before it has been normalized by the softmax function. It is applied using `masked_fill`. This fills the tensor at each element where the first argument `(mask == 0)` is true, with the value given by the second argument `(-1e10)`. In other words, it will take the un-normalized attention values, and change the attention values over padded elements to be `-1e10`. As these numbers will be miniscule compared to the other values they will become zero when passed through the softmax layer, ensuring no attention is payed to padding tokens in the source sentence."
      ],
      "metadata": {
        "id": "7Wcy9r4albnp"
      }
    },
    {
      "cell_type": "code",
      "source": [
        "class Attention(nn.Module):\n",
        "  def __init__(self, enc_hid_dim, dec_hid_dim):\n",
        "    super(Attention, self).__init__()\n",
        "    self.attn = nn.Linear((enc_hid_dim * 2) + dec_hid_dim, dec_hid_dim)\n",
        "    self.v = nn.Linear(dec_hid_dim, 1, bias = False)\n",
        "\n",
        "  def forward(self, hidden, encoder_outputs, mask):\n",
        "    \"\"\"\n",
        "    hidden = [batch size, dec hid dim]\n",
        "    encoder_outputs = [src len, batch size, enc hid dim * 2]\n",
        "    \"\"\"\n",
        "    batch_size = encoder_outputs.shape[1]\n",
        "    src_len = encoder_outputs.shape[0]\n",
        "    # repeat decoder hidden state src_len times\n",
        "    hidden = hidden.unsqueeze(1).repeat(1, src_len, 1)\n",
        "    encoder_outputs = encoder_outputs.permute(1, 0, 2)\n",
        "\n",
        "    \"\"\"\n",
        "    hidden = [batch size, src len, dec hid dim]\n",
        "    encoder_outputs = [batch size, src len, enc hid dim * 2]\n",
        "    \"\"\"\n",
        "    energy = torch.tanh(self.attn(torch.cat((hidden, encoder_outputs), dim = 2))) # energy = [batch size, src len, dec hid dim]\n",
        "    attention = self.v(energy).squeeze(2) # attention= [batch size, src len]\n",
        "    attention = attention.masked_fill(mask == 0, -1e10)\n",
        "    return F.softmax(attention, dim=1)"
      ],
      "metadata": {
        "id": "Z2BiLxtMlxKN"
      },
      "execution_count": 55,
      "outputs": []
    },
    {
      "cell_type": "markdown",
      "source": [
        "### Decoder\n",
        "\n",
        "The decoder only needs a few small changes. It needs to accept a mask over the source sentence and pass this to the attention module. As we want to view the values of attention during inference, we also return the attention tensor."
      ],
      "metadata": {
        "id": "8P4rU5fuWqZr"
      }
    },
    {
      "cell_type": "code",
      "source": [
        "class Decoder(nn.Module):\n",
        "  def __init__(self, output_dim, emb_dim, enc_hid_dim, dec_hid_dim, dropout, attention):\n",
        "    super(Decoder, self).__init__()\n",
        "    self.output_dim = output_dim\n",
        "    self.attention = attention\n",
        "\n",
        "    self.embedding = nn.Embedding(output_dim, emb_dim)\n",
        "    self.gru = nn.GRU((enc_hid_dim * 2) + emb_dim, dec_hid_dim)\n",
        "    self.fc = nn.Linear((enc_hid_dim * 2) + dec_hid_dim + emb_dim, output_dim)\n",
        "    self.dropout = nn.Dropout(dropout)\n",
        "        \n",
        "  def forward(self, input, hidden, encoder_outputs, mask):\n",
        "    \"\"\"\n",
        "    input = [batch size]\n",
        "    hidden = [batch size, dec hid dim]\n",
        "    encoder_outputs = [src len, batch size, enc hid dim * 2]\n",
        "    mask = [batch size, src len]\n",
        "    \"\"\"\n",
        "    input = input.unsqueeze(0) # input = [1, batch size]\n",
        "    embedded = self.dropout(self.embedding(input)) # embedded = [1, batch size, emb dim]\n",
        "    a = self.attention(hidden, encoder_outputs, mask)# a = [batch size, src len]\n",
        "    a = a.unsqueeze(1) # a = [batch size, 1, src len]\n",
        "    encoder_outputs = encoder_outputs.permute(1, 0, 2) # encoder_outputs = [batch size, src len, enc hid dim * 2]\n",
        "    weighted = torch.bmm(a, encoder_outputs) # weighted = [batch size, 1, enc hid dim * 2]\n",
        "    weighted = weighted.permute(1, 0, 2) # weighted = [1, batch size, enc hid dim * 2]\n",
        "    rnn_input = torch.cat((embedded, weighted), dim = 2) # rnn_input = [1, batch size, (enc hid dim * 2) + emb dim]\n",
        "    output, hidden = self.gru(rnn_input, hidden.unsqueeze(0))\n",
        "    \n",
        "    \"\"\"\n",
        "    output = [seq len, batch size, dec hid dim * n directions]\n",
        "    hidden = [n layers * n directions, batch size, dec hid dim]\n",
        "    \n",
        "    seq len, n layers and n directions will always be 1 in this decoder, therefore:\n",
        "    output = [1, batch size, dec hid dim]\n",
        "    hidden = [1, batch size, dec hid dim]\n",
        "    this also means that output == hidden\n",
        "    \"\"\"\n",
        "    assert (output == hidden).all()\n",
        "    embedded = embedded.squeeze(0)\n",
        "    output = output.squeeze(0)\n",
        "    weighted = weighted.squeeze(0)\n",
        "\n",
        "    prediction = self.fc(torch.cat((output, weighted, embedded), dim = 1)) # prediction = [batch size, output dim]\n",
        "    return prediction, hidden.squeeze(0), a.squeeze(1)"
      ],
      "metadata": {
        "id": "LaFQTP3VfyS6"
      },
      "execution_count": 56,
      "outputs": []
    },
    {
      "cell_type": "markdown",
      "source": [
        "###Seq2Seq (Sequence to Sequence)\n",
        "\n",
        "The overarching `seq2seq` model also needs a few changes for packed padded sequences, masking and inference.\n",
        "\n",
        "We need to tell it what the indexes are for the pad token and also pass the source sentence lengths as input to the forward method.\n",
        "\n",
        "We use the pad token index to create the masks, by creating a mask tensor that is `1` wherever the source sentence is not equal to the pad token. This is all done within the `create_mask` function.\n",
        "\n",
        "The sequence lengths as needed to pass to the encoder to use packed padded sequences.\n",
        "\n",
        "The attention at each `time-step` is stored in the attentions"
      ],
      "metadata": {
        "id": "FI83ZV9gW7jp"
      }
    },
    {
      "cell_type": "code",
      "source": [
        "\n",
        "class Seq2Seq(nn.Module):\n",
        "  def __init__(self, encoder, decoder, src_pad_idx, device):\n",
        "    super().__init__()\n",
        "    self.encoder = encoder\n",
        "    self.decoder = decoder\n",
        "    self.device = device\n",
        "    self.src_pad_idx = src_pad_idx\n",
        "  \n",
        "  def create_mask(self, src):\n",
        "    mask = (src != self.src_pad_idx).permute(1, 0)\n",
        "    return mask\n",
        "  def forward(self, src, src_len, trg, teacher_forcing_ratio = 0.5):\n",
        "    \"\"\"\n",
        "    src = [src len, batch size]\n",
        "    src_len = [batch size]\n",
        "    trg = [trg len, batch size]\n",
        "    teacher_forcing_ratio is probability to use teacher forcing\n",
        "    e.g. if teacher_forcing_ratio is 0.75 we use teacher forcing 75% of the time\n",
        "    \"\"\"\n",
        "    trg_len, batch_size = trg.shape\n",
        "    trg_vocab_size = self.decoder.output_dim\n",
        "        \n",
        "    # tensor to store decoder outputs\n",
        "    outputs = torch.zeros(trg_len, batch_size, trg_vocab_size).to(self.device)\n",
        "    \"\"\"\n",
        "    encoder_outputs is all hidden states of the input sequence, back and forwards\n",
        "    hidden is the final forward and backward hidden states, passed through a linear layer\n",
        "    \"\"\"\n",
        "    encoder_outputs, hidden = self.encoder(src, src_len)     \n",
        "    # first input to the decoder is the <sos> tokens\n",
        "    input = trg[0,:]\n",
        "    mask = self.create_mask(src) # mask = [batch size, src len]\n",
        "    for t in range(1, trg_len):\n",
        "      # insert input token embedding, previous hidden state and all encoder hidden states and mask\n",
        "      # receive output tensor (predictions) and new hidden state\n",
        "      output, hidden, _ = self.decoder(input, hidden, encoder_outputs, mask)\n",
        "      \n",
        "      # place predictions in a tensor holding predictions for each token\n",
        "      outputs[t] = output\n",
        "      \n",
        "      # decide if we are going to use teacher forcing or not\n",
        "      teacher_force = random.random() < teacher_forcing_ratio\n",
        "      \n",
        "      # get the highest predicted token from our predictions\n",
        "      top1 = output.argmax(1) \n",
        "      \n",
        "      # if teacher forcing, use actual next token as next input\n",
        "      # if not, use predicted token\n",
        "      input = trg[t] if teacher_force else top1\n",
        "    return outputs"
      ],
      "metadata": {
        "id": "6s5GBR2cf5qq"
      },
      "execution_count": 57,
      "outputs": []
    },
    {
      "cell_type": "markdown",
      "source": [
        "### Training the `Seq2Seq`\n"
      ],
      "metadata": {
        "id": "6lTf8TlkXaY4"
      }
    },
    {
      "cell_type": "code",
      "source": [
        "INPUT_DIM = SRC_VOCAB_SIZE\n",
        "OUTPUT_DIM = TRG_VOCAB_SIZE\n",
        "ENC_EMB_DIM = DEC_EMB_DIM = 256\n",
        "ENC_HID_DIM = DEC_HID_DIM = 512\n",
        "ENC_DROPOUT = DEC_DROPOUT = 0.5\n",
        "SRC_PAD_IDX = stoi_src[\"-pad-\"]\n",
        "\n",
        "attn = Attention(ENC_HID_DIM, DEC_HID_DIM)\n",
        "enc = Encoder(INPUT_DIM, ENC_EMB_DIM, ENC_HID_DIM, DEC_HID_DIM, ENC_DROPOUT)\n",
        "dec = Decoder(OUTPUT_DIM, DEC_EMB_DIM, ENC_HID_DIM, DEC_HID_DIM, DEC_DROPOUT, attn)\n",
        "\n",
        "model = Seq2Seq(enc, dec, SRC_PAD_IDX, device).to(device)\n",
        "model\n"
      ],
      "metadata": {
        "colab": {
          "base_uri": "https://localhost:8080/"
        },
        "id": "baPnQEm-gF8Q",
        "outputId": "3e16ffb3-d398-4145-dc1a-aac569acf900"
      },
      "execution_count": 58,
      "outputs": [
        {
          "output_type": "execute_result",
          "data": {
            "text/plain": [
              "Seq2Seq(\n",
              "  (encoder): Encoder(\n",
              "    (embedding): Embedding(3554, 256)\n",
              "    (gru): GRU(256, 512, bidirectional=True)\n",
              "    (fc): Linear(in_features=1024, out_features=512, bias=True)\n",
              "    (dropout): Dropout(p=0.5, inplace=False)\n",
              "  )\n",
              "  (decoder): Decoder(\n",
              "    (attention): Attention(\n",
              "      (attn): Linear(in_features=1536, out_features=512, bias=True)\n",
              "      (v): Linear(in_features=512, out_features=1, bias=False)\n",
              "    )\n",
              "    (embedding): Embedding(3275, 256)\n",
              "    (gru): GRU(1280, 512)\n",
              "    (fc): Linear(in_features=1792, out_features=3275, bias=True)\n",
              "    (dropout): Dropout(p=0.5, inplace=False)\n",
              "  )\n",
              ")"
            ]
          },
          "metadata": {},
          "execution_count": 58
        }
      ]
    },
    {
      "cell_type": "markdown",
      "source": [
        "### Counting model parameters.\n",
        "We are going to use the `model_params` function from `helperfns` to count model parameters."
      ],
      "metadata": {
        "id": "ECIe6GB4Xoyu"
      }
    },
    {
      "cell_type": "code",
      "source": [
        "model_params(model)"
      ],
      "metadata": {
        "colab": {
          "base_uri": "https://localhost:8080/"
        },
        "id": "LdJM5MUagWd-",
        "outputId": "16b69b42-56e3-486c-82c4-1349fc23e012"
      },
      "execution_count": 59,
      "outputs": [
        {
          "output_type": "stream",
          "name": "stdout",
          "text": [
            "TOTAL MODEL PARAMETERS: \t14,053,579\n",
            "TOTAL TRAINABLE PARAMETERS: \t14,053,579\n"
          ]
        }
      ]
    },
    {
      "cell_type": "markdown",
      "source": [
        "### Initializing the weights\n",
        "here, we will initialize all biases to zero and all weights from $N(0, 0.01)$."
      ],
      "metadata": {
        "id": "Xlq89hwvswai"
      }
    },
    {
      "cell_type": "code",
      "source": [
        "def init_weights(m):\n",
        "  for name, param in m.named_parameters():\n",
        "    if 'weight' in name:\n",
        "        nn.init.normal_(param.data, mean=0, std=0.01)\n",
        "    else:\n",
        "        nn.init.constant_(param.data, 0)   \n",
        "model.apply(init_weights)"
      ],
      "metadata": {
        "colab": {
          "base_uri": "https://localhost:8080/"
        },
        "id": "GVbc6_fOge1Z",
        "outputId": "dc3ec435-1155-44db-e518-a9cb6058e205"
      },
      "execution_count": 60,
      "outputs": [
        {
          "output_type": "execute_result",
          "data": {
            "text/plain": [
              "Seq2Seq(\n",
              "  (encoder): Encoder(\n",
              "    (embedding): Embedding(3554, 256)\n",
              "    (gru): GRU(256, 512, bidirectional=True)\n",
              "    (fc): Linear(in_features=1024, out_features=512, bias=True)\n",
              "    (dropout): Dropout(p=0.5, inplace=False)\n",
              "  )\n",
              "  (decoder): Decoder(\n",
              "    (attention): Attention(\n",
              "      (attn): Linear(in_features=1536, out_features=512, bias=True)\n",
              "      (v): Linear(in_features=512, out_features=1, bias=False)\n",
              "    )\n",
              "    (embedding): Embedding(3275, 256)\n",
              "    (gru): GRU(1280, 512)\n",
              "    (fc): Linear(in_features=1792, out_features=3275, bias=True)\n",
              "    (dropout): Dropout(p=0.5, inplace=False)\n",
              "  )\n",
              ")"
            ]
          },
          "metadata": {},
          "execution_count": 60
        }
      ]
    },
    {
      "cell_type": "markdown",
      "source": [
        "### Optimizer\n",
        "For the optimizer we are going to use the `Adam` optimizer with default parameters."
      ],
      "metadata": {
        "id": "WUPE1wJsZBos"
      }
    },
    {
      "cell_type": "code",
      "source": [
        "optimizer = torch.optim.Adam(model.parameters())"
      ],
      "metadata": {
        "id": "qJDxezzQgeyv"
      },
      "execution_count": 61,
      "outputs": []
    },
    {
      "cell_type": "markdown",
      "source": [
        "### Criterion\n",
        "Next, we define our loss function. The `CrossEntropyLoss` function calculates both the log softmax as well as the negative log-likelihood of our predictions.\n",
        "\n",
        "Our loss function calculates the average loss per token, however by passing the index of the `<pad>` token as the `ignore_index` argument we ignore the loss whenever the target token is a padding token."
      ],
      "metadata": {
        "id": "le7qmEbMZQEl"
      }
    },
    {
      "cell_type": "code",
      "source": [
        "TRG_PAD_IDX = stoi_trg[\"-pad-\"]\n",
        "criterion = nn.CrossEntropyLoss(ignore_index = TRG_PAD_IDX)"
      ],
      "metadata": {
        "id": "ODrdgxuigev7"
      },
      "execution_count": 62,
      "outputs": []
    },
    {
      "cell_type": "markdown",
      "source": [
        "### Train Loop\n",
        "\n",
        "Lets's first create a function that collects all gabages and clears the gabage together with empting cuda cache.\n"
      ],
      "metadata": {
        "id": "RlUORlJ-Z36j"
      }
    },
    {
      "cell_type": "code",
      "source": [
        "def clear_gpu_memory():\n",
        "  torch.cuda.empty_cache()\n",
        "  variables = gc.collect()\n",
        "  del variables"
      ],
      "metadata": {
        "id": "iqP9ivl_01El"
      },
      "execution_count": 63,
      "outputs": []
    },
    {
      "cell_type": "code",
      "source": [
        "def train(model, iterator, optimizer, criterion, clip):\n",
        "  model.train()\n",
        "  epoch_loss = 0\n",
        "  for i, (src, trg) in enumerate(iterator):\n",
        "    src = src.to(device)\n",
        "    src_length = torch.tensor([len(s) for s in src], dtype=torch.int32)\n",
        "    trg = trg.to(device)\n",
        "    trg = trg.permute(1, 0)\n",
        "    src = src.permute(1, 0)\n",
        "    optimizer.zero_grad()\n",
        "    output = model(src, src_length, trg)\n",
        "    # trg = [trg len, batch size]\n",
        "    # output = [trg len, batch size, output dim]\n",
        "    output_dim = output.shape[-1]\n",
        "    output = output[1:].view(-1, output_dim)\n",
        "    trg = trg[1:].contiguous().view(-1)\n",
        "    # trg = [(trg len - 1) * batch size]\n",
        "    # output = [(trg len - 1) * batch size, output dim]\n",
        "    loss = criterion(output, trg)\n",
        "    loss.backward()\n",
        "    torch.nn.utils.clip_grad_norm_(model.parameters(), clip)\n",
        "    optimizer.step()\n",
        "    epoch_loss += loss.item()\n",
        "    clear_gpu_memory()\n",
        "  return epoch_loss / len(iterator)"
      ],
      "metadata": {
        "id": "Nj8aeGdzgeuK"
      },
      "execution_count": 64,
      "outputs": []
    },
    {
      "cell_type": "markdown",
      "source": [
        "### Evaluation Funtion\n"
      ],
      "metadata": {
        "id": "Zv6TJ82padrH"
      }
    },
    {
      "cell_type": "code",
      "source": [
        "def evaluate(model, iterator, criterion):\n",
        "  model.eval()\n",
        "  epoch_loss = 0\n",
        "  with torch.no_grad():\n",
        "    for i, (src, trg) in enumerate(iterator):\n",
        "      src = src.to(device)\n",
        "      src_length = torch.tensor([len(s) for s in src], dtype=torch.int32)\n",
        "      trg = trg.to(device)\n",
        "      trg = trg.permute(1, 0)\n",
        "      src = src.permute(1, 0)\n",
        "      output = model(src, src_length, trg, 0) # turn off teacher forcing\n",
        "      # trg = [trg len, batch size]\n",
        "      # output = [trg len, batch size, output dim]\n",
        "      output_dim = output.shape[-1]\n",
        "      output = output[1:].view(-1, output_dim)\n",
        "      trg = trg[1:].contiguous().view(-1)\n",
        "      # trg = [(trg len - 1) * batch size]\n",
        "      # output = [(trg len - 1) * batch size, output dim]\n",
        "      loss = criterion(output, trg)\n",
        "      epoch_loss += loss.item()\n",
        "      clear_gpu_memory()\n",
        "  return epoch_loss / len(iterator)"
      ],
      "metadata": {
        "id": "g_F2Wbwjgerf"
      },
      "execution_count": 65,
      "outputs": []
    },
    {
      "cell_type": "markdown",
      "source": [
        "### Running the training loop.\n",
        "During training we are going to visualize our training metrics in tabular form. We are going to save the best model if and only if the previous validation loss is less greater than the current epoch validation loss."
      ],
      "metadata": {
        "id": "kZ9AofNAgdhP"
      }
    },
    {
      "cell_type": "code",
      "source": [
        "N_EPOCHS = 10\n",
        "CLIP = 1\n",
        "best_valid_loss = float('inf')\n",
        "MODEL_NAME = 'best-model.pt'\n",
        "for epoch in range(N_EPOCHS):\n",
        "    start = time.time()\n",
        "    train_loss = train(model, train_loader, optimizer, criterion, CLIP)\n",
        "    valid_loss = evaluate(model, valid_loader, criterion)\n",
        "    title = f\"EPOCH: {epoch+1:02}/{N_EPOCHS:02} {'saving best model...' if valid_loss < best_valid_loss else 'not saving...'}\"\n",
        "    end = time.time()\n",
        "    if valid_loss < best_valid_loss:\n",
        "        best_valid_loss = valid_loss\n",
        "        torch.save(model.state_dict(), MODEL_NAME)\n",
        "    data = [\n",
        "       [\"Training\", f'{train_loss:.3f}', f'{math.exp(train_loss):7.3f}', f\"{utils.hms_string(end - start)}\" ],\n",
        "       [\"Validation\", f'{valid_loss:.3f}', f'{math.exp(valid_loss):7.3f}', \"\" ],       \n",
        "   ]\n",
        "    columns = [\"CATEGORY\", \"LOSS\", \"PPL\", \"ETA\"]\n",
        "    print(title)\n",
        "    tables.tabulate_data(columns, data, title)"
      ],
      "metadata": {
        "id": "yIttAnWchY6f",
        "colab": {
          "base_uri": "https://localhost:8080/"
        },
        "outputId": "1ff3d55b-0cda-456f-d5f4-b73decd16dd1"
      },
      "execution_count": 66,
      "outputs": [
        {
          "output_type": "stream",
          "name": "stdout",
          "text": [
            "EPOCH: 01/10 saving best model...\n",
            "+------------+-------+---------+------------+\n",
            "| CATEGORY   |  LOSS |     PPL |        ETA |\n",
            "+------------+-------+---------+------------+\n",
            "| Training   | 0.722 |   2.058 | 0:12:53.87 |\n",
            "| Validation | 0.638 |   1.892 |            |\n",
            "+------------+-------+---------+------------+\n",
            "EPOCH: 02/10 saving best model...\n",
            "+------------+-------+---------+------------+\n",
            "| CATEGORY   |  LOSS |     PPL |        ETA |\n",
            "+------------+-------+---------+------------+\n",
            "| Training   | 0.525 |   1.690 | 0:12:51.62 |\n",
            "| Validation | 0.566 |   1.761 |            |\n",
            "+------------+-------+---------+------------+\n",
            "EPOCH: 03/10 saving best model...\n",
            "+------------+-------+---------+------------+\n",
            "| CATEGORY   |  LOSS |     PPL |        ETA |\n",
            "+------------+-------+---------+------------+\n",
            "| Training   | 0.432 |   1.540 | 0:12:52.92 |\n",
            "| Validation | 0.503 |   1.654 |            |\n",
            "+------------+-------+---------+------------+\n",
            "EPOCH: 04/10 saving best model...\n",
            "+------------+-------+---------+------------+\n",
            "| CATEGORY   |  LOSS |     PPL |        ETA |\n",
            "+------------+-------+---------+------------+\n",
            "| Training   | 0.362 |   1.437 | 0:12:52.91 |\n",
            "| Validation | 0.469 |   1.599 |            |\n",
            "+------------+-------+---------+------------+\n",
            "EPOCH: 05/10 saving best model...\n",
            "+------------+-------+---------+------------+\n",
            "| CATEGORY   |  LOSS |     PPL |        ETA |\n",
            "+------------+-------+---------+------------+\n",
            "| Training   | 0.318 |   1.375 | 0:12:53.87 |\n",
            "| Validation | 0.441 |   1.554 |            |\n",
            "+------------+-------+---------+------------+\n",
            "EPOCH: 06/10 saving best model...\n",
            "+------------+-------+---------+------------+\n",
            "| CATEGORY   |  LOSS |     PPL |        ETA |\n",
            "+------------+-------+---------+------------+\n",
            "| Training   | 0.284 |   1.329 | 0:12:52.62 |\n",
            "| Validation | 0.438 |   1.550 |            |\n",
            "+------------+-------+---------+------------+\n",
            "EPOCH: 07/10 not saving...\n",
            "+------------+-------+---------+------------+\n",
            "| CATEGORY   |  LOSS |     PPL |        ETA |\n",
            "+------------+-------+---------+------------+\n",
            "| Training   | 0.256 |   1.292 | 0:12:54.83 |\n",
            "| Validation | 0.440 |   1.552 |            |\n",
            "+------------+-------+---------+------------+\n",
            "EPOCH: 08/10 not saving...\n",
            "+------------+-------+---------+------------+\n",
            "| CATEGORY   |  LOSS |     PPL |        ETA |\n",
            "+------------+-------+---------+------------+\n",
            "| Training   | 0.232 |   1.261 | 0:12:57.11 |\n",
            "| Validation | 0.442 |   1.556 |            |\n",
            "+------------+-------+---------+------------+\n",
            "EPOCH: 09/10 not saving...\n",
            "+------------+-------+---------+------------+\n",
            "| CATEGORY   |  LOSS |     PPL |        ETA |\n",
            "+------------+-------+---------+------------+\n",
            "| Training   | 0.212 |   1.236 | 0:12:55.11 |\n",
            "| Validation | 0.452 |   1.571 |            |\n",
            "+------------+-------+---------+------------+\n",
            "EPOCH: 10/10 not saving...\n",
            "+------------+-------+---------+------------+\n",
            "| CATEGORY   |  LOSS |     PPL |        ETA |\n",
            "+------------+-------+---------+------------+\n",
            "| Training   | 0.193 |   1.213 | 0:12:55.65 |\n",
            "| Validation | 0.464 |   1.591 |            |\n",
            "+------------+-------+---------+------------+\n"
          ]
        }
      ]
    },
    {
      "cell_type": "markdown",
      "source": [
        "### Evaluating the Best Model\n",
        "\n",
        "In the following code cell we are going to evaluate the best model."
      ],
      "metadata": {
        "id": "nmGj2TFZcdO9"
      }
    },
    {
      "cell_type": "code",
      "source": [
        "column_names = [\"Set\", \"Loss\", \"PPL\", \"ETA (time)\"]\n",
        "model.load_state_dict(torch.load(MODEL_NAME))\n",
        "test_loss= evaluate(model, test_loader, criterion)\n",
        "title = \"Model Evaluation Summary\"\n",
        "data_rows = [[\"Test\", f'{test_loss:.3f}', f'{math.exp(test_loss):7.3f}', \"\"]]\n",
        "\n",
        "tables.tabulate_data(column_names, data_rows, title)"
      ],
      "metadata": {
        "id": "ncbUrUC3hZgG",
        "colab": {
          "base_uri": "https://localhost:8080/"
        },
        "outputId": "663f49f8-3117-4704-b81f-b69d21ce8702"
      },
      "execution_count": 67,
      "outputs": [
        {
          "output_type": "stream",
          "name": "stdout",
          "text": [
            "+------+-------+---------+------------+\n",
            "| Set  |  Loss |     PPL | ETA (time) |\n",
            "+------+-------+---------+------------+\n",
            "| Test | 0.443 |   1.558 |            |\n",
            "+------+-------+---------+------------+\n"
          ]
        }
      ]
    },
    {
      "cell_type": "markdown",
      "source": [
        "\n",
        "### Model Inference\n",
        "\n",
        "Now we can use our trained model to generate translations.\n",
        "\n",
        "They have been cherry picked in order to show off what attention should look like on a sufficiently sized model.\n",
        "\n",
        "Our `translate_sentence` function will do the following:\n",
        "\n",
        "* ensure our model is in evaluation mode, which it should always be for inference\n",
        "* tokenize the source sentence if it has not been tokenized (is a string)\n",
        "numericalize the source sentence\n",
        "* convert it to a tensor and add a batch dimension\n",
        "* get the length of the source sentence and convert to a tensor\n",
        "* feed the source sentence into the encoder\n",
        "* create the mask for the source sentence\n",
        "* create a list to hold the output sentence, initialized with an `<sos>` token\n",
        "* create a tensor to hold the attention values\n",
        "* while we have not hit a maximum length\n",
        "  * get the input tensor, which should be either `<sos>` or the last predicted token\n",
        "  * feed the input, all encoder outputs, hidden state and mask into the decoder\n",
        "store attention values\n",
        "  * get the predicted next token\n",
        "  * add prediction to current output sentence prediction\n",
        "  * break if the prediction was an `<eos>` token\n",
        "* convert the output sentence from indexes to tokens\n",
        "* return the output sentence (with the `<sos>` token removed) and the attention values over the sequence."
      ],
      "metadata": {
        "id": "JzLCGynMc5eO"
      }
    },
    {
      "cell_type": "code",
      "source": [
        "itos_trg = {v:k for k, v in stoi_trg.items()}"
      ],
      "metadata": {
        "id": "M3IeSr-rVpwN"
      },
      "execution_count": 68,
      "outputs": []
    },
    {
      "cell_type": "code",
      "source": [
        "\n",
        "def translate_sentence(sent, stoi_src, stoi_trg, model, device, max_len=50):\n",
        "  model.eval()\n",
        "  if isinstance(sent, str):\n",
        "    tokens = [token for token in tokenize_de(sent.lower())]\n",
        "  else:\n",
        "    tokens = [token.lower() for token in sent]\n",
        "  tokens = [\"-sos-\"] + tokens + [\"-eos-\"]\n",
        "  src_indexes = [stoi_src[token] if token in stoi_src else stoi_src[\"-unk-\"]  for token in tokens]\n",
        "  src_tensor = torch.LongTensor(src_indexes).unsqueeze(1).to(device)\n",
        "  src_len = torch.LongTensor([len(src_indexes)])\n",
        "\n",
        "  with torch.no_grad():\n",
        "    encoder_outputs, hidden = model.encoder(src_tensor, src_len)\n",
        "\n",
        "  mask = model.create_mask(src_tensor)\n",
        "  trg_indexes = [stoi_trg['-sos-']]\n",
        "  attentions = torch.zeros(max_len, 1, len(src_indexes)).to(device)\n",
        "\n",
        "  for i in range(max_len):\n",
        "    trg_tensor = torch.LongTensor([trg_indexes[-1]]).to(device)\n",
        "    with torch.no_grad():\n",
        "      output, hidden, attention = model.decoder(trg_tensor, hidden, encoder_outputs, mask)\n",
        "\n",
        "    attentions[i] = attention\n",
        "    pred_token = output.argmax(1).item()\n",
        "    trg_indexes.append(pred_token)\n",
        "\n",
        "    if pred_token == stoi_trg['-eos-']:\n",
        "       break\n",
        "  trg_tokens = [itos_trg[i] for i in trg_indexes if itos_trg[i] != \"-unk-\"]\n",
        "\n",
        "  return trg_tokens, attentions[:len(trg_tokens)-1]"
      ],
      "metadata": {
        "id": "hwmFRXpeidME"
      },
      "execution_count": 73,
      "outputs": []
    },
    {
      "cell_type": "markdown",
      "source": [
        "Next, we'll make a function that displays the model's attention over the source sentence for each target token generated."
      ],
      "metadata": {
        "id": "MW7WqQlDI6KZ"
      }
    },
    {
      "cell_type": "code",
      "source": [
        "import matplotlib.ticker as ticker\n",
        "\n",
        "def display_attention(sentence, translation, attention):\n",
        "  fig = plt.figure(figsize=(10,10))\n",
        "  ax = fig.add_subplot(111)\n",
        "  attention = attention.squeeze(1).cpu().detach().numpy()\n",
        "  cax = ax.matshow(attention, cmap='bone')\n",
        "  ax.tick_params(labelsize=15)\n",
        "  x_ticks = [''] + ['-sos-'] + [t.lower() for t in tokenize_de(sentence)] + ['-eos-']\n",
        "  y_ticks = [''] + translation\n",
        "  ax.set_xticklabels(x_ticks, rotation=45)\n",
        "  ax.set_yticklabels(y_ticks)\n",
        "  ax.xaxis.set_major_locator(ticker.MultipleLocator(1))\n",
        "  ax.yaxis.set_major_locator(ticker.MultipleLocator(1))\n",
        "  plt.show()\n",
        "  plt.close()"
      ],
      "metadata": {
        "id": "0HtraZcmI1j3"
      },
      "execution_count": 74,
      "outputs": []
    },
    {
      "cell_type": "markdown",
      "source": [
        "Now, we'll grab some translations from our dataset and see how well our model did. Note, we're going to cherry pick examples here so it gives us something interesting to look at, but feel free to change the `example_idx` value to look at different examples.\n",
        "\n",
        "First, we'll get a source and target from our dataset."
      ],
      "metadata": {
        "id": "Mx9SKhoWJTtp"
      }
    },
    {
      "cell_type": "code",
      "source": [
        "example_idx = 0\n",
        "\n",
        "src = train_src[example_idx]\n",
        "trg = train_trg[example_idx]\n",
        "print(f'src = {src}')\n",
        "print(f'trg = {trg}')"
      ],
      "metadata": {
        "colab": {
          "base_uri": "https://localhost:8080/"
        },
        "id": "qKngDWtlJTTN",
        "outputId": "debe7cb2-9b55-49c5-f05c-9f384b48c2d3"
      },
      "execution_count": 75,
      "outputs": [
        {
          "output_type": "stream",
          "name": "stdout",
          "text": [
            "src = Zwei junge weiße Männer sind im Freien in der Nähe vieler Büsche.\n",
            "trg = Two young, White males are outside near many bushes.\n"
          ]
        }
      ]
    },
    {
      "cell_type": "markdown",
      "source": [
        "Then we'll use our `translate_sentence` function to get our predicted translation and attention. We show this graphically by having the source sentence on the x-axis and the predicted translation on the y-axis. The lighter the square at the intersection between two words, the more attention the model gave to that source word when translating that target word.\n",
        "\n",
        "Below is an example the model attempted to translate."
      ],
      "metadata": {
        "id": "rcKhAjX9JtN6"
      }
    },
    {
      "cell_type": "code",
      "source": [
        "tokens, attention = translate_sentence(src,  stoi_src, stoi_trg, model, device)\n",
        "print(tokens)"
      ],
      "metadata": {
        "colab": {
          "base_uri": "https://localhost:8080/"
        },
        "id": "L8b4GT1XI1hE",
        "outputId": "dcf9f261-bac6-46a8-8a5e-b840726c24cc"
      },
      "execution_count": 76,
      "outputs": [
        {
          "output_type": "stream",
          "name": "stdout",
          "text": [
            "['-sos-', 'young', 'white', 'males', 'are', 'outside', 'near', 'near', 'bushes', 'near', 'bushes', '.']\n"
          ]
        }
      ]
    },
    {
      "cell_type": "code",
      "source": [
        "display_attention(src, tokens, attention)"
      ],
      "metadata": {
        "colab": {
          "base_uri": "https://localhost:8080/",
          "height": 760
        },
        "id": "numhSPJ-KJdE",
        "outputId": "05a4063e-a763-424d-960e-01cb1c7a4ce6"
      },
      "execution_count": 77,
      "outputs": [
        {
          "output_type": "stream",
          "name": "stderr",
          "text": [
            "<ipython-input-74-78c5c7df9fd7>:11: UserWarning: FixedFormatter should only be used together with FixedLocator\n",
            "  ax.set_xticklabels(x_ticks, rotation=45)\n",
            "<ipython-input-74-78c5c7df9fd7>:12: UserWarning: FixedFormatter should only be used together with FixedLocator\n",
            "  ax.set_yticklabels(y_ticks)\n"
          ]
        },
        {
          "output_type": "display_data",
          "data": {
            "text/plain": [
              "<Figure size 1000x1000 with 1 Axes>"
            ],
            "image/png": "[encoded data removed]"
          },
          "metadata": {}
        }
      ]
    },
    {
      "cell_type": "markdown",
      "source": [
        "### Validation example."
      ],
      "metadata": {
        "id": "AyRXUDfhKG-G"
      }
    },
    {
      "cell_type": "code",
      "source": [
        "example_idx = 0\n",
        "\n",
        "src = valid_src[example_idx]\n",
        "trg = valid_trg[example_idx]\n",
        "print(f'src = {src}')\n",
        "print(f'trg = {trg}')"
      ],
      "metadata": {
        "colab": {
          "base_uri": "https://localhost:8080/"
        },
        "id": "QFe8flzSI1e8",
        "outputId": "7d19ca43-db53-4e05-e76f-7d6838cec7fb"
      },
      "execution_count": 78,
      "outputs": [
        {
          "output_type": "stream",
          "name": "stdout",
          "text": [
            "src = Eine Gruppe von Männern lädt Baumwolle auf einen Lastwagen\n",
            "trg = A group of men are loading cotton onto a truck\n"
          ]
        }
      ]
    },
    {
      "cell_type": "code",
      "source": [
        "tokens, attention = translate_sentence(src, stoi_src, stoi_trg, model, device)\n",
        "print(tokens)"
      ],
      "metadata": {
        "colab": {
          "base_uri": "https://localhost:8080/"
        },
        "id": "yM83g7lAKdWF",
        "outputId": "e4a44964-c0a3-4a53-f64b-6da1d4fa2931"
      },
      "execution_count": 79,
      "outputs": [
        {
          "output_type": "stream",
          "name": "stdout",
          "text": [
            "['-sos-', 'a', 'on', 'a', 'truck', 'that', 'has', 'a']\n"
          ]
        }
      ]
    },
    {
      "cell_type": "code",
      "source": [
        "display_attention(src, tokens, attention)"
      ],
      "metadata": {
        "colab": {
          "base_uri": "https://localhost:8080/",
          "height": 708
        },
        "id": "Ec-U6dywKc8z",
        "outputId": "5ac71a0d-67b7-4ffe-e8d5-3db2e4de33a9"
      },
      "execution_count": 80,
      "outputs": [
        {
          "output_type": "stream",
          "name": "stderr",
          "text": [
            "<ipython-input-74-78c5c7df9fd7>:11: UserWarning: FixedFormatter should only be used together with FixedLocator\n",
            "  ax.set_xticklabels(x_ticks, rotation=45)\n",
            "<ipython-input-74-78c5c7df9fd7>:12: UserWarning: FixedFormatter should only be used together with FixedLocator\n",
            "  ax.set_yticklabels(y_ticks)\n"
          ]
        },
        {
          "output_type": "display_data",
          "data": {
            "text/plain": [
              "<Figure size 1000x1000 with 1 Axes>"
            ],
            "image/png": "[encoded data removed]"
          },
          "metadata": {}
        }
      ]
    },
    {
      "cell_type": "markdown",
      "source": [
        "### Test Example"
      ],
      "metadata": {
        "id": "4CW5w30ZKW9b"
      }
    },
    {
      "cell_type": "code",
      "source": [
        "example_idx = 0\n",
        "\n",
        "src = test_src[example_idx]\n",
        "trg = test_trg[example_idx]\n",
        "print(f'src = {src}')\n",
        "print(f'trg = {trg}')"
      ],
      "metadata": {
        "colab": {
          "base_uri": "https://localhost:8080/"
        },
        "id": "sGdQZW2KI1bR",
        "outputId": "43e8a233-a582-43b0-b10b-8f56da86ace4"
      },
      "execution_count": 81,
      "outputs": [
        {
          "output_type": "stream",
          "name": "stdout",
          "text": [
            "src = Ein Mann mit einem orangefarbenen Hut, der etwas anstarrt.\n",
            "trg = A man in an orange hat starring at something.\n"
          ]
        }
      ]
    },
    {
      "cell_type": "code",
      "source": [
        "tokens, attention = translate_sentence(src,  stoi_src, stoi_trg, model, device)\n",
        "print(tokens)"
      ],
      "metadata": {
        "colab": {
          "base_uri": "https://localhost:8080/"
        },
        "id": "nVOltNY1I1Va",
        "outputId": "5a6bd478-aed1-46c0-c211-0a5ff0dc083d"
      },
      "execution_count": 82,
      "outputs": [
        {
          "output_type": "stream",
          "name": "stdout",
          "text": [
            "['-sos-', 'man', 'wearing', 'an', 'hat', 'hat', 'something', 'something']\n"
          ]
        }
      ]
    },
    {
      "cell_type": "code",
      "source": [
        "display_attention(src, tokens, attention)"
      ],
      "metadata": {
        "colab": {
          "base_uri": "https://localhost:8080/",
          "height": 670
        },
        "id": "d-RkrlylKnlw",
        "outputId": "db149687-e208-483e-8af0-c8d2502d3d4d"
      },
      "execution_count": 83,
      "outputs": [
        {
          "output_type": "stream",
          "name": "stderr",
          "text": [
            "<ipython-input-74-78c5c7df9fd7>:11: UserWarning: FixedFormatter should only be used together with FixedLocator\n",
            "  ax.set_xticklabels(x_ticks, rotation=45)\n",
            "<ipython-input-74-78c5c7df9fd7>:12: UserWarning: FixedFormatter should only be used together with FixedLocator\n",
            "  ax.set_yticklabels(y_ticks)\n"
          ]
        },
        {
          "output_type": "display_data",
          "data": {
            "text/plain": [
              "<Figure size 1000x1000 with 1 Axes>"
            ],
            "image/png": "[encoded data removed]"
          },
          "metadata": {}
        }
      ]
    },
    {
      "cell_type": "markdown",
      "source": [
        "### The `BLUE` Matric\n",
        "\n",
        "Previously we have only cared about the `loss/perplexity` of the model. However there metrics that are specifically designed for measuring the quality of a translation - the most popular is `BLEU`. Without going into too much detail, BLEU looks at the overlap in the predicted and actual target sequences in terms of their n-grams. It will give us a number between `0` and `1` for each sequence, where `1` means there is perfect overlap, i.e. a perfect translation, although is usually shown between `0` and `100`. BLEU was designed for multiple candidate translations per source sequence, however in this dataset we only have one candidate per source.\n",
        "\n",
        "We define a `calculate_bleu` function which calculates the `BLEU` score over a provided TorchText dataset. This function creates a corpus of the actual and predicted translation for each source sentence and then calculates the BLEU score.\n"
      ],
      "metadata": {
        "id": "FvXmuphXK1Hl"
      }
    },
    {
      "cell_type": "code",
      "source": [
        "from torchtext.data.metrics import bleu_score\n",
        "def calculate_bleu(data, src_field, trg_field, model, device, max_len = 50):\n",
        "  trgs = []\n",
        "  pred_trgs = []\n",
        "  for (src, trg) in data:\n",
        "    pred_trg, _ = translate_sentence(src, src_field, trg_field, model, device, max_len)\n",
        "    # cut off <eos> token\n",
        "    pred_trg = pred_trg[:-1]\n",
        "    pred_trgs.append(pred_trg)\n",
        "    trgs.append([trg])\n",
        "  return bleu_score(pred_trgs, trgs)"
      ],
      "metadata": {
        "id": "OjxSJWdILLS2"
      },
      "execution_count": 84,
      "outputs": []
    },
    {
      "cell_type": "markdown",
      "source": [
        "This number isn't really interpretable, we can't really say much about it. The most useful part of a BLEU score is that it can be used to compare different models on the same dataset, where the one with the higher **BLEU score is \"better\"**."
      ],
      "metadata": {
        "id": "KnTzVvmPLuVo"
      }
    },
    {
      "cell_type": "code",
      "source": [
        "bleu_score = calculate_bleu(zip(test_src, test_trg), stoi_src, stoi_trg, model, device)\n",
        "print(f'BLEU score = {bleu_score*100:.2f}')"
      ],
      "metadata": {
        "colab": {
          "base_uri": "https://localhost:8080/"
        },
        "id": "yNp06eS9Le9Q",
        "outputId": "6c206c0e-d00f-49a4-d802-0d4737f004b5"
      },
      "execution_count": 85,
      "outputs": [
        {
          "output_type": "stream",
          "name": "stdout",
          "text": [
            "BLEU score = 0.00\n"
          ]
        }
      ]
    },
    {
      "cell_type": "markdown",
      "source": [
        "### What's Next?\n",
        "In the next notebook we will be moving away from using recurrent neural networks and start looking at other ways to construct sequence-to-sequence models. Specifically, in the next notebook we will be using convolutional neural networks."
      ],
      "metadata": {
        "id": "FU4-wQoxLmf9"
      }
    },
    {
      "cell_type": "code",
      "source": [],
      "metadata": {
        "id": "_7W3i_06Lpta"
      },
      "execution_count": null,
      "outputs": []
    }
  ]
}