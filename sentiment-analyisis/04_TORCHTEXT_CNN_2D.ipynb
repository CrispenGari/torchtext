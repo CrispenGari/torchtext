{
  "cells": [
    {
      "cell_type": "markdown",
      "source": [
        "### Torchtext Covulutinal Neural Nets (CNN) (Conv2d)\n",
        "\n",
        "In this notebook we are going to use `Covulutinal Neural Nets (CNN)` to create a model that classifu emotions on text data. `CNNs` are not a good choice to process sequential data but in this notebook we are going to learn how to use them in text classification. \n",
        "\n",
        "> This notebook will look similar from the previous notebooks, we are only going to modify few things. In this notebook we are going to make use of the `Conv2D` layer in the next notebook we are going to use the `Conv1D` layer in text classification.\n",
        "\n",
        "### Reference Notebooks\n",
        "\n",
        "The following notebooks are going to be used as refence in this notebook.\n",
        "\n",
        "1. [04_CNN_Sentiment_Analyisis.ipynb](https://github.com/CrispenGari/pytorch-python/blob/main/09_NLP/02_Sentiment_Analyisis_Series/04_CNN_Sentiment_Analyisis.ipynb)\n",
        "2. [00_BiLSTM_PRE_TRAINED_EMBEDDING_VECTORS.ipynb](https://github.com/CrispenGari/torchtext/blob/main/sentiment-analyisis/00_BiLSTM_PRE_TRAINED_EMBEDDING_VECTORS.ipynb)\n",
        "\n",
        "\n",
        "###  Installation of Packages\n",
        "\n",
        "In the following code cell we are going to install the packages that we are going to use in this notebook which are `helperfns` and `emoji`. The `emoji` package allows us to get emoji text and we will use it later on in this notebook. The `helperfns` package allows us to get some machine learning helper function which we are also going to use in this notebook as well."
      ],
      "metadata": {
        "id": "1aKlPSIJdlYM"
      }
    },
    {
      "cell_type": "code",
      "source": [
        "!pip install helperfns -q"
      ],
      "metadata": {
        "id": "n0KCek_jjbQw",
        "colab": {
          "base_uri": "https://localhost:8080/"
        },
        "outputId": "4f5a31d2-0a25-47a8-fe07-4031e1dc6aaf"
      },
      "execution_count": 1,
      "outputs": [
        {
          "output_type": "stream",
          "name": "stdout",
          "text": [
            "  Building wheel for sklearn (setup.py) ... \u001b[?25l\u001b[?25hdone\n"
          ]
        }
      ]
    },
    {
      "cell_type": "code",
      "source": [
        "!pip install emoji -q"
      ],
      "metadata": {
        "colab": {
          "base_uri": "https://localhost:8080/"
        },
        "id": "CmAJF6ISffkR",
        "outputId": "9f0651e7-40ea-401e-a8e7-86fa13661cf4"
      },
      "execution_count": 2,
      "outputs": [
        {
          "output_type": "stream",
          "name": "stdout",
          "text": [
            "\u001b[?25l\r\u001b[K     |█▋                              | 10 kB 13.5 MB/s eta 0:00:01\r\u001b[K     |███▎                            | 20 kB 5.2 MB/s eta 0:00:01\r\u001b[K     |█████                           | 30 kB 7.4 MB/s eta 0:00:01\r\u001b[K     |██████▋                         | 40 kB 3.9 MB/s eta 0:00:01\r\u001b[K     |████████▎                       | 51 kB 3.9 MB/s eta 0:00:01\r\u001b[K     |██████████                      | 61 kB 4.6 MB/s eta 0:00:01\r\u001b[K     |███████████▋                    | 71 kB 5.0 MB/s eta 0:00:01\r\u001b[K     |█████████████▎                  | 81 kB 5.6 MB/s eta 0:00:01\r\u001b[K     |███████████████                 | 92 kB 5.9 MB/s eta 0:00:01\r\u001b[K     |████████████████▋               | 102 kB 4.7 MB/s eta 0:00:01\r\u001b[K     |██████████████████▎             | 112 kB 4.7 MB/s eta 0:00:01\r\u001b[K     |████████████████████            | 122 kB 4.7 MB/s eta 0:00:01\r\u001b[K     |█████████████████████▋          | 133 kB 4.7 MB/s eta 0:00:01\r\u001b[K     |███████████████████████▎        | 143 kB 4.7 MB/s eta 0:00:01\r\u001b[K     |█████████████████████████       | 153 kB 4.7 MB/s eta 0:00:01\r\u001b[K     |██████████████████████████▋     | 163 kB 4.7 MB/s eta 0:00:01\r\u001b[K     |████████████████████████████▎   | 174 kB 4.7 MB/s eta 0:00:01\r\u001b[K     |█████████████████████████████▉  | 184 kB 4.7 MB/s eta 0:00:01\r\u001b[K     |███████████████████████████████▌| 194 kB 4.7 MB/s eta 0:00:01\r\u001b[K     |████████████████████████████████| 197 kB 4.7 MB/s \n",
            "\u001b[?25h  Building wheel for emoji (setup.py) ... \u001b[?25l\u001b[?25hdone\n"
          ]
        }
      ]
    },
    {
      "cell_type": "markdown",
      "source": [
        "### Imports \n",
        "\n",
        "In the following code cell we are going to import all the packages that are going to be used in this notebook."
      ],
      "metadata": {
        "id": "FPLcPXOMfi_m"
      }
    },
    {
      "cell_type": "code",
      "execution_count": 3,
      "metadata": {
        "id": "QqwZb0v5rnro",
        "colab": {
          "base_uri": "https://localhost:8080/"
        },
        "outputId": "1e4731e8-ba27-4ef8-99b2-f1b5450021d3"
      },
      "outputs": [
        {
          "output_type": "execute_result",
          "data": {
            "text/plain": [
              "('0.13.1', '1.12.1+cu113')"
            ]
          },
          "metadata": {},
          "execution_count": 3
        }
      ],
      "source": [
        "import time\n",
        "import emoji\n",
        "import torch\n",
        "import os\n",
        "import random\n",
        "import torchtext\n",
        "\n",
        "from prettytable import PrettyTable\n",
        "from matplotlib import pyplot as plt\n",
        "from google.colab import drive\n",
        "from torch import nn\n",
        "from torchtext import data\n",
        "from collections import Counter\n",
        "from torchtext import vocab\n",
        "from helperfns import tables, visualization, utils\n",
        "\n",
        "import torch.nn.functional as F\n",
        "import numpy as np\n",
        "import pandas as pd\n",
        "\n",
        "torchtext.__version__, torch.__version__"
      ]
    },
    {
      "cell_type": "markdown",
      "source": [
        "### Files\n",
        "\n",
        "Files are stored in google drive so we need to mount a google drive in our noteboook so that we can easily interact with the google file system using the `API`."
      ],
      "metadata": {
        "id": "eZttB6amgEl3"
      }
    },
    {
      "cell_type": "code",
      "execution_count": 4,
      "metadata": {
        "colab": {
          "base_uri": "https://localhost:8080/"
        },
        "id": "1M5TYUgmrsqn",
        "outputId": "2c85101e-5234-45f1-bb58-5f355d7be1dd"
      },
      "outputs": [
        {
          "output_type": "stream",
          "name": "stdout",
          "text": [
            "Mounted at /content/drive\n"
          ]
        }
      ],
      "source": [
        "drive.mount('/content/drive')"
      ]
    },
    {
      "cell_type": "markdown",
      "source": [
        "### File Paths\n",
        "In the following code cell we are going to define the path where our files are going to be stored. We have the following filed `emotion-nlp`folder that is in our google drive:\n",
        "\n",
        "1. train.csv\n",
        "2. valid.csv\n",
        "3. test.csv\n"
      ],
      "metadata": {
        "id": "EB-QWAiEgZfG"
      }
    },
    {
      "cell_type": "code",
      "execution_count": 5,
      "metadata": {
        "id": "viE44huFry4e"
      },
      "outputs": [],
      "source": [
        "data_path = '/content/drive/MyDrive/NLP Data/emotions-nlp'\n",
        "\n",
        "assert os.path.exists(data_path), f\"The path '{data_path}' check if you mounted the google drive in this notebook.\""
      ]
    },
    {
      "cell_type": "markdown",
      "source": [
        "### Device\n",
        "In the following code cell we are going to create a device variable and utilize the `cuda` GPU if available in this notebook."
      ],
      "metadata": {
        "id": "C4G6h3V2hIkH"
      }
    },
    {
      "cell_type": "code",
      "execution_count": 6,
      "metadata": {
        "colab": {
          "base_uri": "https://localhost:8080/"
        },
        "id": "KCwjrdaMr3S0",
        "outputId": "a04e1e3b-c10e-4228-da71-ed7d4d27c6bc"
      },
      "outputs": [
        {
          "output_type": "execute_result",
          "data": {
            "text/plain": [
              "device(type='cuda')"
            ]
          },
          "metadata": {},
          "execution_count": 6
        }
      ],
      "source": [
        "device = torch.device('cuda' if torch.cuda.is_available() else 'cpu')\n",
        "device"
      ]
    },
    {
      "cell_type": "markdown",
      "source": [
        "### Seed\n",
        "\n",
        "In the following  code cell we are going to define the seed for reproducivity in this notebook."
      ],
      "metadata": {
        "id": "J7sJbYQNhaG-"
      }
    },
    {
      "cell_type": "code",
      "execution_count": 7,
      "metadata": {
        "id": "x5zxG5Nyr2SI"
      },
      "outputs": [],
      "source": [
        "SEED = 42\n",
        "np.random.seed(SEED)\n",
        "random.seed(SEED)\n",
        "torch.manual_seed(SEED)\n",
        "torch.cuda.manual_seed(SEED)\n",
        "torch.backends.cudnn.deteministic = True"
      ]
    },
    {
      "cell_type": "markdown",
      "source": [
        "### Reading the data\n",
        "We are going to read the data in three files which are:\n",
        "\n",
        "1. train.csv\n",
        "2. test.csv\n",
        "3. valid.csv\n",
        "\n",
        "From our google drive files into pandas dataframes in the following code cell."
      ],
      "metadata": {
        "id": "ms3dQsYPhlzJ"
      }
    },
    {
      "cell_type": "code",
      "execution_count": 8,
      "metadata": {
        "id": "74qQGlLor5sb"
      },
      "outputs": [],
      "source": [
        "train_df = pd.read_csv(os.path.join(data_path, 'train.csv'))\n",
        "test_df = pd.read_csv(os.path.join(data_path, 'test.csv'))\n",
        "val_df = pd.read_csv(os.path.join(data_path, 'valid.csv'))"
      ]
    },
    {
      "cell_type": "markdown",
      "source": [
        "### Checking Examples\n",
        "In the following code cell we are going to check the first 5 example using the pandas dataframe method `head` for each dataframe."
      ],
      "metadata": {
        "id": "yVu6e-7Ph_Br"
      }
    },
    {
      "cell_type": "code",
      "execution_count": 9,
      "metadata": {
        "colab": {
          "base_uri": "https://localhost:8080/",
          "height": 206
        },
        "id": "A8bgh_hGsTUB",
        "outputId": "fd9f0380-d3f7-49d3-b3aa-12cdbe58151b"
      },
      "outputs": [
        {
          "output_type": "execute_result",
          "data": {
            "text/plain": [
              "                                                text  emotion\n",
              "0                            i didnt feel humiliated  sadness\n",
              "1  i can go from feeling so hopeless to so damned...  sadness\n",
              "2   im grabbing a minute to post i feel greedy wrong    anger\n",
              "3  i am ever feeling nostalgic about the fireplac...     love\n",
              "4                               i am feeling grouchy    anger"
            ],
            "text/html": [
              "\n",
              "  <div id=\"df-9c2a65be-9856-452d-b610-d4c0fe6517bb\">\n",
              "    <div class=\"colab-df-container\">\n",
              "      <div>\n",
              "<style scoped>\n",
              "    .dataframe tbody tr th:only-of-type {\n",
              "        vertical-align: middle;\n",
              "    }\n",
              "\n",
              "    .dataframe tbody tr th {\n",
              "        vertical-align: top;\n",
              "    }\n",
              "\n",
              "    .dataframe thead th {\n",
              "        text-align: right;\n",
              "    }\n",
              "</style>\n",
              "<table border=\"1\" class=\"dataframe\">\n",
              "  <thead>\n",
              "    <tr style=\"text-align: right;\">\n",
              "      <th></th>\n",
              "      <th>text</th>\n",
              "      <th>emotion</th>\n",
              "    </tr>\n",
              "  </thead>\n",
              "  <tbody>\n",
              "    <tr>\n",
              "      <th>0</th>\n",
              "      <td>i didnt feel humiliated</td>\n",
              "      <td>sadness</td>\n",
              "    </tr>\n",
              "    <tr>\n",
              "      <th>1</th>\n",
              "      <td>i can go from feeling so hopeless to so damned...</td>\n",
              "      <td>sadness</td>\n",
              "    </tr>\n",
              "    <tr>\n",
              "      <th>2</th>\n",
              "      <td>im grabbing a minute to post i feel greedy wrong</td>\n",
              "      <td>anger</td>\n",
              "    </tr>\n",
              "    <tr>\n",
              "      <th>3</th>\n",
              "      <td>i am ever feeling nostalgic about the fireplac...</td>\n",
              "      <td>love</td>\n",
              "    </tr>\n",
              "    <tr>\n",
              "      <th>4</th>\n",
              "      <td>i am feeling grouchy</td>\n",
              "      <td>anger</td>\n",
              "    </tr>\n",
              "  </tbody>\n",
              "</table>\n",
              "</div>\n",
              "      <button class=\"colab-df-convert\" onclick=\"convertToInteractive('df-9c2a65be-9856-452d-b610-d4c0fe6517bb')\"\n",
              "              title=\"Convert this dataframe to an interactive table.\"\n",
              "              style=\"display:none;\">\n",
              "        \n",
              "  <svg xmlns=\"http://www.w3.org/2000/svg\" height=\"24px\"viewBox=\"0 0 24 24\"\n",
              "       width=\"24px\">\n",
              "    <path d=\"M0 0h24v24H0V0z\" fill=\"none\"/>\n",
              "    <path d=\"M18.56 5.44l.94 2.06.94-2.06 2.06-.94-2.06-.94-.94-2.06-.94 2.06-2.06.94zm-11 1L8.5 8.5l.94-2.06 2.06-.94-2.06-.94L8.5 2.5l-.94 2.06-2.06.94zm10 10l.94 2.06.94-2.06 2.06-.94-2.06-.94-.94-2.06-.94 2.06-2.06.94z\"/><path d=\"M17.41 7.96l-1.37-1.37c-.4-.4-.92-.59-1.43-.59-.52 0-1.04.2-1.43.59L10.3 9.45l-7.72 7.72c-.78.78-.78 2.05 0 2.83L4 21.41c.39.39.9.59 1.41.59.51 0 1.02-.2 1.41-.59l7.78-7.78 2.81-2.81c.8-.78.8-2.07 0-2.86zM5.41 20L4 18.59l7.72-7.72 1.47 1.35L5.41 20z\"/>\n",
              "  </svg>\n",
              "      </button>\n",
              "      \n",
              "  <style>\n",
              "    .colab-df-container {\n",
              "      display:flex;\n",
              "      flex-wrap:wrap;\n",
              "      gap: 12px;\n",
              "    }\n",
              "\n",
              "    .colab-df-convert {\n",
              "      background-color: #E8F0FE;\n",
              "      border: none;\n",
              "      border-radius: 50%;\n",
              "      cursor: pointer;\n",
              "      display: none;\n",
              "      fill: #1967D2;\n",
              "      height: 32px;\n",
              "      padding: 0 0 0 0;\n",
              "      width: 32px;\n",
              "    }\n",
              "\n",
              "    .colab-df-convert:hover {\n",
              "      background-color: #E2EBFA;\n",
              "      box-shadow: 0px 1px 2px rgba(60, 64, 67, 0.3), 0px 1px 3px 1px rgba(60, 64, 67, 0.15);\n",
              "      fill: #174EA6;\n",
              "    }\n",
              "\n",
              "    [theme=dark] .colab-df-convert {\n",
              "      background-color: #3B4455;\n",
              "      fill: #D2E3FC;\n",
              "    }\n",
              "\n",
              "    [theme=dark] .colab-df-convert:hover {\n",
              "      background-color: #434B5C;\n",
              "      box-shadow: 0px 1px 3px 1px rgba(0, 0, 0, 0.15);\n",
              "      filter: drop-shadow(0px 1px 2px rgba(0, 0, 0, 0.3));\n",
              "      fill: #FFFFFF;\n",
              "    }\n",
              "  </style>\n",
              "\n",
              "      <script>\n",
              "        const buttonEl =\n",
              "          document.querySelector('#df-9c2a65be-9856-452d-b610-d4c0fe6517bb button.colab-df-convert');\n",
              "        buttonEl.style.display =\n",
              "          google.colab.kernel.accessAllowed ? 'block' : 'none';\n",
              "\n",
              "        async function convertToInteractive(key) {\n",
              "          const element = document.querySelector('#df-9c2a65be-9856-452d-b610-d4c0fe6517bb');\n",
              "          const dataTable =\n",
              "            await google.colab.kernel.invokeFunction('convertToInteractive',\n",
              "                                                     [key], {});\n",
              "          if (!dataTable) return;\n",
              "\n",
              "          const docLinkHtml = 'Like what you see? Visit the ' +\n",
              "            '<a target=\"_blank\" href=https://colab.research.google.com/notebooks/data_table.ipynb>data table notebook</a>'\n",
              "            + ' to learn more about interactive tables.';\n",
              "          element.innerHTML = '';\n",
              "          dataTable['output_type'] = 'display_data';\n",
              "          await google.colab.output.renderOutput(dataTable, element);\n",
              "          const docLink = document.createElement('div');\n",
              "          docLink.innerHTML = docLinkHtml;\n",
              "          element.appendChild(docLink);\n",
              "        }\n",
              "      </script>\n",
              "    </div>\n",
              "  </div>\n",
              "  "
            ]
          },
          "metadata": {},
          "execution_count": 9
        }
      ],
      "source": [
        "train_df.head()"
      ]
    },
    {
      "cell_type": "code",
      "source": [
        "test_df.head()"
      ],
      "metadata": {
        "colab": {
          "base_uri": "https://localhost:8080/",
          "height": 206
        },
        "id": "U3Lu7EaOiaLp",
        "outputId": "00683f97-4a79-420a-8cc1-956bae0712db"
      },
      "execution_count": 10,
      "outputs": [
        {
          "output_type": "execute_result",
          "data": {
            "text/plain": [
              "                                                text  emotion\n",
              "0  im feeling rather rotten so im not very ambiti...  sadness\n",
              "1          im updating my blog because i feel shitty  sadness\n",
              "2  i never make her separate from me because i do...  sadness\n",
              "3  i left with my bouquet of red and yellow tulip...      joy\n",
              "4    i was feeling a little vain when i did this one  sadness"
            ],
            "text/html": [
              "\n",
              "  <div id=\"df-382e2102-2165-48d4-a79d-0abf7dd007da\">\n",
              "    <div class=\"colab-df-container\">\n",
              "      <div>\n",
              "<style scoped>\n",
              "    .dataframe tbody tr th:only-of-type {\n",
              "        vertical-align: middle;\n",
              "    }\n",
              "\n",
              "    .dataframe tbody tr th {\n",
              "        vertical-align: top;\n",
              "    }\n",
              "\n",
              "    .dataframe thead th {\n",
              "        text-align: right;\n",
              "    }\n",
              "</style>\n",
              "<table border=\"1\" class=\"dataframe\">\n",
              "  <thead>\n",
              "    <tr style=\"text-align: right;\">\n",
              "      <th></th>\n",
              "      <th>text</th>\n",
              "      <th>emotion</th>\n",
              "    </tr>\n",
              "  </thead>\n",
              "  <tbody>\n",
              "    <tr>\n",
              "      <th>0</th>\n",
              "      <td>im feeling rather rotten so im not very ambiti...</td>\n",
              "      <td>sadness</td>\n",
              "    </tr>\n",
              "    <tr>\n",
              "      <th>1</th>\n",
              "      <td>im updating my blog because i feel shitty</td>\n",
              "      <td>sadness</td>\n",
              "    </tr>\n",
              "    <tr>\n",
              "      <th>2</th>\n",
              "      <td>i never make her separate from me because i do...</td>\n",
              "      <td>sadness</td>\n",
              "    </tr>\n",
              "    <tr>\n",
              "      <th>3</th>\n",
              "      <td>i left with my bouquet of red and yellow tulip...</td>\n",
              "      <td>joy</td>\n",
              "    </tr>\n",
              "    <tr>\n",
              "      <th>4</th>\n",
              "      <td>i was feeling a little vain when i did this one</td>\n",
              "      <td>sadness</td>\n",
              "    </tr>\n",
              "  </tbody>\n",
              "</table>\n",
              "</div>\n",
              "      <button class=\"colab-df-convert\" onclick=\"convertToInteractive('df-382e2102-2165-48d4-a79d-0abf7dd007da')\"\n",
              "              title=\"Convert this dataframe to an interactive table.\"\n",
              "              style=\"display:none;\">\n",
              "        \n",
              "  <svg xmlns=\"http://www.w3.org/2000/svg\" height=\"24px\"viewBox=\"0 0 24 24\"\n",
              "       width=\"24px\">\n",
              "    <path d=\"M0 0h24v24H0V0z\" fill=\"none\"/>\n",
              "    <path d=\"M18.56 5.44l.94 2.06.94-2.06 2.06-.94-2.06-.94-.94-2.06-.94 2.06-2.06.94zm-11 1L8.5 8.5l.94-2.06 2.06-.94-2.06-.94L8.5 2.5l-.94 2.06-2.06.94zm10 10l.94 2.06.94-2.06 2.06-.94-2.06-.94-.94-2.06-.94 2.06-2.06.94z\"/><path d=\"M17.41 7.96l-1.37-1.37c-.4-.4-.92-.59-1.43-.59-.52 0-1.04.2-1.43.59L10.3 9.45l-7.72 7.72c-.78.78-.78 2.05 0 2.83L4 21.41c.39.39.9.59 1.41.59.51 0 1.02-.2 1.41-.59l7.78-7.78 2.81-2.81c.8-.78.8-2.07 0-2.86zM5.41 20L4 18.59l7.72-7.72 1.47 1.35L5.41 20z\"/>\n",
              "  </svg>\n",
              "      </button>\n",
              "      \n",
              "  <style>\n",
              "    .colab-df-container {\n",
              "      display:flex;\n",
              "      flex-wrap:wrap;\n",
              "      gap: 12px;\n",
              "    }\n",
              "\n",
              "    .colab-df-convert {\n",
              "      background-color: #E8F0FE;\n",
              "      border: none;\n",
              "      border-radius: 50%;\n",
              "      cursor: pointer;\n",
              "      display: none;\n",
              "      fill: #1967D2;\n",
              "      height: 32px;\n",
              "      padding: 0 0 0 0;\n",
              "      width: 32px;\n",
              "    }\n",
              "\n",
              "    .colab-df-convert:hover {\n",
              "      background-color: #E2EBFA;\n",
              "      box-shadow: 0px 1px 2px rgba(60, 64, 67, 0.3), 0px 1px 3px 1px rgba(60, 64, 67, 0.15);\n",
              "      fill: #174EA6;\n",
              "    }\n",
              "\n",
              "    [theme=dark] .colab-df-convert {\n",
              "      background-color: #3B4455;\n",
              "      fill: #D2E3FC;\n",
              "    }\n",
              "\n",
              "    [theme=dark] .colab-df-convert:hover {\n",
              "      background-color: #434B5C;\n",
              "      box-shadow: 0px 1px 3px 1px rgba(0, 0, 0, 0.15);\n",
              "      filter: drop-shadow(0px 1px 2px rgba(0, 0, 0, 0.3));\n",
              "      fill: #FFFFFF;\n",
              "    }\n",
              "  </style>\n",
              "\n",
              "      <script>\n",
              "        const buttonEl =\n",
              "          document.querySelector('#df-382e2102-2165-48d4-a79d-0abf7dd007da button.colab-df-convert');\n",
              "        buttonEl.style.display =\n",
              "          google.colab.kernel.accessAllowed ? 'block' : 'none';\n",
              "\n",
              "        async function convertToInteractive(key) {\n",
              "          const element = document.querySelector('#df-382e2102-2165-48d4-a79d-0abf7dd007da');\n",
              "          const dataTable =\n",
              "            await google.colab.kernel.invokeFunction('convertToInteractive',\n",
              "                                                     [key], {});\n",
              "          if (!dataTable) return;\n",
              "\n",
              "          const docLinkHtml = 'Like what you see? Visit the ' +\n",
              "            '<a target=\"_blank\" href=https://colab.research.google.com/notebooks/data_table.ipynb>data table notebook</a>'\n",
              "            + ' to learn more about interactive tables.';\n",
              "          element.innerHTML = '';\n",
              "          dataTable['output_type'] = 'display_data';\n",
              "          await google.colab.output.renderOutput(dataTable, element);\n",
              "          const docLink = document.createElement('div');\n",
              "          docLink.innerHTML = docLinkHtml;\n",
              "          element.appendChild(docLink);\n",
              "        }\n",
              "      </script>\n",
              "    </div>\n",
              "  </div>\n",
              "  "
            ]
          },
          "metadata": {},
          "execution_count": 10
        }
      ]
    },
    {
      "cell_type": "code",
      "source": [
        "val_df.head()"
      ],
      "metadata": {
        "colab": {
          "base_uri": "https://localhost:8080/",
          "height": 206
        },
        "id": "tFi2GfCwigEO",
        "outputId": "4061708b-2430-4234-d303-75a0128e8a2a"
      },
      "execution_count": 11,
      "outputs": [
        {
          "output_type": "execute_result",
          "data": {
            "text/plain": [
              "                                                text  emotion\n",
              "0  im feeling quite sad and sorry for myself but ...  sadness\n",
              "1  i feel like i am still looking at a blank canv...  sadness\n",
              "2                     i feel like a faithful servant     love\n",
              "3                  i am just feeling cranky and blue    anger\n",
              "4  i can have for a treat or if i am feeling festive      joy"
            ],
            "text/html": [
              "\n",
              "  <div id=\"df-9aaafe23-a79a-4e77-a96d-f1fa1e72b2a7\">\n",
              "    <div class=\"colab-df-container\">\n",
              "      <div>\n",
              "<style scoped>\n",
              "    .dataframe tbody tr th:only-of-type {\n",
              "        vertical-align: middle;\n",
              "    }\n",
              "\n",
              "    .dataframe tbody tr th {\n",
              "        vertical-align: top;\n",
              "    }\n",
              "\n",
              "    .dataframe thead th {\n",
              "        text-align: right;\n",
              "    }\n",
              "</style>\n",
              "<table border=\"1\" class=\"dataframe\">\n",
              "  <thead>\n",
              "    <tr style=\"text-align: right;\">\n",
              "      <th></th>\n",
              "      <th>text</th>\n",
              "      <th>emotion</th>\n",
              "    </tr>\n",
              "  </thead>\n",
              "  <tbody>\n",
              "    <tr>\n",
              "      <th>0</th>\n",
              "      <td>im feeling quite sad and sorry for myself but ...</td>\n",
              "      <td>sadness</td>\n",
              "    </tr>\n",
              "    <tr>\n",
              "      <th>1</th>\n",
              "      <td>i feel like i am still looking at a blank canv...</td>\n",
              "      <td>sadness</td>\n",
              "    </tr>\n",
              "    <tr>\n",
              "      <th>2</th>\n",
              "      <td>i feel like a faithful servant</td>\n",
              "      <td>love</td>\n",
              "    </tr>\n",
              "    <tr>\n",
              "      <th>3</th>\n",
              "      <td>i am just feeling cranky and blue</td>\n",
              "      <td>anger</td>\n",
              "    </tr>\n",
              "    <tr>\n",
              "      <th>4</th>\n",
              "      <td>i can have for a treat or if i am feeling festive</td>\n",
              "      <td>joy</td>\n",
              "    </tr>\n",
              "  </tbody>\n",
              "</table>\n",
              "</div>\n",
              "      <button class=\"colab-df-convert\" onclick=\"convertToInteractive('df-9aaafe23-a79a-4e77-a96d-f1fa1e72b2a7')\"\n",
              "              title=\"Convert this dataframe to an interactive table.\"\n",
              "              style=\"display:none;\">\n",
              "        \n",
              "  <svg xmlns=\"http://www.w3.org/2000/svg\" height=\"24px\"viewBox=\"0 0 24 24\"\n",
              "       width=\"24px\">\n",
              "    <path d=\"M0 0h24v24H0V0z\" fill=\"none\"/>\n",
              "    <path d=\"M18.56 5.44l.94 2.06.94-2.06 2.06-.94-2.06-.94-.94-2.06-.94 2.06-2.06.94zm-11 1L8.5 8.5l.94-2.06 2.06-.94-2.06-.94L8.5 2.5l-.94 2.06-2.06.94zm10 10l.94 2.06.94-2.06 2.06-.94-2.06-.94-.94-2.06-.94 2.06-2.06.94z\"/><path d=\"M17.41 7.96l-1.37-1.37c-.4-.4-.92-.59-1.43-.59-.52 0-1.04.2-1.43.59L10.3 9.45l-7.72 7.72c-.78.78-.78 2.05 0 2.83L4 21.41c.39.39.9.59 1.41.59.51 0 1.02-.2 1.41-.59l7.78-7.78 2.81-2.81c.8-.78.8-2.07 0-2.86zM5.41 20L4 18.59l7.72-7.72 1.47 1.35L5.41 20z\"/>\n",
              "  </svg>\n",
              "      </button>\n",
              "      \n",
              "  <style>\n",
              "    .colab-df-container {\n",
              "      display:flex;\n",
              "      flex-wrap:wrap;\n",
              "      gap: 12px;\n",
              "    }\n",
              "\n",
              "    .colab-df-convert {\n",
              "      background-color: #E8F0FE;\n",
              "      border: none;\n",
              "      border-radius: 50%;\n",
              "      cursor: pointer;\n",
              "      display: none;\n",
              "      fill: #1967D2;\n",
              "      height: 32px;\n",
              "      padding: 0 0 0 0;\n",
              "      width: 32px;\n",
              "    }\n",
              "\n",
              "    .colab-df-convert:hover {\n",
              "      background-color: #E2EBFA;\n",
              "      box-shadow: 0px 1px 2px rgba(60, 64, 67, 0.3), 0px 1px 3px 1px rgba(60, 64, 67, 0.15);\n",
              "      fill: #174EA6;\n",
              "    }\n",
              "\n",
              "    [theme=dark] .colab-df-convert {\n",
              "      background-color: #3B4455;\n",
              "      fill: #D2E3FC;\n",
              "    }\n",
              "\n",
              "    [theme=dark] .colab-df-convert:hover {\n",
              "      background-color: #434B5C;\n",
              "      box-shadow: 0px 1px 3px 1px rgba(0, 0, 0, 0.15);\n",
              "      filter: drop-shadow(0px 1px 2px rgba(0, 0, 0, 0.3));\n",
              "      fill: #FFFFFF;\n",
              "    }\n",
              "  </style>\n",
              "\n",
              "      <script>\n",
              "        const buttonEl =\n",
              "          document.querySelector('#df-9aaafe23-a79a-4e77-a96d-f1fa1e72b2a7 button.colab-df-convert');\n",
              "        buttonEl.style.display =\n",
              "          google.colab.kernel.accessAllowed ? 'block' : 'none';\n",
              "\n",
              "        async function convertToInteractive(key) {\n",
              "          const element = document.querySelector('#df-9aaafe23-a79a-4e77-a96d-f1fa1e72b2a7');\n",
              "          const dataTable =\n",
              "            await google.colab.kernel.invokeFunction('convertToInteractive',\n",
              "                                                     [key], {});\n",
              "          if (!dataTable) return;\n",
              "\n",
              "          const docLinkHtml = 'Like what you see? Visit the ' +\n",
              "            '<a target=\"_blank\" href=https://colab.research.google.com/notebooks/data_table.ipynb>data table notebook</a>'\n",
              "            + ' to learn more about interactive tables.';\n",
              "          element.innerHTML = '';\n",
              "          dataTable['output_type'] = 'display_data';\n",
              "          await google.colab.output.renderOutput(dataTable, element);\n",
              "          const docLink = document.createElement('div');\n",
              "          docLink.innerHTML = docLinkHtml;\n",
              "          element.appendChild(docLink);\n",
              "        }\n",
              "      </script>\n",
              "    </div>\n",
              "  </div>\n",
              "  "
            ]
          },
          "metadata": {},
          "execution_count": 11
        }
      ]
    },
    {
      "cell_type": "markdown",
      "source": [
        "#### Counting examples\n",
        "In the following code cell we are going to count how many examples do we have in each set and visualize them in a tabular format."
      ],
      "metadata": {
        "id": "ckAt_RExjDP2"
      }
    },
    {
      "cell_type": "code",
      "source": [
        "columns = [\"Set\", \"Example(s)\"]\n",
        "examples = [\n",
        "    ['training', len(train_df)],\n",
        "    ['validation', len(val_df)],\n",
        "    ['testing', len(test_df)],\n",
        "    ['total', len(train_df) +  len(test_df) + len(val_df)],\n",
        "]\n",
        "tables.tabulate_data(columns, examples, \"Exmples\")"
      ],
      "metadata": {
        "colab": {
          "base_uri": "https://localhost:8080/"
        },
        "id": "nVM1jGiDkIs4",
        "outputId": "bfb6ec5d-a59f-4379-c5e0-7e4a6a53f21e"
      },
      "execution_count": 12,
      "outputs": [
        {
          "output_type": "stream",
          "name": "stdout",
          "text": [
            "+-------------------------+\n",
            "|         Exmples         |\n",
            "+------------+------------+\n",
            "|    Set     | Example(s) |\n",
            "+------------+------------+\n",
            "| training   |      16000 |\n",
            "| validation |       2000 |\n",
            "| testing    |       2000 |\n",
            "| total      |      20000 |\n",
            "+------------+------------+\n"
          ]
        }
      ]
    },
    {
      "cell_type": "markdown",
      "source": [
        "### Features and Labels\n",
        "Our fetures are the actual sentences in the dataframe which is the column named `text` and our labels will come from the column called `emotion`. In the following code cell we are going to read features and labels in a numpy arrays for each set."
      ],
      "metadata": {
        "id": "3NT3y8vvilq0"
      }
    },
    {
      "cell_type": "code",
      "execution_count": 13,
      "metadata": {
        "id": "YFG-qFtJsrEI"
      },
      "outputs": [],
      "source": [
        "# train\n",
        "train_texts = train_df.text.values\n",
        "train_labels = train_df.emotion.values\n",
        "\n",
        "# test\n",
        "test_texts = test_df.text.values\n",
        "test_labels = test_df.emotion.values\n",
        "\n",
        "# val\n",
        "val_texts = val_df.text.values\n",
        "val_labels = val_df.emotion.values"
      ]
    },
    {
      "cell_type": "markdown",
      "source": [
        "### Text Preprocessing\n",
        "In our text processing pipeline we need to do the following step:\n",
        "\n",
        "1. tokenize text \n",
        "- this is the process of converting a sentence or text into senquence of word. For this we are going to use a pre-trained model from `spacy` language model. You can read more about other tokenizers that you can use at [pytorch.org](https://pytorch.org/text/stable/data_utils.html).\n",
        "\n",
        "2. vocabulary\n",
        "* We will to create a vocabulary based on our text. A vocabulary is esentially a word to index mapping that allows us to reference the word with their integer representation, since machine leaning models does not understand words. This vocabulary will be used during model training and also can be used at model inference.\n",
        "\n",
        "\n",
        "#### Tokenizer\n",
        "\n",
        "In the following code cell we are going to geta a tokenier object that will convert a sentence into a sequence of word using the `spacy-en` language model."
      ],
      "metadata": {
        "id": "kvmHM7TglDOi"
      }
    },
    {
      "cell_type": "code",
      "source": [
        "tokenizer = data.utils.get_tokenizer('spacy', 'en')\n",
        "\n",
        "tokenizer(\"This is a boy.\")"
      ],
      "metadata": {
        "colab": {
          "base_uri": "https://localhost:8080/"
        },
        "id": "J5QLQUzQnZ2Y",
        "outputId": "17203e1b-27f2-4fab-9cbc-942226e710b0"
      },
      "execution_count": 14,
      "outputs": [
        {
          "output_type": "stream",
          "name": "stderr",
          "text": [
            "/usr/local/lib/python3.7/dist-packages/torchtext/data/utils.py:106: UserWarning: Spacy model \"en\" could not be loaded, trying \"en_core_web_sm\" instead\n",
            "  f'Spacy model \"{language}\" could not be loaded, trying \"{OLD_MODEL_SHORTCUTS[language]}\" instead'\n"
          ]
        },
        {
          "output_type": "execute_result",
          "data": {
            "text/plain": [
              "['This', 'is', 'a', 'boy', '.']"
            ]
          },
          "metadata": {},
          "execution_count": 14
        }
      ]
    },
    {
      "cell_type": "markdown",
      "source": [
        "#### Vocabulary\n",
        "In the following code cell we are going to create a vocabulary object from  `torchtext`. This vocabulary takes in an `ordered_dict` of words to their count. So we are going to use the `Counter` module from collections to generate these counts from our train features.\n",
        "\n",
        "We are going to specify the `min_freq` to `2` meaning that the words that does not appear at least 2 times will be converted to unknown. We are also going to specify the special tokens during creation of the vocabulary object. "
      ],
      "metadata": {
        "id": "O0cvl-Cvnlsj"
      }
    },
    {
      "cell_type": "code",
      "execution_count": 15,
      "metadata": {
        "id": "cCcXNIhlsWEx"
      },
      "outputs": [],
      "source": [
        "counter = Counter()\n",
        "for line in train_texts:\n",
        "    counter.update(tokenizer(line))\n",
        "vocabulary = vocab.vocab(counter, min_freq=2, specials=('<unk>', '<sos>', '<eos>', '<pad>'))"
      ]
    },
    {
      "cell_type": "markdown",
      "source": [
        "### STOI - String To Integer\n",
        "This will be a dictionary that contains a string to integer mapping which will be our actual vocabulary. In the following code cell we are going to create object called `stoi` which is essentially a dictionary of word to index mapping."
      ],
      "metadata": {
        "id": "_YO81NcEolqJ"
      }
    },
    {
      "cell_type": "code",
      "execution_count": 16,
      "metadata": {
        "id": "NCnX2lY919mX"
      },
      "outputs": [],
      "source": [
        "stoi = vocabulary.get_stoi()"
      ]
    },
    {
      "cell_type": "markdown",
      "source": [
        "### Text Pipeline\n",
        "\n",
        "After our text has been tokenized we need a way of converting those words into numbers because machine leaning models understand numbers not words. That's where we the `text_pipeline` function comes over. So this function takes in a sentence and tokenize it then converts each word to a number. Note that the word that does not exists in the vocabulay `stoi` will be habin an unkown (`<unk>`) index."
      ],
      "metadata": {
        "id": "8wONl763pMCz"
      }
    },
    {
      "cell_type": "code",
      "execution_count": 17,
      "metadata": {
        "id": "jzy2r6TGvnV5"
      },
      "outputs": [],
      "source": [
        "def text_pipeline(x: str):\n",
        "  values = list()\n",
        "  tokens = tokenizer(x.lower()) # convert to lower case.\n",
        "  for token in tokens:\n",
        "    try:\n",
        "      v = stoi[token]\n",
        "    except KeyError as e:\n",
        "      v = stoi['<unk>']\n",
        "    values.append(v)\n",
        "  return values"
      ]
    },
    {
      "cell_type": "markdown",
      "source": [
        "### Label pipeline\n",
        "\n",
        "Our labels for now are just emotional-words like `sad`. We also need to convert these labels into numbers. This is very simple what we need to do is to get all the uniqe labels and then create a `labels_vocab` which is a label to integer representation. Which looks as follows:\n",
        "\n",
        "```\n",
        "{'sadness': 0, 'anger': 1, 'love': 2, 'surprise': 3, 'fear': 4, 'joy': 5}\n",
        "```\n",
        "The `label_pipeline` function will then takes in the label and then returns us an integer representation of that label."
      ],
      "metadata": {
        "id": "GsN_vOuXqGCJ"
      }
    },
    {
      "cell_type": "code",
      "execution_count": 18,
      "metadata": {
        "colab": {
          "base_uri": "https://localhost:8080/"
        },
        "id": "OXRyHQpCvu-5",
        "outputId": "4cf54d57-1051-4ddc-c4c3-a401a70e6e4a"
      },
      "outputs": [
        {
          "output_type": "execute_result",
          "data": {
            "text/plain": [
              "{'sadness': 0, 'anger': 1, 'love': 2, 'surprise': 3, 'fear': 4, 'joy': 5}"
            ]
          },
          "metadata": {},
          "execution_count": 18
        }
      ],
      "source": [
        "labels_dict = dict({v: k for k, v in enumerate(train_df.emotion.unique())})\n",
        "labels_dict"
      ]
    },
    {
      "cell_type": "code",
      "source": [
        "label_pipeline = lambda x: labels_dict[x]"
      ],
      "metadata": {
        "id": "37ABEzkqqDPu"
      },
      "execution_count": 19,
      "outputs": []
    },
    {
      "cell_type": "markdown",
      "source": [
        "### Pretrained vectors\n",
        "In the following code cell we are going to download the predtrained word vectors. We are going to use the `GloVe.6B.100d`. These are pretrained vectors that were trained with about `~6B` words and have a vector representation of a word in `100` dimension. If you want to see which other vectors you can use in torchtext you can check [pytorch.org](https://pytorch.org/text/stable/vocab.html#glove). We are going to load these vectors as follows:"
      ],
      "metadata": {
        "id": "gZKJ8TFi5PkC"
      }
    },
    {
      "cell_type": "code",
      "source": [
        "EMBEDDING_DIM = 100\n",
        "\n",
        "glove_vectors = vocab.GloVe('6B', dim=EMBEDDING_DIM)"
      ],
      "metadata": {
        "colab": {
          "base_uri": "https://localhost:8080/"
        },
        "id": "UFa_AsjP5dXA",
        "outputId": "8d11b18d-6d3f-4563-9976-e6da973607f8"
      },
      "execution_count": 31,
      "outputs": [
        {
          "output_type": "stream",
          "name": "stderr",
          "text": [
            ".vector_cache/glove.6B.zip: 862MB [02:39, 5.40MB/s]                           \n",
            "100%|█████████▉| 399999/400000 [00:18<00:00, 21368.82it/s]\n"
          ]
        }
      ]
    },
    {
      "cell_type": "markdown",
      "source": [
        "### Creating Embedding matrix\n",
        "Now that we have our glove vectors we need to costomize them so that they fit our use case. We are going to create an embedding matrix that suits the our vocabulary. So essentially this embedding matrix will be the word to vector mapping for all the words that arein our vocabulary."
      ],
      "metadata": {
        "id": "Eq9Pt8Cj5jBq"
      }
    },
    {
      "cell_type": "code",
      "source": [
        "VOCAB_SIZE = len(stoi)\n",
        "\n",
        "EMBEDDING_MATRIX= torch.zeros([VOCAB_SIZE, EMBEDDING_DIM])\n",
        "\n",
        "for i, word in enumerate(vocabulary.get_itos()):\n",
        "  EMBEDDING_MATRIX[i] = glove_vectors[word]"
      ],
      "metadata": {
        "id": "1nT113xaIHG3"
      },
      "execution_count": 32,
      "outputs": []
    },
    {
      "cell_type": "markdown",
      "source": [
        "In the followig code cell we are going to check the embedding matrix for the word `good`."
      ],
      "metadata": {
        "id": "knttAuUb51PA"
      }
    },
    {
      "cell_type": "code",
      "source": [
        "EMBEDDING_MATRIX[stoi['good']]"
      ],
      "metadata": {
        "colab": {
          "base_uri": "https://localhost:8080/"
        },
        "id": "yn3ZvSbF54gY",
        "outputId": "fb24e52a-b325-4cc0-f41e-2aa4762f3aa7"
      },
      "execution_count": 33,
      "outputs": [
        {
          "output_type": "execute_result",
          "data": {
            "text/plain": [
              "tensor([-0.0308,  0.1199,  0.5391, -0.4370, -0.7394, -0.1534,  0.0811, -0.3856,\n",
              "        -0.6880, -0.4163, -0.1318, -0.2492,  0.4410,  0.0859,  0.2087, -0.0636,\n",
              "         0.0622, -0.0512, -0.1340,  1.1418,  0.0365,  0.4903, -0.2457, -0.4120,\n",
              "         0.1235,  0.4134, -0.4840, -0.5424, -0.2779, -0.2601, -0.3848,  0.7866,\n",
              "         0.1023, -0.2071,  0.4075,  0.3203, -0.5105,  0.4836, -0.0099, -0.3868,\n",
              "         0.0350, -0.1670,  0.4237, -0.5416, -0.3032, -0.3698,  0.0828, -0.5254,\n",
              "        -0.0645, -1.3980, -0.1487, -0.3533, -0.1118,  1.0912,  0.0959, -2.8129,\n",
              "         0.4524,  0.4621,  1.6012, -0.2084, -0.2738,  0.7120, -1.0754, -0.0470,\n",
              "         0.6748, -0.0658,  0.7582,  0.3941,  0.1551, -0.6472,  0.3280, -0.0317,\n",
              "         0.5290, -0.4389,  0.6740,  0.4214, -0.1198, -0.2178, -0.2976, -0.1351,\n",
              "         0.5990,  0.4653, -0.5826, -0.0232, -1.5442,  0.0190, -0.0159,  0.0245,\n",
              "        -0.5802, -0.6766, -0.0404, -0.4404,  0.0833,  0.2004, -0.7550,  0.1692,\n",
              "        -0.2657, -0.5288,  0.1758,  1.0650])"
            ]
          },
          "metadata": {},
          "execution_count": 33
        }
      ]
    },
    {
      "cell_type": "markdown",
      "source": [
        "### Creating the EmotionDataset\n",
        "In the following code cell we are going to create a dataset class called `EmotionDataset`. This dataset will takes in the `labels` and the `text` of a set."
      ],
      "metadata": {
        "id": "gtlx7nB5t8GO"
      }
    },
    {
      "cell_type": "code",
      "execution_count": 34,
      "metadata": {
        "id": "oJ4Dmh1Wtn2v"
      },
      "outputs": [],
      "source": [
        "class EmotionDataset(torch.utils.data.Dataset):\n",
        "  def __init__(self, labels, text):\n",
        "    super(EmotionDataset, self).__init__()\n",
        "    self.labels = labels\n",
        "    self.text = text\n",
        "      \n",
        "  def __getitem__(self, index):\n",
        "    return self.labels[index], self.text[index]\n",
        "  \n",
        "  def __len__(self):\n",
        "    return len(self.labels)"
      ]
    },
    {
      "cell_type": "markdown",
      "source": [
        "### collate_fn\n",
        "We are going to create a collate function called `tokenize_batch`. This function acually takes in a batch and does the preprocessing of the text and labels. This function will be passed to the `DataLoader` class to do the preprocessing of features and labels.\n",
        "\n",
        "`tokenize_batch` function:\n",
        "\n",
        "* this function takes in a batch in each set and convert the features and labels to integer representation. It goes ahead and pad and truncate the sequence to the same length and returns `labels` and `features`."
      ],
      "metadata": {
        "id": "-CZwJvRnuSwV"
      }
    },
    {
      "cell_type": "code",
      "execution_count": 35,
      "metadata": {
        "id": "wC1WvA6o0wHB"
      },
      "outputs": [],
      "source": [
        "def tokenize_batch(batch, max_len=100, padding=\"pre\"):\n",
        "  assert padding==\"pre\" or padding==\"post\", \"the padding can be either pre or post\"\n",
        "  labels_list, text_list = [], []\n",
        "  for _label, _text in batch:\n",
        "    labels_list.append(label_pipeline(_label))\n",
        "    text_holder = torch.zeros(max_len, dtype=torch.int32)\n",
        "    processed_text = torch.tensor(text_pipeline(_text.lower()), dtype=torch.int32)\n",
        "    pos = min(max_len, len(processed_text))\n",
        "    if padding == \"pre\":\n",
        "      text_holder[:pos] = processed_text[:pos]\n",
        "    else:\n",
        "      text_holder[-pos:] = processed_text[-pos:]\n",
        "    text_list.append(text_holder.unsqueeze(dim=0))\n",
        "  #  the labels will be torch long tensors since it is a multi-class classification.\n",
        "  return torch.LongTensor(labels_list), torch.cat(text_list, dim=0)"
      ]
    },
    {
      "cell_type": "markdown",
      "source": [
        "### Datasets\n",
        "In the following code cell we are going to create the datasets for all our three sets using the `EmotionDataset` class."
      ],
      "metadata": {
        "id": "UpaPkrFavqES"
      }
    },
    {
      "cell_type": "code",
      "execution_count": 36,
      "metadata": {
        "id": "Ax5OE5WA0v1B"
      },
      "outputs": [],
      "source": [
        "train_dataset = EmotionDataset(train_labels, train_texts)\n",
        "test_dataset = EmotionDataset(test_labels, test_texts)\n",
        "val_dataset = EmotionDataset(val_labels, val_texts)"
      ]
    },
    {
      "cell_type": "markdown",
      "source": [
        "### Iterators\n",
        "In the following code cell we are going to create loaders using the `DataLoader` class from `torch.utils.data` for our `3` sets. We are going to use the `batch_size` of `128` and our `collate_function` is `tokenize_batch`. For the validation and testing dataset we are going to set the shuffle to `False` because there's no need fo us to shuffle these examples."
      ],
      "metadata": {
        "id": "kNxTDNWFv4ip"
      }
    },
    {
      "cell_type": "code",
      "execution_count": 37,
      "metadata": {
        "id": "hrCuNOQ60vyJ"
      },
      "outputs": [],
      "source": [
        "BATCH_SIZE = 128\n",
        "train_loader = torch.utils.data.DataLoader(train_dataset, batch_size=BATCH_SIZE, shuffle=True, collate_fn=tokenize_batch)\n",
        "test_loader = torch.utils.data.DataLoader(test_dataset, batch_size=BATCH_SIZE, shuffle=False, collate_fn=tokenize_batch)\n",
        "val_loader = torch.utils.data.DataLoader(val_dataset, batch_size=BATCH_SIZE, shuffle=False, collate_fn=tokenize_batch)"
      ]
    },
    {
      "cell_type": "markdown",
      "source": [
        "### Checking a single Batch Data"
      ],
      "metadata": {
        "id": "jF2p2Ghrwq1Z"
      }
    },
    {
      "cell_type": "code",
      "execution_count": 38,
      "metadata": {
        "id": "AjdL94411cmC"
      },
      "outputs": [],
      "source": [
        "lbl, txt = iter(train_loader).next()"
      ]
    },
    {
      "cell_type": "markdown",
      "source": [
        "Labels in the first batch."
      ],
      "metadata": {
        "id": "B4cTAtJWw5Ej"
      }
    },
    {
      "cell_type": "code",
      "execution_count": 39,
      "metadata": {
        "colab": {
          "base_uri": "https://localhost:8080/"
        },
        "id": "OaJ0boJV1ci4",
        "outputId": "32cfe046-c784-4fa9-f917-a90414fb6acd"
      },
      "outputs": [
        {
          "output_type": "execute_result",
          "data": {
            "text/plain": [
              "tensor([0, 0, 0, 4, 0, 5, 5, 5, 4, 2, 1, 4, 0, 2, 5, 5, 0, 5, 2, 1, 4, 4, 0, 5,\n",
              "        0, 0, 4, 5, 5, 0, 0, 4, 5, 5, 5, 3, 4, 5, 5, 4, 0, 1, 1, 5, 5, 4, 4, 5,\n",
              "        1, 5, 4, 2, 0, 5, 0, 5, 0, 5, 1, 4, 0, 1, 5, 0, 1, 0, 4, 5, 0, 5, 0, 4,\n",
              "        5, 4, 4, 5, 5, 5, 0, 0, 4, 0, 1, 1, 5, 2, 0, 1, 5, 4, 1, 1, 4, 0, 5, 4,\n",
              "        0, 2, 5, 5, 5, 4, 1, 2, 0, 0, 5, 4, 2, 0, 1, 1, 5, 0, 5, 0, 0, 5, 5, 3,\n",
              "        0, 4, 5, 0, 0, 0, 2, 5])"
            ]
          },
          "metadata": {},
          "execution_count": 39
        }
      ],
      "source": [
        "lbl"
      ]
    },
    {
      "cell_type": "markdown",
      "source": [
        "The first sentence in the batch."
      ],
      "metadata": {
        "id": "nZIXj65Nw0o7"
      }
    },
    {
      "cell_type": "code",
      "execution_count": 40,
      "metadata": {
        "colab": {
          "base_uri": "https://localhost:8080/"
        },
        "id": "3I1zg2W21cfn",
        "outputId": "fe73d7db-df48-4bb8-bf34-8dc22d955d57"
      },
      "outputs": [
        {
          "output_type": "execute_result",
          "data": {
            "text/plain": [
              "tensor([   4,    7,  208, 1586,    0,    0,    0,    0,    0,    0,    0,    0,\n",
              "           0,    0,    0,    0,    0,    0,    0,    0,    0,    0,    0,    0,\n",
              "           0,    0,    0,    0,    0,    0,    0,    0,    0,    0,    0,    0,\n",
              "           0,    0,    0,    0,    0,    0,    0,    0,    0,    0,    0,    0,\n",
              "           0,    0,    0,    0,    0,    0,    0,    0,    0,    0,    0,    0,\n",
              "           0,    0,    0,    0,    0,    0,    0,    0,    0,    0,    0,    0,\n",
              "           0,    0,    0,    0,    0,    0,    0,    0,    0,    0,    0,    0,\n",
              "           0,    0,    0,    0,    0,    0,    0,    0,    0,    0,    0,    0,\n",
              "           0,    0,    0,    0], dtype=torch.int32)"
            ]
          },
          "metadata": {},
          "execution_count": 40
        }
      ],
      "source": [
        "txt[0]"
      ]
    },
    {
      "cell_type": "markdown",
      "source": [
        "### Model Creation\n",
        "\n",
        "Now that we have our loaders we can now create a model. The model that we are going to create is called `EmotionModel`. In the following code cell we are going to create our `CNN` model. Note that this code for creating a model was taken from [this notebook](https://github.com/CrispenGari/pytorch-python/blob/main/09_NLP/02_Sentiment_Analyisis_Series/04_CNN_Sentiment_Analyisis.ipynb). We are just going to modify it a little bit."
      ],
      "metadata": {
        "id": "YKJO5kzmw-Zk"
      }
    },
    {
      "cell_type": "code",
      "execution_count": 41,
      "metadata": {
        "id": "KY9NEb2X3XHV"
      },
      "outputs": [],
      "source": [
        "class EmotionModel(nn.Module):\n",
        "  def __init__(self, vocab_size, embedding_size, n_filters, filter_sizes, output_size, \n",
        "            dropout, pad_idx):\n",
        "    super(EmotionModel, self).__init__()\n",
        "    self.embedding = nn.Sequential(\n",
        "        nn.Embedding(vocab_size, embedding_size, padding_idx = pad_idx)\n",
        "    )\n",
        "    self.convs = nn.Sequential(\n",
        "        nn.ModuleList([\n",
        "            nn.Conv2d(\n",
        "                in_channels = 1, \n",
        "                out_channels = n_filters, \n",
        "                kernel_size = (fs, embedding_size)\n",
        "            ) for fs in filter_sizes\n",
        "       ])\n",
        "    )\n",
        "    self.out = nn.Sequential(\n",
        "        nn.Linear(len(filter_sizes) * n_filters, output_size)\n",
        "    )\n",
        "    self.dropout = nn.Dropout(dropout)\n",
        "\n",
        "  def forward(self, text):  \n",
        "    embedded = self.embedding(text)    \n",
        "    embedded = embedded.unsqueeze(1)\n",
        "    conved = [F.relu(conv(embedded)).squeeze(3) for conv in self.convs[0]]\n",
        "    pooled = [F.max_pool1d(conv, conv.shape[2]).squeeze(2) for conv in conved]\n",
        "    cat = self.dropout(torch.cat(pooled, dim = 1))\n",
        "    return self.out(cat)"
      ]
    },
    {
      "cell_type": "markdown",
      "source": [
        "### Model Instance\n",
        "\n",
        "In the following code cell we are going to create a model instance."
      ],
      "metadata": {
        "id": "QOTBZyfyyo9G"
      }
    },
    {
      "cell_type": "code",
      "execution_count": 42,
      "metadata": {
        "colab": {
          "base_uri": "https://localhost:8080/"
        },
        "id": "7cOl7yOQ3qp_",
        "outputId": "c603430c-bf87-4d3e-e8b9-7dd5ba22d29c"
      },
      "outputs": [
        {
          "output_type": "execute_result",
          "data": {
            "text/plain": [
              "EmotionModel(\n",
              "  (embedding): Sequential(\n",
              "    (0): Embedding(7364, 100, padding_idx=3)\n",
              "  )\n",
              "  (convs): Sequential(\n",
              "    (0): ModuleList(\n",
              "      (0): Conv2d(1, 100, kernel_size=(3, 100), stride=(1, 1))\n",
              "      (1): Conv2d(1, 100, kernel_size=(4, 100), stride=(1, 1))\n",
              "      (2): Conv2d(1, 100, kernel_size=(5, 100), stride=(1, 1))\n",
              "    )\n",
              "  )\n",
              "  (out): Sequential(\n",
              "    (0): Linear(in_features=300, out_features=6, bias=True)\n",
              "  )\n",
              "  (dropout): Dropout(p=0.5, inplace=False)\n",
              ")"
            ]
          },
          "metadata": {},
          "execution_count": 42
        }
      ],
      "source": [
        "INPUT_DIM = len(stoi) \n",
        "EMBEDDING_DIM = 100\n",
        "OUTPUT_DIM = len(labels_dict)\n",
        "DROPOUT = 0.5\n",
        "PAD_IDX = stoi['<pad>'] \n",
        "N_FILTERS = 100\n",
        "FILTER_SIZES = [3, 4, 5]\n",
        "\n",
        "emotions_model = EmotionModel(\n",
        " INPUT_DIM, EMBEDDING_DIM, N_FILTERS, FILTER_SIZES, OUTPUT_DIM, DROPOUT, PAD_IDX\n",
        ").to(device)\n",
        "emotions_model"
      ]
    },
    {
      "cell_type": "markdown",
      "source": [
        "### Counting Model Parameters\n",
        "In the following code cell we are going to count the model parameters."
      ],
      "metadata": {
        "id": "-ZFVO2Sby_Nl"
      }
    },
    {
      "cell_type": "code",
      "execution_count": 43,
      "metadata": {
        "colab": {
          "base_uri": "https://localhost:8080/"
        },
        "id": "ohLIvkfp4G_-",
        "outputId": "9353cb72-2177-42f2-96b1-4e719d6d7567"
      },
      "outputs": [
        {
          "output_type": "stream",
          "name": "stdout",
          "text": [
            "Total number of paramaters: 858,506\n",
            "Total tainable parameters: 858,506\n"
          ]
        }
      ],
      "source": [
        "def count_trainable_params(model):\n",
        "  return sum(p.numel() for p in model.parameters()), sum(p.numel() for p in model.parameters() if p.requires_grad)\n",
        "\n",
        "n_params, trainable_params = count_trainable_params(emotions_model)\n",
        "print(f\"Total number of paramaters: {n_params:,}\\nTotal tainable parameters: {trainable_params:,}\")"
      ]
    },
    {
      "cell_type": "markdown",
      "source": [
        "### Loading Embedding Vectors\n",
        "\n",
        "In the following code cell we are going to load the pretained custom vectors in our embedding layer. We are going to load the embedding vectors tha suits our data using the `emotions_model.embedding[0].weight.data.copy_(EMBEDDING_MATRIX)` as follows:"
      ],
      "metadata": {
        "id": "Kx19zBrfJWaf"
      }
    },
    {
      "cell_type": "code",
      "source": [
        "emotions_model.embedding[0].weight.data.copy_(EMBEDDING_MATRIX)"
      ],
      "metadata": {
        "colab": {
          "base_uri": "https://localhost:8080/"
        },
        "id": "N5qypqVNKEmL",
        "outputId": "9280674d-2f62-4907-d84e-c40ab78aa6d9"
      },
      "execution_count": 44,
      "outputs": [
        {
          "output_type": "execute_result",
          "data": {
            "text/plain": [
              "tensor([[ 0.0000,  0.0000,  0.0000,  ...,  0.0000,  0.0000,  0.0000],\n",
              "        [ 0.0000,  0.0000,  0.0000,  ...,  0.0000,  0.0000,  0.0000],\n",
              "        [ 0.0000,  0.0000,  0.0000,  ...,  0.0000,  0.0000,  0.0000],\n",
              "        ...,\n",
              "        [-0.2265, -0.5235,  0.5280,  ..., -0.1423, -0.1669, -0.3038],\n",
              "        [ 0.2190,  0.7244, -0.1162,  ...,  0.2099,  0.9361,  0.3596],\n",
              "        [-0.2677,  0.5511, -0.0924,  ..., -0.5573, -0.5595,  0.1911]],\n",
              "       device='cuda:0')"
            ]
          },
          "metadata": {},
          "execution_count": 44
        }
      ]
    },
    {
      "cell_type": "markdown",
      "source": [
        "### Optimizer and Criterion\n",
        "\n",
        "In the following code cell we are going to define the optimizer and criterion. For the optimizer we are going to use the `Adam` optimizer with default parameters and for the criterion we are going to use the `CrossEntropyLoss()` function since this is a multi-class classification."
      ],
      "metadata": {
        "id": "El_Hir4a0G1K"
      }
    },
    {
      "cell_type": "code",
      "execution_count": 45,
      "metadata": {
        "id": "1rDO8fLM4ZeJ"
      },
      "outputs": [],
      "source": [
        "optimizer = torch.optim.Adam(emotions_model.parameters())\n",
        "criterion = nn.CrossEntropyLoss().to(device)"
      ]
    },
    {
      "cell_type": "markdown",
      "source": [
        "In the following code cell we are going to create our `categorical_accuracy` function, which is a function that calulates the the catecorical accuracy between the predicted labels and real labels."
      ],
      "metadata": {
        "id": "gdGav6ES0nyk"
      }
    },
    {
      "cell_type": "code",
      "execution_count": 46,
      "metadata": {
        "id": "wSihiwCT4Za_"
      },
      "outputs": [],
      "source": [
        "def categorical_accuracy(preds, y):\n",
        "  top_pred = preds.argmax(1, keepdim = True)\n",
        "  correct = top_pred.eq(y.view_as(top_pred)).sum()\n",
        "  acc = correct.float() / y.shape[0]\n",
        "  return acc"
      ]
    },
    {
      "cell_type": "markdown",
      "source": [
        "### Train and Evaluate functions\n",
        "\n",
        "In the following code cell we are going to create our `train` and `evalutate` functions:"
      ],
      "metadata": {
        "id": "oTlBUEOc0_vj"
      }
    },
    {
      "cell_type": "code",
      "execution_count": 47,
      "metadata": {
        "id": "gM7MoHZT4ZYP"
      },
      "outputs": [],
      "source": [
        "def train(model, iterator, optimizer, criterion):\n",
        "  epoch_loss,epoch_acc = 0, 0\n",
        "  model.train()\n",
        "  for batch in iterator:\n",
        "    y, X = batch\n",
        "    X = X.to(device)\n",
        "    y = y.to(device)\n",
        "    optimizer.zero_grad()\n",
        "\n",
        "    predictions = model(X).squeeze(1)\n",
        "    loss = criterion(predictions, y)\n",
        "    acc = categorical_accuracy(predictions, y)\n",
        "    loss.backward()\n",
        "    optimizer.step()\n",
        "    epoch_loss += loss.item()\n",
        "    epoch_acc += acc.item()\n",
        "  return epoch_loss / len(iterator), epoch_acc / len(iterator)\n",
        "\n",
        "def evaluate(model, iterator, criterion):\n",
        "  epoch_loss,epoch_acc = 0, 0\n",
        "  model.eval()\n",
        "  with torch.no_grad():\n",
        "    for batch in iterator:\n",
        "      y, X = batch\n",
        "      X = X.to(device)\n",
        "      y = y.to(device)\n",
        "      predictions = model(X).squeeze(1)\n",
        "      loss = criterion(predictions, y)\n",
        "      acc = categorical_accuracy(predictions, y)\n",
        "      epoch_loss += loss.item()\n",
        "      epoch_acc += acc.item()\n",
        "  return epoch_loss / len(iterator), epoch_acc / len(iterator)"
      ]
    },
    {
      "cell_type": "markdown",
      "source": [
        "### Training Loop\n",
        "\n",
        "In the following code cell we are going to run the training loop. We are going to save the model when the loss decreased."
      ],
      "metadata": {
        "id": "RF-JtqA_2TNL"
      }
    },
    {
      "cell_type": "code",
      "execution_count": 48,
      "metadata": {
        "colab": {
          "base_uri": "https://localhost:8080/"
        },
        "id": "wk8kgNg35Mqg",
        "outputId": "de585e57-e6be-4d7c-fac9-29c3ae445f7a"
      },
      "outputs": [
        {
          "output_type": "stream",
          "name": "stdout",
          "text": [
            "+--------------------------------------------+\n",
            "|     EPOCH: 01/10 saving best model...      |\n",
            "+------------+-------+----------+------------+\n",
            "|  CATEGORY  |  LOSS | ACCURACY |    ETA     |\n",
            "+------------+-------+----------+------------+\n",
            "| Training   | 1.274 |    0.529 | 0:00:19.12 |\n",
            "| Validation | 0.726 |    0.763 |            |\n",
            "+------------+-------+----------+------------+\n",
            "+--------------------------------------------+\n",
            "|     EPOCH: 02/10 saving best model...      |\n",
            "+------------+-------+----------+------------+\n",
            "|  CATEGORY  |  LOSS | ACCURACY |    ETA     |\n",
            "+------------+-------+----------+------------+\n",
            "| Training   | 0.469 |    0.843 | 0:00:11.21 |\n",
            "| Validation | 0.251 |    0.912 |            |\n",
            "+------------+-------+----------+------------+\n",
            "+--------------------------------------------+\n",
            "|     EPOCH: 03/10 saving best model...      |\n",
            "+------------+-------+----------+------------+\n",
            "|  CATEGORY  |  LOSS | ACCURACY |    ETA     |\n",
            "+------------+-------+----------+------------+\n",
            "| Training   | 0.228 |    0.916 | 0:00:11.24 |\n",
            "| Validation | 0.187 |    0.926 |            |\n",
            "+------------+-------+----------+------------+\n",
            "+--------------------------------------------+\n",
            "|     EPOCH: 04/10 saving best model...      |\n",
            "+------------+-------+----------+------------+\n",
            "|  CATEGORY  |  LOSS | ACCURACY |    ETA     |\n",
            "+------------+-------+----------+------------+\n",
            "| Training   | 0.170 |    0.935 | 0:00:11.67 |\n",
            "| Validation | 0.180 |    0.922 |            |\n",
            "+------------+-------+----------+------------+\n",
            "+--------------------------------------------+\n",
            "|     EPOCH: 05/10 saving best model...      |\n",
            "+------------+-------+----------+------------+\n",
            "|  CATEGORY  |  LOSS | ACCURACY |    ETA     |\n",
            "+------------+-------+----------+------------+\n",
            "| Training   | 0.145 |    0.942 | 0:00:11.38 |\n",
            "| Validation | 0.166 |    0.929 |            |\n",
            "+------------+-------+----------+------------+\n",
            "+--------------------------------------------+\n",
            "|         EPOCH: 06/10 not saving...         |\n",
            "+------------+-------+----------+------------+\n",
            "|  CATEGORY  |  LOSS | ACCURACY |    ETA     |\n",
            "+------------+-------+----------+------------+\n",
            "| Training   | 0.124 |    0.952 | 0:00:11.38 |\n",
            "| Validation | 0.176 |    0.928 |            |\n",
            "+------------+-------+----------+------------+\n",
            "+--------------------------------------------+\n",
            "|         EPOCH: 07/10 not saving...         |\n",
            "+------------+-------+----------+------------+\n",
            "|  CATEGORY  |  LOSS | ACCURACY |    ETA     |\n",
            "+------------+-------+----------+------------+\n",
            "| Training   | 0.112 |    0.955 | 0:00:11.36 |\n",
            "| Validation | 0.175 |    0.926 |            |\n",
            "+------------+-------+----------+------------+\n",
            "+--------------------------------------------+\n",
            "|         EPOCH: 08/10 not saving...         |\n",
            "+------------+-------+----------+------------+\n",
            "|  CATEGORY  |  LOSS | ACCURACY |    ETA     |\n",
            "+------------+-------+----------+------------+\n",
            "| Training   | 0.095 |    0.963 | 0:00:11.32 |\n",
            "| Validation | 0.185 |    0.925 |            |\n",
            "+------------+-------+----------+------------+\n",
            "+--------------------------------------------+\n",
            "|         EPOCH: 09/10 not saving...         |\n",
            "+------------+-------+----------+------------+\n",
            "|  CATEGORY  |  LOSS | ACCURACY |    ETA     |\n",
            "+------------+-------+----------+------------+\n",
            "| Training   | 0.082 |    0.969 | 0:00:11.30 |\n",
            "| Validation | 0.186 |    0.929 |            |\n",
            "+------------+-------+----------+------------+\n",
            "+--------------------------------------------+\n",
            "|         EPOCH: 10/10 not saving...         |\n",
            "+------------+-------+----------+------------+\n",
            "|  CATEGORY  |  LOSS | ACCURACY |    ETA     |\n",
            "+------------+-------+----------+------------+\n",
            "| Training   | 0.072 |    0.973 | 0:00:11.27 |\n",
            "| Validation | 0.193 |    0.921 |            |\n",
            "+------------+-------+----------+------------+\n"
          ]
        }
      ],
      "source": [
        "N_EPOCHS = 10\n",
        "MODEL_NAME = 'emotion-torch.pt'\n",
        "\n",
        "best_valid_loss = float('inf')\n",
        "for epoch in range(N_EPOCHS):\n",
        "  start = time.time()\n",
        "  train_loss, train_acc = train(emotions_model, train_loader, optimizer, criterion)\n",
        "  valid_loss, valid_acc = evaluate(emotions_model, val_loader, criterion)\n",
        "  title = f\"EPOCH: {epoch+1:02}/{N_EPOCHS:02} {'saving best model...' if valid_loss < best_valid_loss else 'not saving...'}\"\n",
        "  if valid_loss < best_valid_loss:\n",
        "      best_valid_loss = valid_loss\n",
        "      torch.save(emotions_model.state_dict(), MODEL_NAME)\n",
        "  end = time.time()\n",
        "  data = [\n",
        "       [\"Training\", f'{train_loss:.3f}', f'{train_acc:.3f}', f\"{utils.hms_string(end - start)}\" ],\n",
        "       [\"Validation\", f'{valid_loss:.3f}', f'{valid_acc:.3f}', \"\" ],       \n",
        "   ]\n",
        "  columns = [\"CATEGORY\", \"LOSS\", \"ACCURACY\", \"ETA\"]\n",
        "  tables.tabulate_data(columns, data, title)\n"
      ]
    },
    {
      "cell_type": "markdown",
      "source": [
        "### Evaluating the best model.\n",
        "In the following code cell we are going to evaluate the best model using on the `test` data as follows:"
      ],
      "metadata": {
        "id": "HNwUpIZ92-6h"
      }
    },
    {
      "cell_type": "code",
      "execution_count": 49,
      "metadata": {
        "colab": {
          "base_uri": "https://localhost:8080/"
        },
        "id": "NkwGMhww5tXH",
        "outputId": "e5f3c859-0aaa-4458-ff9c-fbda3b870073"
      },
      "outputs": [
        {
          "output_type": "stream",
          "name": "stdout",
          "text": [
            "+--------------------------------------+\n",
            "|       Model Evaluation Summary       |\n",
            "+------+-------+----------+------------+\n",
            "| Set  |  Loss | Accuracy | ETA (time) |\n",
            "+------+-------+----------+------------+\n",
            "| Test | 0.167 |   91.72% |            |\n",
            "+------+-------+----------+------------+\n"
          ]
        }
      ],
      "source": [
        "column_names = [\"Set\", \"Loss\", \"Accuracy\", \"ETA (time)\"]\n",
        "emotions_model.load_state_dict(torch.load(MODEL_NAME))\n",
        "test_loss, test_acc = evaluate(emotions_model, test_loader, criterion)\n",
        "title = \"Model Evaluation Summary\"\n",
        "data_rows = [[\"Test\", f'{test_loss:.3f}', f'{test_acc * 100:.2f}%', \"\"]]\n",
        "\n",
        "tables.tabulate_data(column_names, data_rows, title)"
      ]
    },
    {
      "cell_type": "markdown",
      "source": [
        "### Model Inference\n",
        "In the following code cell we are going to make predictions with the best model. We will have the function called `inference_preprocess_text` which is a function that process the text for inference."
      ],
      "metadata": {
        "id": "gRAWjwfd3XZg"
      }
    },
    {
      "cell_type": "code",
      "execution_count": 50,
      "metadata": {
        "id": "maLH9sSM8HfT"
      },
      "outputs": [],
      "source": [
        "def inference_preprocess_text(text, max_len=100, padding=\"pre\"):\n",
        "  assert padding==\"pre\" or padding==\"post\", \"the padding can be either pre or post\"\n",
        "  text_holder = torch.zeros(max_len, dtype=torch.int32) # fixed size tensor of max_len with <pad> = 0\n",
        "  processed_text = torch.tensor(text_pipeline(text), dtype=torch.int32)\n",
        "  pos = min(max_len, len(processed_text))\n",
        "  if padding == \"pre\":\n",
        "    text_holder[:pos] = processed_text[:pos]\n",
        "  else:\n",
        "    text_holder[-pos:] = processed_text[-pos:]\n",
        "  text_list= text_holder.unsqueeze(dim=0)\n",
        "  return text_list"
      ]
    },
    {
      "cell_type": "markdown",
      "source": [
        "### Predicting Emotions\n",
        "In the following code cell we are going to create a function that predicts the emotion in the text that is called `predict_emotion`."
      ],
      "metadata": {
        "id": "_OIlVvSs318q"
      }
    },
    {
      "cell_type": "code",
      "source": [
        "emotions_emojis = {\n",
        "   'anger' : \":angry:\", \n",
        "   'fear': \":fearful:\", \n",
        "   'joy' : \":smile:\", \n",
        "   'love' : \":heart_eyes:\", \n",
        "   'sadness' : \":disappointed:\", \n",
        "   'surprise': \":open_mouth:\"\n",
        "}"
      ],
      "metadata": {
        "id": "_lBhNkGX4KpA"
      },
      "execution_count": 51,
      "outputs": []
    },
    {
      "cell_type": "code",
      "execution_count": 52,
      "metadata": {
        "id": "yFSdomq15tUC"
      },
      "outputs": [],
      "source": [
        "def predict_emotion(model, sentence, min_len = 5):\n",
        "  model.eval()\n",
        "  with torch.no_grad():\n",
        "    tensor = inference_preprocess_text(sentence).to(device)\n",
        "    probabilities = torch.softmax(model(tensor).squeeze(0), dim=0)\n",
        "    prediction = torch.argmax(probabilities)\n",
        "    prediction = prediction.detach().cpu().item()\n",
        "    classes = {v:k for k, v in labels_dict.items()}\n",
        "    class_name = classes[prediction]\n",
        "    columns_ =  [\"label\", 'value']\n",
        "    title = \"PREDICTIONS OF EMOTIONS\"\n",
        "    data = [\n",
        "        ['text', sentence],\n",
        "        ['predicted class', prediction],\n",
        "        ['predicted class name', class_name],\n",
        "        ['predicted emoji', emoji.emojize(emotions_emojis.get(class_name), language='alias')],\n",
        "        ['probability', round(probabilities[prediction].item(), 2)]\n",
        "    ]\n",
        "    tables.tabulate_data(columns_, data, title)\n",
        "  "
      ]
    },
    {
      "cell_type": "code",
      "source": [
        "# sadness\n",
        "predict_emotion(emotions_model, \"im updating my blog because i feel shitty.\")"
      ],
      "metadata": {
        "colab": {
          "base_uri": "https://localhost:8080/"
        },
        "id": "VVpBH0sB5Cc4",
        "outputId": "2c420f39-0d05-4158-86f5-f053d9393196"
      },
      "execution_count": 53,
      "outputs": [
        {
          "output_type": "stream",
          "name": "stdout",
          "text": [
            "+-------------------------------------------------------------------+\n",
            "|                      PREDICTIONS OF EMOTIONS                      |\n",
            "+----------------------+--------------------------------------------+\n",
            "|        label         |                   value                    |\n",
            "+----------------------+--------------------------------------------+\n",
            "| text                 | im updating my blog because i feel shitty. |\n",
            "| predicted class      |                                          0 |\n",
            "| predicted class name |                                    sadness |\n",
            "| predicted emoji      |                                         😞 |\n",
            "| probability          |                                        1.0 |\n",
            "+----------------------+--------------------------------------------+\n"
          ]
        }
      ]
    },
    {
      "cell_type": "code",
      "execution_count": 54,
      "metadata": {
        "colab": {
          "base_uri": "https://localhost:8080/"
        },
        "id": "_5Oe97TB5tQz",
        "outputId": "bea559e9-e226-4686-a445-113b615a274f"
      },
      "outputs": [
        {
          "output_type": "stream",
          "name": "stdout",
          "text": [
            "+-----------------------------------------------------------------------------------+\n",
            "|                              PREDICTIONS OF EMOTIONS                              |\n",
            "+----------------------+------------------------------------------------------------+\n",
            "|        label         |                           value                            |\n",
            "+----------------------+------------------------------------------------------------+\n",
            "| text                 | i am feeling apprehensive about it but also wildly excited |\n",
            "| predicted class      |                                                          4 |\n",
            "| predicted class name |                                                       fear |\n",
            "| predicted emoji      |                                                         😨 |\n",
            "| probability          |                                                        1.0 |\n",
            "+----------------------+------------------------------------------------------------+\n"
          ]
        }
      ],
      "source": [
        "# fear\n",
        "predict_emotion(emotions_model, \"i am feeling apprehensive about it but also wildly excited\")"
      ]
    },
    {
      "cell_type": "code",
      "execution_count": 55,
      "metadata": {
        "colab": {
          "base_uri": "https://localhost:8080/"
        },
        "id": "JiDQSRSm5tN7",
        "outputId": "10ccbb3e-feca-4442-feab-8d4d52449cf3"
      },
      "outputs": [
        {
          "output_type": "stream",
          "name": "stdout",
          "text": [
            "+------------------------------------------------------+\n",
            "|               PREDICTIONS OF EMOTIONS                |\n",
            "+----------------------+-------------------------------+\n",
            "|        label         |             value             |\n",
            "+----------------------+-------------------------------+\n",
            "| text                 | i feel a little mellow today. |\n",
            "| predicted class      |                             5 |\n",
            "| predicted class name |                           joy |\n",
            "| predicted emoji      |                            😄 |\n",
            "| probability          |                           1.0 |\n",
            "+----------------------+-------------------------------+\n"
          ]
        }
      ],
      "source": [
        "# joy\n",
        "predict_emotion(emotions_model, \"i feel a little mellow today.\")"
      ]
    },
    {
      "cell_type": "code",
      "execution_count": 56,
      "metadata": {
        "colab": {
          "base_uri": "https://localhost:8080/"
        },
        "id": "4wop2yWtA7Qr",
        "outputId": "e5aaee23-0e9b-4fa9-fc35-e79a13f26f4c"
      },
      "outputs": [
        {
          "output_type": "stream",
          "name": "stdout",
          "text": [
            "+-----------------------------------------------------------------------------------------------+\n",
            "|                                    PREDICTIONS OF EMOTIONS                                    |\n",
            "+----------------------+------------------------------------------------------------------------+\n",
            "|        label         |                                 value                                  |\n",
            "+----------------------+------------------------------------------------------------------------+\n",
            "| text                 | i feel shocked and sad at the fact that there are so many sick people. |\n",
            "| predicted class      |                                                                      3 |\n",
            "| predicted class name |                                                               surprise |\n",
            "| predicted emoji      |                                                                     😮 |\n",
            "| probability          |                                                                    1.0 |\n",
            "+----------------------+------------------------------------------------------------------------+\n"
          ]
        }
      ],
      "source": [
        "# surprise\n",
        "predict_emotion(emotions_model, \"i feel shocked and sad at the fact that there are so many sick people.\")"
      ]
    },
    {
      "cell_type": "code",
      "execution_count": 57,
      "metadata": {
        "colab": {
          "base_uri": "https://localhost:8080/"
        },
        "id": "ugfJGwOMBB7w",
        "outputId": "59dc6397-b4d1-4a81-d63b-1654e80ef5bb"
      },
      "outputs": [
        {
          "output_type": "stream",
          "name": "stdout",
          "text": [
            "+----------------------------------------------------------------------+\n",
            "|                       PREDICTIONS OF EMOTIONS                        |\n",
            "+----------------------+-----------------------------------------------+\n",
            "|        label         |                     value                     |\n",
            "+----------------------+-----------------------------------------------+\n",
            "| text                 | i want each of you to feel my gentle embrace. |\n",
            "| predicted class      |                                             2 |\n",
            "| predicted class name |                                          love |\n",
            "| predicted emoji      |                                            😍 |\n",
            "| probability          |                                          0.99 |\n",
            "+----------------------+-----------------------------------------------+\n"
          ]
        }
      ],
      "source": [
        "# love \n",
        "predict_emotion(emotions_model, \"i want each of you to feel my gentle embrace.\")"
      ]
    },
    {
      "cell_type": "code",
      "execution_count": 58,
      "metadata": {
        "colab": {
          "base_uri": "https://localhost:8080/"
        },
        "id": "m7W6rH-ZBIM2",
        "outputId": "a0d7a790-d751-4dc7-d54c-945b7d33db9b"
      },
      "outputs": [
        {
          "output_type": "stream",
          "name": "stdout",
          "text": [
            "+--------------------------------------------------------------------------------------------------------+\n",
            "|                                        PREDICTIONS OF EMOTIONS                                         |\n",
            "+----------------------+---------------------------------------------------------------------------------+\n",
            "|        label         |                                      value                                      |\n",
            "+----------------------+---------------------------------------------------------------------------------+\n",
            "| text                 | i feel like my irritable sensitive combination skin has finally met it s match. |\n",
            "| predicted class      |                                                                               1 |\n",
            "| predicted class name |                                                                           anger |\n",
            "| predicted emoji      |                                                                              😠 |\n",
            "| probability          |                                                                            0.99 |\n",
            "+----------------------+---------------------------------------------------------------------------------+\n"
          ]
        }
      ],
      "source": [
        "# anger\n",
        "predict_emotion(emotions_model, \"i feel like my irritable sensitive combination skin has finally met it s match.\")"
      ]
    },
    {
      "cell_type": "markdown",
      "source": [
        "### Confusion matrix.\n",
        "\n",
        "In the following code cell we are going to extract features and labels that we are going to use to plot our confusion matrix. We are going to use the `test` set."
      ],
      "metadata": {
        "id": "r-rTezKO8eSK"
      }
    },
    {
      "cell_type": "code",
      "execution_count": 59,
      "metadata": {
        "id": "b8STMjVSBOOM",
        "colab": {
          "base_uri": "https://localhost:8080/"
        },
        "outputId": "730369dd-6cd7-4bfe-c889-421e2b026fe9"
      },
      "outputs": [
        {
          "output_type": "stream",
          "name": "stderr",
          "text": [
            "/usr/local/lib/python3.7/dist-packages/ipykernel_launcher.py:6: UserWarning: Creating a tensor from a list of numpy.ndarrays is extremely slow. Please consider converting the list to a single numpy.ndarray with numpy.array() before converting to a tensor. (Triggered internally at  ../torch/csrc/utils/tensor_new.cpp:201.)\n",
            "  \n"
          ]
        }
      ],
      "source": [
        "test_features = []\n",
        "test_labels = []\n",
        "for (y, X) in test_loader:\n",
        "  test_features.extend(X.numpy())\n",
        "  test_labels.extend(y.numpy())\n",
        "test_features = torch.tensor([i for i in test_features]).to(device)"
      ]
    },
    {
      "cell_type": "code",
      "source": [
        "emotions_model.eval()\n",
        "with torch.no_grad():\n",
        "  preds = torch.argmax(emotions_model(test_features), dim=1)\n",
        "  preds = list(preds.detach().cpu().numpy())"
      ],
      "metadata": {
        "id": "jNXRZ38O9dOA"
      },
      "execution_count": 60,
      "outputs": []
    },
    {
      "cell_type": "code",
      "source": [
        "classes = [k for k, v in labels_dict.items()]\n",
        "classes"
      ],
      "metadata": {
        "colab": {
          "base_uri": "https://localhost:8080/"
        },
        "id": "2Rpz5MNFAeee",
        "outputId": "2109c9dd-a4aa-49db-f816-efef98e20a04"
      },
      "execution_count": 61,
      "outputs": [
        {
          "output_type": "execute_result",
          "data": {
            "text/plain": [
              "['sadness', 'anger', 'love', 'surprise', 'fear', 'joy']"
            ]
          },
          "metadata": {},
          "execution_count": 61
        }
      ]
    },
    {
      "cell_type": "code",
      "source": [
        "visualization.plot_complicated_confusion_matrix(test_labels, preds, classes, figsize=(10, 10), fontsize=10)"
      ],
      "metadata": {
        "colab": {
          "base_uri": "https://localhost:8080/",
          "height": 580
        },
        "id": "FF9xdUGO-xQV",
        "outputId": "cb1e2735-480a-4819-b84a-d7901a064b06"
      },
      "execution_count": 62,
      "outputs": [
        {
          "output_type": "display_data",
          "data": {
            "text/plain": [
              "<Figure size 720x720 with 2 Axes>"
            ],
            "image/png": "[encoded data removed]"
          },
          "metadata": {
            "needs_background": "light"
          }
        }
      ]
    },
    {
      "cell_type": "code",
      "source": [],
      "metadata": {
        "id": "EkQgTAR6KIdg"
      },
      "execution_count": 62,
      "outputs": []
    }
  ],
  "metadata": {
    "accelerator": "GPU",
    "colab": {
      "collapsed_sections": [],
      "name": "04_TORCHTEXT_CNN_2D.ipynb",
      "provenance": []
    },
    "gpuClass": "standard",
    "kernelspec": {
      "display_name": "Python 3",
      "name": "python3"
    },
    "language_info": {
      "name": "python"
    }
  },
  "nbformat": 4,
  "nbformat_minor": 0
}