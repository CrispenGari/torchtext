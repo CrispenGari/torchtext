{
  "cells": [
    {
      "cell_type": "markdown",
      "source": [
        "### Torchtext BiDirectional LSTM (Packed Padded) with Embedding vectors\n",
        "\n",
        "In this notebook we are going to create a `BiDirectionalLSTM` model to do emotional classification on text data. We are going to learn how to load pretrained embedding vectors using `torchtext`.\n",
        "\n",
        "### Reference Notebooks\n",
        "Some of the code in this notebook was taken from my previous notebooks with torchtext:\n",
        "\n",
        "1. [01_Emotions_Sentiment_Analyisis_Packed_Padded_Sequences.ipynb](https://github.com/CrispenGari/nlp-pytorch/blob/main/03_Emotions/01_Emotions_Sentiment_Analyisis_Packed_Padded_Sequences.ipynb)\n",
        "2. [04_AHD_Classification_BiLSTM.ipynb](https://github.com/CrispenGari/ahd-detector/blob/main/notebooks/04_AHD_Classification_BiLSTM.ipynb)\n",
        "\n",
        "\n",
        "###  Installation of Packages\n",
        "In the following code cell we are going to install the packages that we are going to use in this notebook which are `helperfns` and `emoji`. The `emoji` package allows us to get emoji text and we will use it later on in this notebook. The `helperfns` package allows us to get some machine learning helper function which we are also going to use in this notebook as well."
      ],
      "metadata": {
        "id": "1aKlPSIJdlYM"
      }
    },
    {
      "cell_type": "code",
      "source": [
        "!pip install helperfns -q"
      ],
      "metadata": {
        "id": "n0KCek_jjbQw"
      },
      "execution_count": 13,
      "outputs": []
    },
    {
      "cell_type": "code",
      "source": [
        "!pip install emoji -q"
      ],
      "metadata": {
        "colab": {
          "base_uri": "https://localhost:8080/"
        },
        "id": "CmAJF6ISffkR",
        "outputId": "4e97c380-0cb2-4b3e-d9f7-95d909c6cdd9"
      },
      "execution_count": 12,
      "outputs": [
        {
          "output_type": "stream",
          "name": "stdout",
          "text": [
            "  Building wheel for sklearn (setup.py) ... \u001b[?25l\u001b[?25hdone\n"
          ]
        }
      ]
    },
    {
      "cell_type": "markdown",
      "source": [
        "### Imports \n",
        "\n",
        "In the following code cell we are going to import all the packages that are going to be used in this notebook."
      ],
      "metadata": {
        "id": "FPLcPXOMfi_m"
      }
    },
    {
      "cell_type": "code",
      "execution_count": 129,
      "metadata": {
        "id": "QqwZb0v5rnro",
        "colab": {
          "base_uri": "https://localhost:8080/"
        },
        "outputId": "48de042f-e95b-464f-e2b1-1eee7bf822be"
      },
      "outputs": [
        {
          "output_type": "execute_result",
          "data": {
            "text/plain": [
              "('0.13.1', '1.12.1+cu113')"
            ]
          },
          "metadata": {},
          "execution_count": 129
        }
      ],
      "source": [
        "import time\n",
        "import emoji\n",
        "import torch\n",
        "import os\n",
        "import random\n",
        "import torchtext\n",
        "\n",
        "from prettytable import PrettyTable\n",
        "from matplotlib import pyplot as plt\n",
        "from google.colab import drive\n",
        "from torch import nn\n",
        "from torchtext import data\n",
        "from collections import Counter\n",
        "from torchtext import vocab\n",
        "from helperfns import tables, visualization, utils\n",
        "\n",
        "import torch.nn.functional as F\n",
        "import numpy as np\n",
        "import pandas as pd\n",
        "\n",
        "torchtext.__version__, torch.__version__"
      ]
    },
    {
      "cell_type": "markdown",
      "source": [
        "### Files\n",
        "\n",
        "Files are stored in google drive so we need to mount a google drive in our noteboook so that we can easily interact with the google file system using the `API`."
      ],
      "metadata": {
        "id": "eZttB6amgEl3"
      }
    },
    {
      "cell_type": "code",
      "execution_count": 4,
      "metadata": {
        "colab": {
          "base_uri": "https://localhost:8080/"
        },
        "id": "1M5TYUgmrsqn",
        "outputId": "074165f9-d78b-4570-ddc2-7b5915e44571"
      },
      "outputs": [
        {
          "output_type": "stream",
          "name": "stdout",
          "text": [
            "Mounted at /content/drive\n"
          ]
        }
      ],
      "source": [
        "drive.mount('/content/drive')"
      ]
    },
    {
      "cell_type": "markdown",
      "source": [
        "### File Paths\n",
        "In the following code cell we are going to define the path where our files are going to be stored. We have the following filed `emotion-nlp`folder that is in our google drive:\n",
        "\n",
        "1. train.csv\n",
        "2. valid.csv\n",
        "3. test.csv"
      ],
      "metadata": {
        "id": "EB-QWAiEgZfG"
      }
    },
    {
      "cell_type": "code",
      "execution_count": 6,
      "metadata": {
        "id": "viE44huFry4e"
      },
      "outputs": [],
      "source": [
        "data_path = '/content/drive/MyDrive/NLP Data/emotions-nlp'\n",
        "assert os.path.exists(data_path), f\"The path '{data_path}' check if you mounted the google drive in this notebook.\""
      ]
    },
    {
      "cell_type": "markdown",
      "source": [
        "### Device\n",
        "In the following code cell we are going to create a device variable and utilize the `cuda` GPU if available in this notebook."
      ],
      "metadata": {
        "id": "C4G6h3V2hIkH"
      }
    },
    {
      "cell_type": "code",
      "execution_count": 7,
      "metadata": {
        "colab": {
          "base_uri": "https://localhost:8080/"
        },
        "id": "KCwjrdaMr3S0",
        "outputId": "4433f8f5-130a-4372-8b43-063cd4d6e4ee"
      },
      "outputs": [
        {
          "output_type": "execute_result",
          "data": {
            "text/plain": [
              "device(type='cuda')"
            ]
          },
          "metadata": {},
          "execution_count": 7
        }
      ],
      "source": [
        "device = torch.device('cuda' if torch.cuda.is_available() else 'cpu')\n",
        "device"
      ]
    },
    {
      "cell_type": "markdown",
      "source": [
        "### Seed\n",
        "\n",
        "In the following  code cell we are going to define the seed for reproducivity in this notebook."
      ],
      "metadata": {
        "id": "J7sJbYQNhaG-"
      }
    },
    {
      "cell_type": "code",
      "execution_count": 15,
      "metadata": {
        "id": "x5zxG5Nyr2SI"
      },
      "outputs": [],
      "source": [
        "SEED = 42\n",
        "np.random.seed(SEED)\n",
        "random.seed(SEED)\n",
        "torch.manual_seed(SEED)\n",
        "torch.cuda.manual_seed(SEED)\n",
        "torch.backends.cudnn.deteministic = True"
      ]
    },
    {
      "cell_type": "markdown",
      "source": [
        "### Reading the data\n",
        "We are going to read the data in three files which are:\n",
        "\n",
        "1. train.csv\n",
        "2. test.csv\n",
        "3. valid.csv\n",
        "\n",
        "From our google drive files into pandas dataframes in the following code cell."
      ],
      "metadata": {
        "id": "ms3dQsYPhlzJ"
      }
    },
    {
      "cell_type": "code",
      "execution_count": 16,
      "metadata": {
        "id": "74qQGlLor5sb"
      },
      "outputs": [],
      "source": [
        "train_df = pd.read_csv(os.path.join(data_path, 'train.csv'))\n",
        "test_df = pd.read_csv(os.path.join(data_path, 'test.csv'))\n",
        "val_df = pd.read_csv(os.path.join(data_path, 'valid.csv'))"
      ]
    },
    {
      "cell_type": "markdown",
      "source": [
        "### Checking Examples\n",
        "In the following code cell we are going to check the first 5 example using the pandas dataframe method `head` for each dataframe."
      ],
      "metadata": {
        "id": "yVu6e-7Ph_Br"
      }
    },
    {
      "cell_type": "code",
      "execution_count": 17,
      "metadata": {
        "colab": {
          "base_uri": "https://localhost:8080/",
          "height": 206
        },
        "id": "A8bgh_hGsTUB",
        "outputId": "9e3e05f6-3a29-43fd-9360-eeac441884ca"
      },
      "outputs": [
        {
          "output_type": "execute_result",
          "data": {
            "text/plain": [
              "                                                text  emotion\n",
              "0                            i didnt feel humiliated  sadness\n",
              "1  i can go from feeling so hopeless to so damned...  sadness\n",
              "2   im grabbing a minute to post i feel greedy wrong    anger\n",
              "3  i am ever feeling nostalgic about the fireplac...     love\n",
              "4                               i am feeling grouchy    anger"
            ],
            "text/html": [
              "\n",
              "  <div id=\"df-b3c3ebed-38c8-4f39-a7c9-52e566937f2f\">\n",
              "    <div class=\"colab-df-container\">\n",
              "      <div>\n",
              "<style scoped>\n",
              "    .dataframe tbody tr th:only-of-type {\n",
              "        vertical-align: middle;\n",
              "    }\n",
              "\n",
              "    .dataframe tbody tr th {\n",
              "        vertical-align: top;\n",
              "    }\n",
              "\n",
              "    .dataframe thead th {\n",
              "        text-align: right;\n",
              "    }\n",
              "</style>\n",
              "<table border=\"1\" class=\"dataframe\">\n",
              "  <thead>\n",
              "    <tr style=\"text-align: right;\">\n",
              "      <th></th>\n",
              "      <th>text</th>\n",
              "      <th>emotion</th>\n",
              "    </tr>\n",
              "  </thead>\n",
              "  <tbody>\n",
              "    <tr>\n",
              "      <th>0</th>\n",
              "      <td>i didnt feel humiliated</td>\n",
              "      <td>sadness</td>\n",
              "    </tr>\n",
              "    <tr>\n",
              "      <th>1</th>\n",
              "      <td>i can go from feeling so hopeless to so damned...</td>\n",
              "      <td>sadness</td>\n",
              "    </tr>\n",
              "    <tr>\n",
              "      <th>2</th>\n",
              "      <td>im grabbing a minute to post i feel greedy wrong</td>\n",
              "      <td>anger</td>\n",
              "    </tr>\n",
              "    <tr>\n",
              "      <th>3</th>\n",
              "      <td>i am ever feeling nostalgic about the fireplac...</td>\n",
              "      <td>love</td>\n",
              "    </tr>\n",
              "    <tr>\n",
              "      <th>4</th>\n",
              "      <td>i am feeling grouchy</td>\n",
              "      <td>anger</td>\n",
              "    </tr>\n",
              "  </tbody>\n",
              "</table>\n",
              "</div>\n",
              "      <button class=\"colab-df-convert\" onclick=\"convertToInteractive('df-b3c3ebed-38c8-4f39-a7c9-52e566937f2f')\"\n",
              "              title=\"Convert this dataframe to an interactive table.\"\n",
              "              style=\"display:none;\">\n",
              "        \n",
              "  <svg xmlns=\"http://www.w3.org/2000/svg\" height=\"24px\"viewBox=\"0 0 24 24\"\n",
              "       width=\"24px\">\n",
              "    <path d=\"M0 0h24v24H0V0z\" fill=\"none\"/>\n",
              "    <path d=\"M18.56 5.44l.94 2.06.94-2.06 2.06-.94-2.06-.94-.94-2.06-.94 2.06-2.06.94zm-11 1L8.5 8.5l.94-2.06 2.06-.94-2.06-.94L8.5 2.5l-.94 2.06-2.06.94zm10 10l.94 2.06.94-2.06 2.06-.94-2.06-.94-.94-2.06-.94 2.06-2.06.94z\"/><path d=\"M17.41 7.96l-1.37-1.37c-.4-.4-.92-.59-1.43-.59-.52 0-1.04.2-1.43.59L10.3 9.45l-7.72 7.72c-.78.78-.78 2.05 0 2.83L4 21.41c.39.39.9.59 1.41.59.51 0 1.02-.2 1.41-.59l7.78-7.78 2.81-2.81c.8-.78.8-2.07 0-2.86zM5.41 20L4 18.59l7.72-7.72 1.47 1.35L5.41 20z\"/>\n",
              "  </svg>\n",
              "      </button>\n",
              "      \n",
              "  <style>\n",
              "    .colab-df-container {\n",
              "      display:flex;\n",
              "      flex-wrap:wrap;\n",
              "      gap: 12px;\n",
              "    }\n",
              "\n",
              "    .colab-df-convert {\n",
              "      background-color: #E8F0FE;\n",
              "      border: none;\n",
              "      border-radius: 50%;\n",
              "      cursor: pointer;\n",
              "      display: none;\n",
              "      fill: #1967D2;\n",
              "      height: 32px;\n",
              "      padding: 0 0 0 0;\n",
              "      width: 32px;\n",
              "    }\n",
              "\n",
              "    .colab-df-convert:hover {\n",
              "      background-color: #E2EBFA;\n",
              "      box-shadow: 0px 1px 2px rgba(60, 64, 67, 0.3), 0px 1px 3px 1px rgba(60, 64, 67, 0.15);\n",
              "      fill: #174EA6;\n",
              "    }\n",
              "\n",
              "    [theme=dark] .colab-df-convert {\n",
              "      background-color: #3B4455;\n",
              "      fill: #D2E3FC;\n",
              "    }\n",
              "\n",
              "    [theme=dark] .colab-df-convert:hover {\n",
              "      background-color: #434B5C;\n",
              "      box-shadow: 0px 1px 3px 1px rgba(0, 0, 0, 0.15);\n",
              "      filter: drop-shadow(0px 1px 2px rgba(0, 0, 0, 0.3));\n",
              "      fill: #FFFFFF;\n",
              "    }\n",
              "  </style>\n",
              "\n",
              "      <script>\n",
              "        const buttonEl =\n",
              "          document.querySelector('#df-b3c3ebed-38c8-4f39-a7c9-52e566937f2f button.colab-df-convert');\n",
              "        buttonEl.style.display =\n",
              "          google.colab.kernel.accessAllowed ? 'block' : 'none';\n",
              "\n",
              "        async function convertToInteractive(key) {\n",
              "          const element = document.querySelector('#df-b3c3ebed-38c8-4f39-a7c9-52e566937f2f');\n",
              "          const dataTable =\n",
              "            await google.colab.kernel.invokeFunction('convertToInteractive',\n",
              "                                                     [key], {});\n",
              "          if (!dataTable) return;\n",
              "\n",
              "          const docLinkHtml = 'Like what you see? Visit the ' +\n",
              "            '<a target=\"_blank\" href=https://colab.research.google.com/notebooks/data_table.ipynb>data table notebook</a>'\n",
              "            + ' to learn more about interactive tables.';\n",
              "          element.innerHTML = '';\n",
              "          dataTable['output_type'] = 'display_data';\n",
              "          await google.colab.output.renderOutput(dataTable, element);\n",
              "          const docLink = document.createElement('div');\n",
              "          docLink.innerHTML = docLinkHtml;\n",
              "          element.appendChild(docLink);\n",
              "        }\n",
              "      </script>\n",
              "    </div>\n",
              "  </div>\n",
              "  "
            ]
          },
          "metadata": {},
          "execution_count": 17
        }
      ],
      "source": [
        "train_df.head()"
      ]
    },
    {
      "cell_type": "code",
      "source": [
        "test_df.head()"
      ],
      "metadata": {
        "colab": {
          "base_uri": "https://localhost:8080/",
          "height": 206
        },
        "id": "U3Lu7EaOiaLp",
        "outputId": "172a5b2a-de77-4981-b1ef-8324580d6141"
      },
      "execution_count": 18,
      "outputs": [
        {
          "output_type": "execute_result",
          "data": {
            "text/plain": [
              "                                                text  emotion\n",
              "0  im feeling rather rotten so im not very ambiti...  sadness\n",
              "1          im updating my blog because i feel shitty  sadness\n",
              "2  i never make her separate from me because i do...  sadness\n",
              "3  i left with my bouquet of red and yellow tulip...      joy\n",
              "4    i was feeling a little vain when i did this one  sadness"
            ],
            "text/html": [
              "\n",
              "  <div id=\"df-a579ab06-c0a9-4c6d-8fc1-8888bbc10198\">\n",
              "    <div class=\"colab-df-container\">\n",
              "      <div>\n",
              "<style scoped>\n",
              "    .dataframe tbody tr th:only-of-type {\n",
              "        vertical-align: middle;\n",
              "    }\n",
              "\n",
              "    .dataframe tbody tr th {\n",
              "        vertical-align: top;\n",
              "    }\n",
              "\n",
              "    .dataframe thead th {\n",
              "        text-align: right;\n",
              "    }\n",
              "</style>\n",
              "<table border=\"1\" class=\"dataframe\">\n",
              "  <thead>\n",
              "    <tr style=\"text-align: right;\">\n",
              "      <th></th>\n",
              "      <th>text</th>\n",
              "      <th>emotion</th>\n",
              "    </tr>\n",
              "  </thead>\n",
              "  <tbody>\n",
              "    <tr>\n",
              "      <th>0</th>\n",
              "      <td>im feeling rather rotten so im not very ambiti...</td>\n",
              "      <td>sadness</td>\n",
              "    </tr>\n",
              "    <tr>\n",
              "      <th>1</th>\n",
              "      <td>im updating my blog because i feel shitty</td>\n",
              "      <td>sadness</td>\n",
              "    </tr>\n",
              "    <tr>\n",
              "      <th>2</th>\n",
              "      <td>i never make her separate from me because i do...</td>\n",
              "      <td>sadness</td>\n",
              "    </tr>\n",
              "    <tr>\n",
              "      <th>3</th>\n",
              "      <td>i left with my bouquet of red and yellow tulip...</td>\n",
              "      <td>joy</td>\n",
              "    </tr>\n",
              "    <tr>\n",
              "      <th>4</th>\n",
              "      <td>i was feeling a little vain when i did this one</td>\n",
              "      <td>sadness</td>\n",
              "    </tr>\n",
              "  </tbody>\n",
              "</table>\n",
              "</div>\n",
              "      <button class=\"colab-df-convert\" onclick=\"convertToInteractive('df-a579ab06-c0a9-4c6d-8fc1-8888bbc10198')\"\n",
              "              title=\"Convert this dataframe to an interactive table.\"\n",
              "              style=\"display:none;\">\n",
              "        \n",
              "  <svg xmlns=\"http://www.w3.org/2000/svg\" height=\"24px\"viewBox=\"0 0 24 24\"\n",
              "       width=\"24px\">\n",
              "    <path d=\"M0 0h24v24H0V0z\" fill=\"none\"/>\n",
              "    <path d=\"M18.56 5.44l.94 2.06.94-2.06 2.06-.94-2.06-.94-.94-2.06-.94 2.06-2.06.94zm-11 1L8.5 8.5l.94-2.06 2.06-.94-2.06-.94L8.5 2.5l-.94 2.06-2.06.94zm10 10l.94 2.06.94-2.06 2.06-.94-2.06-.94-.94-2.06-.94 2.06-2.06.94z\"/><path d=\"M17.41 7.96l-1.37-1.37c-.4-.4-.92-.59-1.43-.59-.52 0-1.04.2-1.43.59L10.3 9.45l-7.72 7.72c-.78.78-.78 2.05 0 2.83L4 21.41c.39.39.9.59 1.41.59.51 0 1.02-.2 1.41-.59l7.78-7.78 2.81-2.81c.8-.78.8-2.07 0-2.86zM5.41 20L4 18.59l7.72-7.72 1.47 1.35L5.41 20z\"/>\n",
              "  </svg>\n",
              "      </button>\n",
              "      \n",
              "  <style>\n",
              "    .colab-df-container {\n",
              "      display:flex;\n",
              "      flex-wrap:wrap;\n",
              "      gap: 12px;\n",
              "    }\n",
              "\n",
              "    .colab-df-convert {\n",
              "      background-color: #E8F0FE;\n",
              "      border: none;\n",
              "      border-radius: 50%;\n",
              "      cursor: pointer;\n",
              "      display: none;\n",
              "      fill: #1967D2;\n",
              "      height: 32px;\n",
              "      padding: 0 0 0 0;\n",
              "      width: 32px;\n",
              "    }\n",
              "\n",
              "    .colab-df-convert:hover {\n",
              "      background-color: #E2EBFA;\n",
              "      box-shadow: 0px 1px 2px rgba(60, 64, 67, 0.3), 0px 1px 3px 1px rgba(60, 64, 67, 0.15);\n",
              "      fill: #174EA6;\n",
              "    }\n",
              "\n",
              "    [theme=dark] .colab-df-convert {\n",
              "      background-color: #3B4455;\n",
              "      fill: #D2E3FC;\n",
              "    }\n",
              "\n",
              "    [theme=dark] .colab-df-convert:hover {\n",
              "      background-color: #434B5C;\n",
              "      box-shadow: 0px 1px 3px 1px rgba(0, 0, 0, 0.15);\n",
              "      filter: drop-shadow(0px 1px 2px rgba(0, 0, 0, 0.3));\n",
              "      fill: #FFFFFF;\n",
              "    }\n",
              "  </style>\n",
              "\n",
              "      <script>\n",
              "        const buttonEl =\n",
              "          document.querySelector('#df-a579ab06-c0a9-4c6d-8fc1-8888bbc10198 button.colab-df-convert');\n",
              "        buttonEl.style.display =\n",
              "          google.colab.kernel.accessAllowed ? 'block' : 'none';\n",
              "\n",
              "        async function convertToInteractive(key) {\n",
              "          const element = document.querySelector('#df-a579ab06-c0a9-4c6d-8fc1-8888bbc10198');\n",
              "          const dataTable =\n",
              "            await google.colab.kernel.invokeFunction('convertToInteractive',\n",
              "                                                     [key], {});\n",
              "          if (!dataTable) return;\n",
              "\n",
              "          const docLinkHtml = 'Like what you see? Visit the ' +\n",
              "            '<a target=\"_blank\" href=https://colab.research.google.com/notebooks/data_table.ipynb>data table notebook</a>'\n",
              "            + ' to learn more about interactive tables.';\n",
              "          element.innerHTML = '';\n",
              "          dataTable['output_type'] = 'display_data';\n",
              "          await google.colab.output.renderOutput(dataTable, element);\n",
              "          const docLink = document.createElement('div');\n",
              "          docLink.innerHTML = docLinkHtml;\n",
              "          element.appendChild(docLink);\n",
              "        }\n",
              "      </script>\n",
              "    </div>\n",
              "  </div>\n",
              "  "
            ]
          },
          "metadata": {},
          "execution_count": 18
        }
      ]
    },
    {
      "cell_type": "code",
      "source": [
        "val_df.head()"
      ],
      "metadata": {
        "colab": {
          "base_uri": "https://localhost:8080/",
          "height": 206
        },
        "id": "tFi2GfCwigEO",
        "outputId": "0379498f-23e7-48a1-e6dc-c7207a3e20fb"
      },
      "execution_count": 19,
      "outputs": [
        {
          "output_type": "execute_result",
          "data": {
            "text/plain": [
              "                                                text  emotion\n",
              "0  im feeling quite sad and sorry for myself but ...  sadness\n",
              "1  i feel like i am still looking at a blank canv...  sadness\n",
              "2                     i feel like a faithful servant     love\n",
              "3                  i am just feeling cranky and blue    anger\n",
              "4  i can have for a treat or if i am feeling festive      joy"
            ],
            "text/html": [
              "\n",
              "  <div id=\"df-25da33b8-b0c6-4d22-808d-b737d17015ac\">\n",
              "    <div class=\"colab-df-container\">\n",
              "      <div>\n",
              "<style scoped>\n",
              "    .dataframe tbody tr th:only-of-type {\n",
              "        vertical-align: middle;\n",
              "    }\n",
              "\n",
              "    .dataframe tbody tr th {\n",
              "        vertical-align: top;\n",
              "    }\n",
              "\n",
              "    .dataframe thead th {\n",
              "        text-align: right;\n",
              "    }\n",
              "</style>\n",
              "<table border=\"1\" class=\"dataframe\">\n",
              "  <thead>\n",
              "    <tr style=\"text-align: right;\">\n",
              "      <th></th>\n",
              "      <th>text</th>\n",
              "      <th>emotion</th>\n",
              "    </tr>\n",
              "  </thead>\n",
              "  <tbody>\n",
              "    <tr>\n",
              "      <th>0</th>\n",
              "      <td>im feeling quite sad and sorry for myself but ...</td>\n",
              "      <td>sadness</td>\n",
              "    </tr>\n",
              "    <tr>\n",
              "      <th>1</th>\n",
              "      <td>i feel like i am still looking at a blank canv...</td>\n",
              "      <td>sadness</td>\n",
              "    </tr>\n",
              "    <tr>\n",
              "      <th>2</th>\n",
              "      <td>i feel like a faithful servant</td>\n",
              "      <td>love</td>\n",
              "    </tr>\n",
              "    <tr>\n",
              "      <th>3</th>\n",
              "      <td>i am just feeling cranky and blue</td>\n",
              "      <td>anger</td>\n",
              "    </tr>\n",
              "    <tr>\n",
              "      <th>4</th>\n",
              "      <td>i can have for a treat or if i am feeling festive</td>\n",
              "      <td>joy</td>\n",
              "    </tr>\n",
              "  </tbody>\n",
              "</table>\n",
              "</div>\n",
              "      <button class=\"colab-df-convert\" onclick=\"convertToInteractive('df-25da33b8-b0c6-4d22-808d-b737d17015ac')\"\n",
              "              title=\"Convert this dataframe to an interactive table.\"\n",
              "              style=\"display:none;\">\n",
              "        \n",
              "  <svg xmlns=\"http://www.w3.org/2000/svg\" height=\"24px\"viewBox=\"0 0 24 24\"\n",
              "       width=\"24px\">\n",
              "    <path d=\"M0 0h24v24H0V0z\" fill=\"none\"/>\n",
              "    <path d=\"M18.56 5.44l.94 2.06.94-2.06 2.06-.94-2.06-.94-.94-2.06-.94 2.06-2.06.94zm-11 1L8.5 8.5l.94-2.06 2.06-.94-2.06-.94L8.5 2.5l-.94 2.06-2.06.94zm10 10l.94 2.06.94-2.06 2.06-.94-2.06-.94-.94-2.06-.94 2.06-2.06.94z\"/><path d=\"M17.41 7.96l-1.37-1.37c-.4-.4-.92-.59-1.43-.59-.52 0-1.04.2-1.43.59L10.3 9.45l-7.72 7.72c-.78.78-.78 2.05 0 2.83L4 21.41c.39.39.9.59 1.41.59.51 0 1.02-.2 1.41-.59l7.78-7.78 2.81-2.81c.8-.78.8-2.07 0-2.86zM5.41 20L4 18.59l7.72-7.72 1.47 1.35L5.41 20z\"/>\n",
              "  </svg>\n",
              "      </button>\n",
              "      \n",
              "  <style>\n",
              "    .colab-df-container {\n",
              "      display:flex;\n",
              "      flex-wrap:wrap;\n",
              "      gap: 12px;\n",
              "    }\n",
              "\n",
              "    .colab-df-convert {\n",
              "      background-color: #E8F0FE;\n",
              "      border: none;\n",
              "      border-radius: 50%;\n",
              "      cursor: pointer;\n",
              "      display: none;\n",
              "      fill: #1967D2;\n",
              "      height: 32px;\n",
              "      padding: 0 0 0 0;\n",
              "      width: 32px;\n",
              "    }\n",
              "\n",
              "    .colab-df-convert:hover {\n",
              "      background-color: #E2EBFA;\n",
              "      box-shadow: 0px 1px 2px rgba(60, 64, 67, 0.3), 0px 1px 3px 1px rgba(60, 64, 67, 0.15);\n",
              "      fill: #174EA6;\n",
              "    }\n",
              "\n",
              "    [theme=dark] .colab-df-convert {\n",
              "      background-color: #3B4455;\n",
              "      fill: #D2E3FC;\n",
              "    }\n",
              "\n",
              "    [theme=dark] .colab-df-convert:hover {\n",
              "      background-color: #434B5C;\n",
              "      box-shadow: 0px 1px 3px 1px rgba(0, 0, 0, 0.15);\n",
              "      filter: drop-shadow(0px 1px 2px rgba(0, 0, 0, 0.3));\n",
              "      fill: #FFFFFF;\n",
              "    }\n",
              "  </style>\n",
              "\n",
              "      <script>\n",
              "        const buttonEl =\n",
              "          document.querySelector('#df-25da33b8-b0c6-4d22-808d-b737d17015ac button.colab-df-convert');\n",
              "        buttonEl.style.display =\n",
              "          google.colab.kernel.accessAllowed ? 'block' : 'none';\n",
              "\n",
              "        async function convertToInteractive(key) {\n",
              "          const element = document.querySelector('#df-25da33b8-b0c6-4d22-808d-b737d17015ac');\n",
              "          const dataTable =\n",
              "            await google.colab.kernel.invokeFunction('convertToInteractive',\n",
              "                                                     [key], {});\n",
              "          if (!dataTable) return;\n",
              "\n",
              "          const docLinkHtml = 'Like what you see? Visit the ' +\n",
              "            '<a target=\"_blank\" href=https://colab.research.google.com/notebooks/data_table.ipynb>data table notebook</a>'\n",
              "            + ' to learn more about interactive tables.';\n",
              "          element.innerHTML = '';\n",
              "          dataTable['output_type'] = 'display_data';\n",
              "          await google.colab.output.renderOutput(dataTable, element);\n",
              "          const docLink = document.createElement('div');\n",
              "          docLink.innerHTML = docLinkHtml;\n",
              "          element.appendChild(docLink);\n",
              "        }\n",
              "      </script>\n",
              "    </div>\n",
              "  </div>\n",
              "  "
            ]
          },
          "metadata": {},
          "execution_count": 19
        }
      ]
    },
    {
      "cell_type": "markdown",
      "source": [
        "#### Counting examples\n",
        "In the following code cell we are going to count how many examples do we have in each set and visualize them in a tabular format."
      ],
      "metadata": {
        "id": "ckAt_RExjDP2"
      }
    },
    {
      "cell_type": "code",
      "source": [
        "columns = [\"Set\", \"Example(s)\"]\n",
        "examples = [\n",
        "    ['training', len(train_df)],\n",
        "    ['validation', len(val_df)],\n",
        "    ['testing', len(test_df)],\n",
        "    ['total', len(train_df) +  len(test_df) + len(val_df)],\n",
        "]\n",
        "tables.tabulate_data(columns, examples, \"Exmples\")"
      ],
      "metadata": {
        "colab": {
          "base_uri": "https://localhost:8080/"
        },
        "id": "nVM1jGiDkIs4",
        "outputId": "7453f439-5e27-43b8-c197-0f76f8b404ed"
      },
      "execution_count": 22,
      "outputs": [
        {
          "output_type": "stream",
          "name": "stdout",
          "text": [
            "+-------------------------+\n",
            "|         Exmples         |\n",
            "+------------+------------+\n",
            "| Set        | Example(s) |\n",
            "+------------+------------+\n",
            "| training   |      16000 |\n",
            "| validation |       2000 |\n",
            "| testing    |       2000 |\n",
            "| total      |      20000 |\n",
            "+------------+------------+\n"
          ]
        }
      ]
    },
    {
      "cell_type": "markdown",
      "source": [
        "### Features and Labels\n",
        "Our fetures are the actual sentences in the dataframe which is the column named `text` and our labels will come from the column called `emotion`. In the following code cell we are going to read features and labels in a numpy arrays for each set."
      ],
      "metadata": {
        "id": "3NT3y8vvilq0"
      }
    },
    {
      "cell_type": "code",
      "execution_count": 23,
      "metadata": {
        "id": "YFG-qFtJsrEI"
      },
      "outputs": [],
      "source": [
        "# train\n",
        "train_texts = train_df.text.values\n",
        "train_labels = train_df.emotion.values\n",
        "\n",
        "# test\n",
        "test_texts = test_df.text.values\n",
        "test_labels = test_df.emotion.values\n",
        "\n",
        "# val\n",
        "val_texts = val_df.text.values\n",
        "val_labels = val_df.emotion.values"
      ]
    },
    {
      "cell_type": "markdown",
      "source": [
        "### Text Preprocessing\n",
        "In our text processing pipeline we need to do the following step:\n",
        "\n",
        "1. tokenize text \n",
        "- this is the process of converting a sentence or text into senquence of word. For this we are going to use a pre-trained model from `spacy` language model. You can read more about other tokenizers that you can use at [pytorch.org](https://pytorch.org/text/stable/data_utils.html).\n",
        "\n",
        "2. vocabulary\n",
        "* We will to create a vocabulary based on our text. A vocabulary is esentially a word to index mapping that allows us to reference the word with their integer representation, since machine leaning models does not understand words. This vocabulary will be used during model training and also can be used at model inference.\n",
        "\n",
        "\n",
        "#### Tokenizer\n",
        "\n",
        "In the following code cell we are going to geta a tokenier object that will convert a sentence into a sequence of word using the `spacy-en` language model."
      ],
      "metadata": {
        "id": "kvmHM7TglDOi"
      }
    },
    {
      "cell_type": "code",
      "source": [
        "tokenizer = data.utils.get_tokenizer('spacy', 'en')\n",
        "\n",
        "tokenizer(\"This is a boy.\")"
      ],
      "metadata": {
        "colab": {
          "base_uri": "https://localhost:8080/"
        },
        "id": "J5QLQUzQnZ2Y",
        "outputId": "ca3c340e-08ff-494d-feb8-a52afdb2d185"
      },
      "execution_count": 25,
      "outputs": [
        {
          "output_type": "execute_result",
          "data": {
            "text/plain": [
              "['This', 'is', 'a', 'boy', '.']"
            ]
          },
          "metadata": {},
          "execution_count": 25
        }
      ]
    },
    {
      "cell_type": "markdown",
      "source": [
        "#### Vocabulary\n",
        "In the following code cell we are going to create a vocabulary object from  `torchtext`. This vocabulary takes in an `ordered_dict` of words to their count. So we are going to use the `Counter` module from collections to generate these counts from our train features.\n",
        "\n",
        "We are going to specify the `min_freq` to `2` meaning that the words that does not appear at least 2 times will be converted to unknown. We are also going to specify the special tokens during creation of the vocabulary object. "
      ],
      "metadata": {
        "id": "O0cvl-Cvnlsj"
      }
    },
    {
      "cell_type": "code",
      "execution_count": 26,
      "metadata": {
        "id": "cCcXNIhlsWEx"
      },
      "outputs": [],
      "source": [
        "counter = Counter()\n",
        "for line in train_texts:\n",
        "    counter.update(tokenizer(line))\n",
        "vocabulary = vocab.vocab(counter, min_freq=2, specials=('<unk>', '<sos>', '<eos>', '<pad>'))"
      ]
    },
    {
      "cell_type": "markdown",
      "source": [
        "### STOI - String To Integer\n",
        "This will be a dictionary that contains a string to integer mapping which will be our actual vocabulary. In the following code cell we are going to create object called `stoi` which is essentially a dictionary of word to index mapping."
      ],
      "metadata": {
        "id": "_YO81NcEolqJ"
      }
    },
    {
      "cell_type": "code",
      "execution_count": 27,
      "metadata": {
        "id": "NCnX2lY919mX"
      },
      "outputs": [],
      "source": [
        "stoi = vocabulary.get_stoi()"
      ]
    },
    {
      "cell_type": "markdown",
      "source": [
        "### Text Pipeline\n",
        "\n",
        "After our text has been tokenized we need a way of converting those words into numbers because machine leaning models understand numbers not words. That's where we the `text_pipeline` function comes over. So this function takes in a sentence and tokenize it then converts each word to a number. Note that the word that does not exists in the vocabulay `stoi` will be habin an unkown (`<unk>`) index."
      ],
      "metadata": {
        "id": "8wONl763pMCz"
      }
    },
    {
      "cell_type": "code",
      "execution_count": 29,
      "metadata": {
        "id": "jzy2r6TGvnV5"
      },
      "outputs": [],
      "source": [
        "def text_pipeline(x: str):\n",
        "  values = list()\n",
        "  tokens = tokenizer(x.lower()) # convert to lower case.\n",
        "  for token in tokens:\n",
        "    try:\n",
        "      v = stoi[token]\n",
        "    except KeyError as e:\n",
        "      v = stoi['<unk>']\n",
        "    values.append(v)\n",
        "  return values"
      ]
    },
    {
      "cell_type": "markdown",
      "source": [
        "### Label pipeline\n",
        "\n",
        "Our labels for now are just emotional-words like `sad`. We also need to convert these labels into numbers. This is very simple what we need to do is to get all the uniqe labels and then create a `labels_vocab` which is a label to integer representation. Which looks as follows:\n",
        "\n",
        "```\n",
        "{'sadness': 0, 'anger': 1, 'love': 2, 'surprise': 3, 'fear': 4, 'joy': 5}\n",
        "```\n",
        "The `label_pipeline` function will then takes in the label and then returns us an integer representation of that label."
      ],
      "metadata": {
        "id": "GsN_vOuXqGCJ"
      }
    },
    {
      "cell_type": "code",
      "execution_count": 30,
      "metadata": {
        "colab": {
          "base_uri": "https://localhost:8080/"
        },
        "id": "OXRyHQpCvu-5",
        "outputId": "83ba4395-d013-4370-af40-3c0d19ff974c"
      },
      "outputs": [
        {
          "output_type": "execute_result",
          "data": {
            "text/plain": [
              "{'sadness': 0, 'anger': 1, 'love': 2, 'surprise': 3, 'fear': 4, 'joy': 5}"
            ]
          },
          "metadata": {},
          "execution_count": 30
        }
      ],
      "source": [
        "labels_dict = dict({v: k for k, v in enumerate(train_df.emotion.unique())})\n",
        "labels_dict"
      ]
    },
    {
      "cell_type": "code",
      "source": [
        "label_pipeline = lambda x: labels_dict[x]"
      ],
      "metadata": {
        "id": "37ABEzkqqDPu"
      },
      "execution_count": 31,
      "outputs": []
    },
    {
      "cell_type": "markdown",
      "source": [
        "### Pretrained vectors \n",
        "\n",
        "In the following code cell we are going to download the predtrained word vectors. We are going to use the `GloVe.6B.100d`. These are pretrained vectors that were trained with about `~6B` words and have a vector representation of a word in `100` dimension. If you want to see which other vectors you can use in torchtext you can check [pytorch.org](https://pytorch.org/text/stable/vocab.html#glove). We are going to load these vectors as follows:"
      ],
      "metadata": {
        "id": "ICCrczh_rAXl"
      }
    },
    {
      "cell_type": "code",
      "execution_count": 36,
      "metadata": {
        "id": "oi3xHyfQwPmY"
      },
      "outputs": [],
      "source": [
        "EMBEDDING_DIM = 100\n",
        "glove_vectors = vocab.GloVe('6B', dim=EMBEDDING_DIM)"
      ]
    },
    {
      "cell_type": "markdown",
      "source": [
        "### Creating Embedding matrix\n",
        "Now that we have our glove vectors we need to costomize them so that they fit our use case. We are going to create an embedding matrix that suits the our vocabulary. So essentially this embedding matrix will be the word to vector mapping for all the words that arein our vocabulary. "
      ],
      "metadata": {
        "id": "SrpDqCcTsMVj"
      }
    },
    {
      "cell_type": "code",
      "execution_count": 37,
      "metadata": {
        "id": "05Wa4dgixQpD"
      },
      "outputs": [],
      "source": [
        "VOCAB_SIZE = len(vocabulary)\n",
        "EMBEDDING_MATRIX= torch.zeros([VOCAB_SIZE, EMBEDDING_DIM])\n",
        "\n",
        "for i, word in enumerate(vocabulary.get_itos()):\n",
        "  EMBEDDING_MATRIX[i] = glove_vectors[word]"
      ]
    },
    {
      "cell_type": "markdown",
      "source": [
        "In the followig code cell we are going to check the embedding matrix for the word `good`."
      ],
      "metadata": {
        "id": "-wgMNWshtxKi"
      }
    },
    {
      "cell_type": "code",
      "source": [
        "EMBEDDING_MATRIX[stoi['good']]"
      ],
      "metadata": {
        "colab": {
          "base_uri": "https://localhost:8080/"
        },
        "id": "dBObF7xDtdS3",
        "outputId": "4227520c-f0c6-4c3e-be03-c57fbe2792f8"
      },
      "execution_count": 39,
      "outputs": [
        {
          "output_type": "execute_result",
          "data": {
            "text/plain": [
              "tensor([-0.0308,  0.1199,  0.5391, -0.4370, -0.7394, -0.1534,  0.0811, -0.3856,\n",
              "        -0.6880, -0.4163, -0.1318, -0.2492,  0.4410,  0.0859,  0.2087, -0.0636,\n",
              "         0.0622, -0.0512, -0.1340,  1.1418,  0.0365,  0.4903, -0.2457, -0.4120,\n",
              "         0.1235,  0.4134, -0.4840, -0.5424, -0.2779, -0.2601, -0.3848,  0.7866,\n",
              "         0.1023, -0.2071,  0.4075,  0.3203, -0.5105,  0.4836, -0.0099, -0.3868,\n",
              "         0.0350, -0.1670,  0.4237, -0.5416, -0.3032, -0.3698,  0.0828, -0.5254,\n",
              "        -0.0645, -1.3980, -0.1487, -0.3533, -0.1118,  1.0912,  0.0959, -2.8129,\n",
              "         0.4524,  0.4621,  1.6012, -0.2084, -0.2738,  0.7120, -1.0754, -0.0470,\n",
              "         0.6748, -0.0658,  0.7582,  0.3941,  0.1551, -0.6472,  0.3280, -0.0317,\n",
              "         0.5290, -0.4389,  0.6740,  0.4214, -0.1198, -0.2178, -0.2976, -0.1351,\n",
              "         0.5990,  0.4653, -0.5826, -0.0232, -1.5442,  0.0190, -0.0159,  0.0245,\n",
              "        -0.5802, -0.6766, -0.0404, -0.4404,  0.0833,  0.2004, -0.7550,  0.1692,\n",
              "        -0.2657, -0.5288,  0.1758,  1.0650])"
            ]
          },
          "metadata": {},
          "execution_count": 39
        }
      ]
    },
    {
      "cell_type": "markdown",
      "source": [
        "### Creating the EmotionDataset\n",
        "In the following code cell we are going to create a dataset class called `EmotionDataset`. This dataset will takes in the `labels` and the `text` of a set."
      ],
      "metadata": {
        "id": "gtlx7nB5t8GO"
      }
    },
    {
      "cell_type": "code",
      "execution_count": 40,
      "metadata": {
        "id": "oJ4Dmh1Wtn2v"
      },
      "outputs": [],
      "source": [
        "class EmotionDataset(torch.utils.data.Dataset):\n",
        "  def __init__(self, labels, text):\n",
        "    super(EmotionDataset, self).__init__()\n",
        "    self.labels = labels\n",
        "    self.text = text\n",
        "      \n",
        "  def __getitem__(self, index):\n",
        "    return self.labels[index], self.text[index]\n",
        "  \n",
        "  def __len__(self):\n",
        "    return len(self.labels)"
      ]
    },
    {
      "cell_type": "markdown",
      "source": [
        "### collate_fn\n",
        "We are going to create a collate function called `tokenize_batch`. This function acually takes in a batch and does the preprocessing of the text and labels. This function will be passed to the `DataLoader` class to do the preprocessing of features and labels.\n",
        "\n",
        "`tokenize_batch` function:\n",
        "\n",
        "* this function takes in a batch in each set and convert the features and labels to integer representation. It goes ahead and pad and truncate the sequence to the same length and returns `labels` and `features`."
      ],
      "metadata": {
        "id": "-CZwJvRnuSwV"
      }
    },
    {
      "cell_type": "code",
      "execution_count": 42,
      "metadata": {
        "id": "wC1WvA6o0wHB"
      },
      "outputs": [],
      "source": [
        "def tokenize_batch(batch, max_len=100, padding=\"pre\"):\n",
        "  assert padding==\"pre\" or padding==\"post\", \"the padding can be either pre or post\"\n",
        "  labels_list, text_list = [], []\n",
        "  for _label, _text in batch:\n",
        "    labels_list.append(label_pipeline(_label))\n",
        "    text_holder = torch.zeros(max_len, dtype=torch.int32)\n",
        "    processed_text = torch.tensor(text_pipeline(_text.lower()), dtype=torch.int32)\n",
        "    pos = min(max_len, len(processed_text))\n",
        "    if padding == \"pre\":\n",
        "      text_holder[:pos] = processed_text[:pos]\n",
        "    else:\n",
        "      text_holder[-pos:] = processed_text[-pos:]\n",
        "    text_list.append(text_holder.unsqueeze(dim=0))\n",
        "  #  the labels will be torch long tensors since it is a multi-class classification.\n",
        "  return torch.LongTensor(labels_list), torch.cat(text_list, dim=0)"
      ]
    },
    {
      "cell_type": "markdown",
      "source": [
        "### Datasets\n",
        "In the following code cell we are going to create the datasets for all our three sets using the `EmotionDataset` class."
      ],
      "metadata": {
        "id": "UpaPkrFavqES"
      }
    },
    {
      "cell_type": "code",
      "execution_count": 43,
      "metadata": {
        "id": "Ax5OE5WA0v1B"
      },
      "outputs": [],
      "source": [
        "train_dataset = EmotionDataset(train_labels, train_texts)\n",
        "test_dataset = EmotionDataset(test_labels, test_texts)\n",
        "val_dataset = EmotionDataset(val_labels, val_texts)"
      ]
    },
    {
      "cell_type": "markdown",
      "source": [
        "### Iterators\n",
        "In the following code cell we are going to create loaders using the `DataLoader` class from `torch.utils.data` for our `3` sets. We are going to use the `batch_size` of `128` and our `collate_function` is `tokenize_batch`. For the validation and testing dataset we are going to set the shuffle to `False` because there's no need fo us to shuffle these examples."
      ],
      "metadata": {
        "id": "kNxTDNWFv4ip"
      }
    },
    {
      "cell_type": "code",
      "execution_count": 44,
      "metadata": {
        "id": "hrCuNOQ60vyJ"
      },
      "outputs": [],
      "source": [
        "BATCH_SIZE = 128\n",
        "train_loader = torch.utils.data.DataLoader(train_dataset, batch_size=BATCH_SIZE, shuffle=True, collate_fn=tokenize_batch)\n",
        "test_loader = torch.utils.data.DataLoader(test_dataset, batch_size=BATCH_SIZE, shuffle=False, collate_fn=tokenize_batch)\n",
        "val_loader = torch.utils.data.DataLoader(val_dataset, batch_size=BATCH_SIZE, shuffle=False, collate_fn=tokenize_batch)"
      ]
    },
    {
      "cell_type": "markdown",
      "source": [
        "### Checking a single Batch Data"
      ],
      "metadata": {
        "id": "jF2p2Ghrwq1Z"
      }
    },
    {
      "cell_type": "code",
      "execution_count": 45,
      "metadata": {
        "id": "AjdL94411cmC"
      },
      "outputs": [],
      "source": [
        "lbl, txt = iter(train_loader).next()"
      ]
    },
    {
      "cell_type": "markdown",
      "source": [
        "Labels in the first batch."
      ],
      "metadata": {
        "id": "B4cTAtJWw5Ej"
      }
    },
    {
      "cell_type": "code",
      "execution_count": 46,
      "metadata": {
        "colab": {
          "base_uri": "https://localhost:8080/"
        },
        "id": "OaJ0boJV1ci4",
        "outputId": "92a33a62-b9c5-4ce5-c407-07284f7e878a"
      },
      "outputs": [
        {
          "output_type": "execute_result",
          "data": {
            "text/plain": [
              "tensor([3, 1, 5, 5, 0, 5, 4, 4, 0, 1, 5, 0, 1, 4, 0, 5, 1, 0, 0, 0, 0, 5, 1, 1,\n",
              "        0, 0, 0, 5, 5, 5, 1, 5, 1, 1, 1, 0, 5, 0, 0, 5, 5, 0, 4, 0, 0, 2, 5, 0,\n",
              "        0, 3, 0, 5, 5, 3, 1, 4, 0, 5, 0, 2, 0, 0, 5, 1, 2, 0, 1, 0, 0, 4, 5, 0,\n",
              "        3, 5, 5, 5, 2, 5, 5, 1, 0, 1, 0, 4, 0, 0, 3, 5, 5, 1, 2, 0, 0, 4, 5, 0,\n",
              "        5, 5, 5, 2, 5, 0, 2, 0, 0, 0, 4, 0, 0, 5, 1, 5, 5, 0, 0, 4, 2, 5, 4, 5,\n",
              "        5, 0, 1, 5, 0, 2, 0, 5])"
            ]
          },
          "metadata": {},
          "execution_count": 46
        }
      ],
      "source": [
        "lbl"
      ]
    },
    {
      "cell_type": "markdown",
      "source": [
        "The first sentence in the batch."
      ],
      "metadata": {
        "id": "nZIXj65Nw0o7"
      }
    },
    {
      "cell_type": "code",
      "execution_count": 47,
      "metadata": {
        "colab": {
          "base_uri": "https://localhost:8080/"
        },
        "id": "3I1zg2W21cfn",
        "outputId": "ce487064-d5b9-44a4-aaac-091b8357f183"
      },
      "outputs": [
        {
          "output_type": "execute_result",
          "data": {
            "text/plain": [
              "tensor([   4,  225,    7,   66,    4,  314, 6192,  649,  352,   25,   67, 3583,\n",
              "         356,   29, 2287, 2090, 1451,    0,    0,    0,    0,    0,    0,    0,\n",
              "           0,    0,    0,    0,    0,    0,    0,    0,    0,    0,    0,    0,\n",
              "           0,    0,    0,    0,    0,    0,    0,    0,    0,    0,    0,    0,\n",
              "           0,    0,    0,    0,    0,    0,    0,    0,    0,    0,    0,    0,\n",
              "           0,    0,    0,    0,    0,    0,    0,    0,    0,    0,    0,    0,\n",
              "           0,    0,    0,    0,    0,    0,    0,    0,    0,    0,    0,    0,\n",
              "           0,    0,    0,    0,    0,    0,    0,    0,    0,    0,    0,    0,\n",
              "           0,    0,    0,    0], dtype=torch.int32)"
            ]
          },
          "metadata": {},
          "execution_count": 47
        }
      ],
      "source": [
        "txt[0]"
      ]
    },
    {
      "cell_type": "markdown",
      "source": [
        "### Model Creation\n",
        "\n",
        "Now that we have our loaders we can now create a model. The model that we are going to create is called `EmotionModel`. In the following code cell we are going to create our model."
      ],
      "metadata": {
        "id": "YKJO5kzmw-Zk"
      }
    },
    {
      "cell_type": "code",
      "execution_count": 60,
      "metadata": {
        "id": "KY9NEb2X3XHV"
      },
      "outputs": [],
      "source": [
        "class EmotionModel(nn.Module):\n",
        "  def __init__(self, vocab_size, embedding_size, hidden_size, output_size, num_layers\n",
        "               , bidirectional, dropout, pad_idx):\n",
        "    super(EmotionModel, self).__init__()\n",
        "\n",
        "    self.embedding = nn.Sequential(\n",
        "        nn.Embedding(vocab_size, embedding_dim=embedding_size, padding_idx=pad_idx),\n",
        "        nn.Dropout(dropout)\n",
        "    )\n",
        "    self.lstm = nn.Sequential(\n",
        "        nn.LSTM(\n",
        "          embedding_size, \n",
        "          hidden_size=hidden_size, \n",
        "          bidirectional=bidirectional, \n",
        "          num_layers=num_layers,\n",
        "          dropout=dropout\n",
        "        )\n",
        "    )\n",
        "    self.out = nn.Sequential(\n",
        "        nn.Linear(hidden_size * 2, out_features=128),\n",
        "        nn.Dropout(dropout),\n",
        "        nn.Linear(128, out_features=output_size),\n",
        "        nn.Dropout(dropout)\n",
        "    )\n",
        "\n",
        "  def forward(self, text, text_lengths):\n",
        "    embedded = self.embedding(text)\n",
        "    # set batch_first=true since input shape has batch_size first and text_lengths to the device.\n",
        "    packed_embedded = nn.utils.rnn.pack_padded_sequence(embedded, text_lengths.to('cpu'), enforce_sorted=False, batch_first=True)\n",
        "    packed_output, (h_0, c_0) = self.lstm(packed_embedded)\n",
        "    output, output_lengths = nn.utils.rnn.pad_packed_sequence(packed_output)\n",
        "    output = torch.cat((h_0[-2,:,:], h_0[-1,:,:]), dim = 1)\n",
        "    return self.out(output)"
      ]
    },
    {
      "cell_type": "markdown",
      "source": [
        "### Model Instance\n",
        "\n",
        "In the following code cell we are going to create a model instance."
      ],
      "metadata": {
        "id": "QOTBZyfyyo9G"
      }
    },
    {
      "cell_type": "code",
      "execution_count": 61,
      "metadata": {
        "colab": {
          "base_uri": "https://localhost:8080/"
        },
        "id": "7cOl7yOQ3qp_",
        "outputId": "5c510d9d-cf25-46f0-85ab-865e569456d0"
      },
      "outputs": [
        {
          "output_type": "execute_result",
          "data": {
            "text/plain": [
              "EmotionModel(\n",
              "  (embedding): Sequential(\n",
              "    (0): Embedding(7364, 100, padding_idx=3)\n",
              "    (1): Dropout(p=0.5, inplace=False)\n",
              "  )\n",
              "  (lstm): Sequential(\n",
              "    (0): LSTM(100, 256, num_layers=2, dropout=0.5, bidirectional=True)\n",
              "  )\n",
              "  (out): Sequential(\n",
              "    (0): Linear(in_features=512, out_features=128, bias=True)\n",
              "    (1): Dropout(p=0.5, inplace=False)\n",
              "    (2): Linear(in_features=128, out_features=6, bias=True)\n",
              "    (3): Dropout(p=0.5, inplace=False)\n",
              "  )\n",
              ")"
            ]
          },
          "metadata": {},
          "execution_count": 61
        }
      ],
      "source": [
        "INPUT_DIM = VOCAB_SIZE \n",
        "EMBEDDING_DIM = EMBEDDING_DIM\n",
        "HIDDEN_DIM = 256\n",
        "OUTPUT_DIM = len(labels_dict)\n",
        "N_LAYERS = 2\n",
        "BIDIRECTIONAL = True\n",
        "DROPOUT = 0.5\n",
        "PAD_IDX = stoi['<pad>'] \n",
        "emotions_model = EmotionModel(\n",
        "              INPUT_DIM, \n",
        "              EMBEDDING_DIM, \n",
        "              HIDDEN_DIM, \n",
        "              OUTPUT_DIM, \n",
        "              N_LAYERS, \n",
        "              BIDIRECTIONAL, \n",
        "              DROPOUT, \n",
        "              PAD_IDX\n",
        ").to(device)\n",
        "emotions_model"
      ]
    },
    {
      "cell_type": "markdown",
      "source": [
        "### Counting Model Parameters\n",
        "In the following code cell we are going to count the model parameters."
      ],
      "metadata": {
        "id": "-ZFVO2Sby_Nl"
      }
    },
    {
      "cell_type": "code",
      "execution_count": 62,
      "metadata": {
        "colab": {
          "base_uri": "https://localhost:8080/"
        },
        "id": "ohLIvkfp4G_-",
        "outputId": "4d16fe41-041e-4c3b-88c6-c511e8b227de"
      },
      "outputs": [
        {
          "output_type": "stream",
          "name": "stdout",
          "text": [
            "Total number of paramaters: 3,112,982\n",
            "Total tainable parameters: 3,112,982\n"
          ]
        }
      ],
      "source": [
        "def count_trainable_params(model):\n",
        "  return sum(p.numel() for p in model.parameters()), sum(p.numel() for p in model.parameters() if p.requires_grad)\n",
        "\n",
        "n_params, trainable_params = count_trainable_params(emotions_model)\n",
        "print(f\"Total number of paramaters: {n_params:,}\\nTotal tainable parameters: {trainable_params:,}\")"
      ]
    },
    {
      "cell_type": "markdown",
      "source": [
        "### Loading Pretrained Vectors\n",
        "In the following code cell we are going to load the pretained vectors in our embedding layer. We are going to load the embedding vectors tha suits our data using the `emotions_model.embedding[0].weight.data.copy_(EMBEDDING_MATRIX)` as follows:"
      ],
      "metadata": {
        "id": "NDj7vwfCzKxM"
      }
    },
    {
      "cell_type": "code",
      "execution_count": 63,
      "metadata": {
        "colab": {
          "base_uri": "https://localhost:8080/"
        },
        "id": "KLPbSoU54Zhs",
        "outputId": "7f62ee30-877a-4316-b8b7-106bc65b5e14"
      },
      "outputs": [
        {
          "output_type": "execute_result",
          "data": {
            "text/plain": [
              "tensor([[ 0.0000,  0.0000,  0.0000,  ...,  0.0000,  0.0000,  0.0000],\n",
              "        [ 0.0000,  0.0000,  0.0000,  ...,  0.0000,  0.0000,  0.0000],\n",
              "        [ 0.0000,  0.0000,  0.0000,  ...,  0.0000,  0.0000,  0.0000],\n",
              "        ...,\n",
              "        [-0.2265, -0.5235,  0.5280,  ..., -0.1423, -0.1669, -0.3038],\n",
              "        [ 0.2190,  0.7244, -0.1162,  ...,  0.2099,  0.9361,  0.3596],\n",
              "        [-0.2677,  0.5511, -0.0924,  ..., -0.5573, -0.5595,  0.1911]],\n",
              "       device='cuda:0')"
            ]
          },
          "metadata": {},
          "execution_count": 63
        }
      ],
      "source": [
        "emotions_model.embedding[0].weight.data.copy_(EMBEDDING_MATRIX)"
      ]
    },
    {
      "cell_type": "markdown",
      "source": [
        "### Optimizer and Criterion\n",
        "\n",
        "In the following code cell we are going to define the optimizer and criterion. For the optimizer we are going to use the `Adam` optimizer with default parameters and for the criterion we are going to use the `CrossEntropyLoss()` function since this is a multi-class classification."
      ],
      "metadata": {
        "id": "El_Hir4a0G1K"
      }
    },
    {
      "cell_type": "code",
      "execution_count": 64,
      "metadata": {
        "id": "1rDO8fLM4ZeJ"
      },
      "outputs": [],
      "source": [
        "optimizer = torch.optim.Adam(emotions_model.parameters())\n",
        "criterion = nn.CrossEntropyLoss().to(device)"
      ]
    },
    {
      "cell_type": "markdown",
      "source": [
        "In the following code cell we are going to create our `categorical_accuracy` function, which is a function that calulates the the catecorical accuracy between the predicted labels and real labels."
      ],
      "metadata": {
        "id": "gdGav6ES0nyk"
      }
    },
    {
      "cell_type": "code",
      "execution_count": 65,
      "metadata": {
        "id": "wSihiwCT4Za_"
      },
      "outputs": [],
      "source": [
        "def categorical_accuracy(preds, y):\n",
        "  top_pred = preds.argmax(1, keepdim = True)\n",
        "  correct = top_pred.eq(y.view_as(top_pred)).sum()\n",
        "  acc = correct.float() / y.shape[0]\n",
        "  return acc"
      ]
    },
    {
      "cell_type": "markdown",
      "source": [
        "### Train and Evaluate functions\n",
        "\n",
        "In the following code cell we are going to create our `train` and `evalutate` functions:"
      ],
      "metadata": {
        "id": "oTlBUEOc0_vj"
      }
    },
    {
      "cell_type": "code",
      "execution_count": 66,
      "metadata": {
        "id": "gM7MoHZT4ZYP"
      },
      "outputs": [],
      "source": [
        "def train(model, iterator, optimizer, criterion):\n",
        "  epoch_loss,epoch_acc = 0, 0\n",
        "  model.train()\n",
        "  for batch in iterator:\n",
        "    y, X = batch\n",
        "    X = X.to(device)\n",
        "    y = y.to(device)\n",
        "    lengths = torch.tensor([len(i) for i in X])\n",
        "    optimizer.zero_grad()\n",
        "\n",
        "    predictions = model(X, lengths).squeeze(1)\n",
        "    loss = criterion(predictions, y)\n",
        "    acc = categorical_accuracy(predictions, y)\n",
        "    loss.backward()\n",
        "    optimizer.step()\n",
        "    epoch_loss += loss.item()\n",
        "    epoch_acc += acc.item()\n",
        "  return epoch_loss / len(iterator), epoch_acc / len(iterator)\n",
        "\n",
        "def evaluate(model, iterator, criterion):\n",
        "  epoch_loss,epoch_acc = 0, 0\n",
        "  model.eval()\n",
        "  with torch.no_grad():\n",
        "    for batch in iterator:\n",
        "      y, X = batch\n",
        "      X = X.to(device)\n",
        "      y = y.to(device)\n",
        "      lengths = torch.tensor([len(i) for i in X])\n",
        "      predictions = model(X, lengths).squeeze(1)\n",
        "      loss = criterion(predictions, y)\n",
        "      acc = categorical_accuracy(predictions, y)\n",
        "      epoch_loss += loss.item()\n",
        "      epoch_acc += acc.item()\n",
        "  return epoch_loss / len(iterator), epoch_acc / len(iterator)"
      ]
    },
    {
      "cell_type": "markdown",
      "source": [
        "### Training Loop\n",
        "\n",
        "In the following code cell we are going to run the training loop. We are going to save the model when the loss decreased."
      ],
      "metadata": {
        "id": "RF-JtqA_2TNL"
      }
    },
    {
      "cell_type": "code",
      "execution_count": 67,
      "metadata": {
        "colab": {
          "base_uri": "https://localhost:8080/"
        },
        "id": "wk8kgNg35Mqg",
        "outputId": "20fc91de-0fda-48d1-e23a-ecb9e9e36ffe"
      },
      "outputs": [
        {
          "output_type": "stream",
          "name": "stdout",
          "text": [
            "+--------------------------------------------+\n",
            "|     EPOCH: 01/10 saving best model...      |\n",
            "+------------+-------+----------+------------+\n",
            "| CATEGORY   |  LOSS | ACCURACY |        ETA |\n",
            "+------------+-------+----------+------------+\n",
            "| Training   | 1.653 |    0.322 | 0:00:10.50 |\n",
            "| Validation | 1.428 |    0.536 |            |\n",
            "+------------+-------+----------+------------+\n",
            "+--------------------------------------------+\n",
            "|     EPOCH: 02/10 saving best model...      |\n",
            "+------------+-------+----------+------------+\n",
            "| CATEGORY   |  LOSS | ACCURACY |        ETA |\n",
            "+------------+-------+----------+------------+\n",
            "| Training   | 1.479 |    0.401 | 0:00:10.30 |\n",
            "| Validation | 1.023 |    0.657 |            |\n",
            "+------------+-------+----------+------------+\n",
            "+--------------------------------------------+\n",
            "|     EPOCH: 03/10 saving best model...      |\n",
            "+------------+-------+----------+------------+\n",
            "| CATEGORY   |  LOSS | ACCURACY |        ETA |\n",
            "+------------+-------+----------+------------+\n",
            "| Training   | 1.291 |    0.493 | 0:00:10.76 |\n",
            "| Validation | 0.810 |    0.724 |            |\n",
            "+------------+-------+----------+------------+\n",
            "+--------------------------------------------+\n",
            "|     EPOCH: 04/10 saving best model...      |\n",
            "+------------+-------+----------+------------+\n",
            "| CATEGORY   |  LOSS | ACCURACY |        ETA |\n",
            "+------------+-------+----------+------------+\n",
            "| Training   | 1.130 |    0.560 | 0:00:10.17 |\n",
            "| Validation | 0.472 |    0.862 |            |\n",
            "+------------+-------+----------+------------+\n",
            "+--------------------------------------------+\n",
            "|     EPOCH: 05/10 saving best model...      |\n",
            "+------------+-------+----------+------------+\n",
            "| CATEGORY   |  LOSS | ACCURACY |        ETA |\n",
            "+------------+-------+----------+------------+\n",
            "| Training   | 0.996 |    0.602 | 0:00:09.99 |\n",
            "| Validation | 0.380 |    0.896 |            |\n",
            "+------------+-------+----------+------------+\n",
            "+--------------------------------------------+\n",
            "|     EPOCH: 06/10 saving best model...      |\n",
            "+------------+-------+----------+------------+\n",
            "| CATEGORY   |  LOSS | ACCURACY |        ETA |\n",
            "+------------+-------+----------+------------+\n",
            "| Training   | 0.928 |    0.620 | 0:00:09.82 |\n",
            "| Validation | 0.320 |    0.905 |            |\n",
            "+------------+-------+----------+------------+\n",
            "+--------------------------------------------+\n",
            "|     EPOCH: 07/10 saving best model...      |\n",
            "+------------+-------+----------+------------+\n",
            "| CATEGORY   |  LOSS | ACCURACY |        ETA |\n",
            "+------------+-------+----------+------------+\n",
            "| Training   | 0.868 |    0.635 | 0:00:09.72 |\n",
            "| Validation | 0.234 |    0.925 |            |\n",
            "+------------+-------+----------+------------+\n",
            "+--------------------------------------------+\n",
            "|     EPOCH: 08/10 saving best model...      |\n",
            "+------------+-------+----------+------------+\n",
            "| CATEGORY   |  LOSS | ACCURACY |        ETA |\n",
            "+------------+-------+----------+------------+\n",
            "| Training   | 0.823 |    0.651 | 0:00:10.02 |\n",
            "| Validation | 0.182 |    0.925 |            |\n",
            "+------------+-------+----------+------------+\n",
            "+--------------------------------------------+\n",
            "|     EPOCH: 09/10 saving best model...      |\n",
            "+------------+-------+----------+------------+\n",
            "| CATEGORY   |  LOSS | ACCURACY |        ETA |\n",
            "+------------+-------+----------+------------+\n",
            "| Training   | 0.803 |    0.653 | 0:00:09.79 |\n",
            "| Validation | 0.177 |    0.924 |            |\n",
            "+------------+-------+----------+------------+\n",
            "+--------------------------------------------+\n",
            "|     EPOCH: 10/10 saving best model...      |\n",
            "+------------+-------+----------+------------+\n",
            "| CATEGORY   |  LOSS | ACCURACY |        ETA |\n",
            "+------------+-------+----------+------------+\n",
            "| Training   | 0.777 |    0.659 | 0:00:09.80 |\n",
            "| Validation | 0.153 |    0.935 |            |\n",
            "+------------+-------+----------+------------+\n"
          ]
        }
      ],
      "source": [
        "N_EPOCHS = 10\n",
        "MODEL_NAME = 'emotion-torch.pt'\n",
        "\n",
        "best_valid_loss = float('inf')\n",
        "for epoch in range(N_EPOCHS):\n",
        "  start = time.time()\n",
        "  train_loss, train_acc = train(emotions_model, train_loader, optimizer, criterion)\n",
        "  valid_loss, valid_acc = evaluate(emotions_model, val_loader, criterion)\n",
        "  title = f\"EPOCH: {epoch+1:02}/{N_EPOCHS:02} {'saving best model...' if valid_loss < best_valid_loss else 'not saving...'}\"\n",
        "  if valid_loss < best_valid_loss:\n",
        "      best_valid_loss = valid_loss\n",
        "      torch.save(emotions_model.state_dict(), MODEL_NAME)\n",
        "  end = time.time()\n",
        "  data = [\n",
        "       [\"Training\", f'{train_loss:.3f}', f'{train_acc:.3f}', f\"{utils.hms_string(end - start)}\" ],\n",
        "       [\"Validation\", f'{valid_loss:.3f}', f'{valid_acc:.3f}', \"\" ],       \n",
        "   ]\n",
        "  columns = [\"CATEGORY\", \"LOSS\", \"ACCURACY\", \"ETA\"]\n",
        "  tables.tabulate_data(columns, data, title)\n"
      ]
    },
    {
      "cell_type": "markdown",
      "source": [
        "### Evaluating the best model.\n",
        "In the following code cell we are going to evaluate the best model using on the `test` data as follows:"
      ],
      "metadata": {
        "id": "HNwUpIZ92-6h"
      }
    },
    {
      "cell_type": "code",
      "execution_count": 68,
      "metadata": {
        "colab": {
          "base_uri": "https://localhost:8080/"
        },
        "id": "NkwGMhww5tXH",
        "outputId": "10c01d57-087e-417b-f50c-a0401a452edb"
      },
      "outputs": [
        {
          "output_type": "stream",
          "name": "stdout",
          "text": [
            "+--------------------------------------+\n",
            "|       Model Evaluation Summary       |\n",
            "+------+-------+----------+------------+\n",
            "| Set  |  Loss | Accuracy | ETA (time) |\n",
            "+------+-------+----------+------------+\n",
            "| Test | 0.162 |   92.12% |            |\n",
            "+------+-------+----------+------------+\n"
          ]
        }
      ],
      "source": [
        "column_names = [\"Set\", \"Loss\", \"Accuracy\", \"ETA (time)\"]\n",
        "emotions_model.load_state_dict(torch.load(MODEL_NAME))\n",
        "test_loss, test_acc = evaluate(emotions_model, test_loader, criterion)\n",
        "title = \"Model Evaluation Summary\"\n",
        "data_rows = [[\"Test\", f'{test_loss:.3f}', f'{test_acc * 100:.2f}%', \"\"]]\n",
        "\n",
        "tables.tabulate_data(column_names, data_rows, title)"
      ]
    },
    {
      "cell_type": "markdown",
      "source": [
        "### Model Inference\n",
        "In the following code cell we are going to make predictions with the best model. We will have the function called `inference_preprocess_text` which is a function that process the text for inference."
      ],
      "metadata": {
        "id": "gRAWjwfd3XZg"
      }
    },
    {
      "cell_type": "code",
      "execution_count": 69,
      "metadata": {
        "id": "maLH9sSM8HfT"
      },
      "outputs": [],
      "source": [
        "def inference_preprocess_text(text, max_len=100, padding=\"pre\"):\n",
        "  assert padding==\"pre\" or padding==\"post\", \"the padding can be either pre or post\"\n",
        "  text_holder = torch.zeros(max_len, dtype=torch.int32) # fixed size tensor of max_len with <pad> = 0\n",
        "  processed_text = torch.tensor(text_pipeline(text), dtype=torch.int32)\n",
        "  pos = min(max_len, len(processed_text))\n",
        "  if padding == \"pre\":\n",
        "    text_holder[:pos] = processed_text[:pos]\n",
        "  else:\n",
        "    text_holder[-pos:] = processed_text[-pos:]\n",
        "  text_list= text_holder.unsqueeze(dim=0)\n",
        "  return text_list"
      ]
    },
    {
      "cell_type": "markdown",
      "source": [
        "### Predicting Emotions\n",
        "In the following code cell we are going to create a function that predicts the emotion in the text that is called `predict_emotion`."
      ],
      "metadata": {
        "id": "_OIlVvSs318q"
      }
    },
    {
      "cell_type": "code",
      "source": [
        "emotions_emojis = {\n",
        "   'anger' : \":angry:\", \n",
        "   'fear': \":fearful:\", \n",
        "   'joy' : \":smile:\", \n",
        "   'love' : \":heart_eyes:\", \n",
        "   'sadness' : \":disappointed:\", \n",
        "   'surprise': \":open_mouth:\"\n",
        "}"
      ],
      "metadata": {
        "id": "_lBhNkGX4KpA"
      },
      "execution_count": 70,
      "outputs": []
    },
    {
      "cell_type": "code",
      "execution_count": 122,
      "metadata": {
        "id": "yFSdomq15tUC"
      },
      "outputs": [],
      "source": [
        "def predict_emotion(model, sentence, min_len = 5):\n",
        "  model.eval()\n",
        "  with torch.no_grad():\n",
        "    tensor = inference_preprocess_text(sentence).to(device)\n",
        "    length = torch.tensor([len(t) for t in tensor])\n",
        "    probabilities = torch.softmax(model(tensor, length).squeeze(0), dim=0)\n",
        "    prediction = torch.argmax(probabilities)\n",
        "    prediction = prediction.detach().cpu().item()\n",
        "    classes = {v:k for k, v in labels_dict.items()}\n",
        "    class_name = classes[prediction]\n",
        "    columns_ =  [\"label\", 'value']\n",
        "    title = \"PREDICTIONS OF EMOTIONS\"\n",
        "    data = [\n",
        "        ['text', sentence],\n",
        "        ['predicted class', prediction],\n",
        "        ['predicted class name', class_name],\n",
        "        ['predicted emoji', emoji.emojize(emotions_emojis.get(class_name), language='alias')],\n",
        "        ['probability', round(probabilities[prediction].item(), 2)]\n",
        "    ]\n",
        "    tables.tabulate_data(columns_, data, title)\n",
        "  "
      ]
    },
    {
      "cell_type": "code",
      "source": [
        "# sadness\n",
        "predict_emotion(emotions_model, \"im updating my blog because i feel shitty.\")"
      ],
      "metadata": {
        "colab": {
          "base_uri": "https://localhost:8080/"
        },
        "id": "VVpBH0sB5Cc4",
        "outputId": "ca6cf3f3-0c7b-4268-eccd-a59dcc1e5106"
      },
      "execution_count": 123,
      "outputs": [
        {
          "output_type": "stream",
          "name": "stdout",
          "text": [
            "+-------------------------------------------------------------------+\n",
            "|                      PREDICTIONS OF EMOTIONS                      |\n",
            "+----------------------+--------------------------------------------+\n",
            "| label                |                                      value |\n",
            "+----------------------+--------------------------------------------+\n",
            "| text                 | im updating my blog because i feel shitty. |\n",
            "| predicted class      |                                          0 |\n",
            "| predicted class name |                                    sadness |\n",
            "| predicted emoji      |                                         😞 |\n",
            "| probability          |                                        1.0 |\n",
            "+----------------------+--------------------------------------------+\n"
          ]
        }
      ]
    },
    {
      "cell_type": "code",
      "execution_count": 124,
      "metadata": {
        "colab": {
          "base_uri": "https://localhost:8080/"
        },
        "id": "_5Oe97TB5tQz",
        "outputId": "e24d794b-29de-4809-8807-c55488bc3525"
      },
      "outputs": [
        {
          "output_type": "stream",
          "name": "stdout",
          "text": [
            "+-----------------------------------------------------------------------------------+\n",
            "|                              PREDICTIONS OF EMOTIONS                              |\n",
            "+----------------------+------------------------------------------------------------+\n",
            "| label                |                                                      value |\n",
            "+----------------------+------------------------------------------------------------+\n",
            "| text                 | i am feeling apprehensive about it but also wildly excited |\n",
            "| predicted class      |                                                          4 |\n",
            "| predicted class name |                                                       fear |\n",
            "| predicted emoji      |                                                         😨 |\n",
            "| probability          |                                                        1.0 |\n",
            "+----------------------+------------------------------------------------------------+\n"
          ]
        }
      ],
      "source": [
        "# fear\n",
        "predict_emotion(emotions_model, \"i am feeling apprehensive about it but also wildly excited\")"
      ]
    },
    {
      "cell_type": "code",
      "execution_count": 125,
      "metadata": {
        "colab": {
          "base_uri": "https://localhost:8080/"
        },
        "id": "JiDQSRSm5tN7",
        "outputId": "4de2f32d-c08f-4cfd-9cdb-4f0429e7290c"
      },
      "outputs": [
        {
          "output_type": "stream",
          "name": "stdout",
          "text": [
            "+------------------------------------------------------+\n",
            "|               PREDICTIONS OF EMOTIONS                |\n",
            "+----------------------+-------------------------------+\n",
            "| label                |                         value |\n",
            "+----------------------+-------------------------------+\n",
            "| text                 | i feel a little mellow today. |\n",
            "| predicted class      |                             5 |\n",
            "| predicted class name |                           joy |\n",
            "| predicted emoji      |                            😄 |\n",
            "| probability          |                           1.0 |\n",
            "+----------------------+-------------------------------+\n"
          ]
        }
      ],
      "source": [
        "# joy\n",
        "predict_emotion(emotions_model, \"i feel a little mellow today.\")"
      ]
    },
    {
      "cell_type": "code",
      "execution_count": 126,
      "metadata": {
        "colab": {
          "base_uri": "https://localhost:8080/"
        },
        "id": "4wop2yWtA7Qr",
        "outputId": "431a3bde-5a6b-49a0-c177-c24557e7c877"
      },
      "outputs": [
        {
          "output_type": "stream",
          "name": "stdout",
          "text": [
            "+-----------------------------------------------------------------------------------------------+\n",
            "|                                    PREDICTIONS OF EMOTIONS                                    |\n",
            "+----------------------+------------------------------------------------------------------------+\n",
            "| label                |                                                                  value |\n",
            "+----------------------+------------------------------------------------------------------------+\n",
            "| text                 | i feel shocked and sad at the fact that there are so many sick people. |\n",
            "| predicted class      |                                                                      3 |\n",
            "| predicted class name |                                                               surprise |\n",
            "| predicted emoji      |                                                                     😮 |\n",
            "| probability          |                                                                   0.87 |\n",
            "+----------------------+------------------------------------------------------------------------+\n"
          ]
        }
      ],
      "source": [
        "# surprise\n",
        "predict_emotion(emotions_model, \"i feel shocked and sad at the fact that there are so many sick people.\")"
      ]
    },
    {
      "cell_type": "code",
      "execution_count": 127,
      "metadata": {
        "colab": {
          "base_uri": "https://localhost:8080/"
        },
        "id": "ugfJGwOMBB7w",
        "outputId": "d2062b2e-d01f-403e-eafb-9d59387eac51"
      },
      "outputs": [
        {
          "output_type": "stream",
          "name": "stdout",
          "text": [
            "+----------------------------------------------------------------------+\n",
            "|                       PREDICTIONS OF EMOTIONS                        |\n",
            "+----------------------+-----------------------------------------------+\n",
            "| label                |                                         value |\n",
            "+----------------------+-----------------------------------------------+\n",
            "| text                 | i want each of you to feel my gentle embrace. |\n",
            "| predicted class      |                                             2 |\n",
            "| predicted class name |                                          love |\n",
            "| predicted emoji      |                                            😍 |\n",
            "| probability          |                                          0.96 |\n",
            "+----------------------+-----------------------------------------------+\n"
          ]
        }
      ],
      "source": [
        "# love \n",
        "predict_emotion(emotions_model, \"i want each of you to feel my gentle embrace.\")"
      ]
    },
    {
      "cell_type": "code",
      "execution_count": 128,
      "metadata": {
        "colab": {
          "base_uri": "https://localhost:8080/"
        },
        "id": "m7W6rH-ZBIM2",
        "outputId": "9adab164-440a-4554-da39-b0139f94b785"
      },
      "outputs": [
        {
          "output_type": "stream",
          "name": "stdout",
          "text": [
            "+--------------------------------------------------------------------------------------------------------+\n",
            "|                                        PREDICTIONS OF EMOTIONS                                         |\n",
            "+----------------------+---------------------------------------------------------------------------------+\n",
            "| label                |                                                                           value |\n",
            "+----------------------+---------------------------------------------------------------------------------+\n",
            "| text                 | i feel like my irritable sensitive combination skin has finally met it s match. |\n",
            "| predicted class      |                                                                               1 |\n",
            "| predicted class name |                                                                           anger |\n",
            "| predicted emoji      |                                                                              😠 |\n",
            "| probability          |                                                                            0.99 |\n",
            "+----------------------+---------------------------------------------------------------------------------+\n"
          ]
        }
      ],
      "source": [
        "# anger\n",
        "predict_emotion(emotions_model, \"i feel like my irritable sensitive combination skin has finally met it s match.\")"
      ]
    },
    {
      "cell_type": "markdown",
      "source": [
        "### Confusion matrix.\n",
        "\n",
        "In the following code cell we are going to extract features and labels that we are going to use to plot our confusion matrix. We are going to use the `test` set."
      ],
      "metadata": {
        "id": "r-rTezKO8eSK"
      }
    },
    {
      "cell_type": "code",
      "execution_count": 159,
      "metadata": {
        "id": "b8STMjVSBOOM"
      },
      "outputs": [],
      "source": [
        "test_features = []\n",
        "test_labels = []\n",
        "for (y, X) in test_loader:\n",
        "  test_features.extend(X.numpy())\n",
        "  test_labels.extend(y.numpy())\n",
        "test_features = torch.tensor([i for i in test_features]).to(device)"
      ]
    },
    {
      "cell_type": "code",
      "source": [
        "lengths = torch.tensor([len(i) for i in test_features])\n",
        "emotions_model.eval()\n",
        "with torch.no_grad():\n",
        "  preds = torch.argmax(emotions_model(test_features, lengths), dim=1)\n",
        "  preds = list(preds.detach().cpu().numpy())"
      ],
      "metadata": {
        "id": "jNXRZ38O9dOA"
      },
      "execution_count": 160,
      "outputs": []
    },
    {
      "cell_type": "code",
      "source": [
        "classes = [k for k, v in labels_dict.items()]\n",
        "classes"
      ],
      "metadata": {
        "colab": {
          "base_uri": "https://localhost:8080/"
        },
        "id": "2Rpz5MNFAeee",
        "outputId": "07bd905e-3b7c-4e60-86fa-2cdf14b6583c"
      },
      "execution_count": 161,
      "outputs": [
        {
          "output_type": "execute_result",
          "data": {
            "text/plain": [
              "['sadness', 'anger', 'love', 'surprise', 'fear', 'joy']"
            ]
          },
          "metadata": {},
          "execution_count": 161
        }
      ]
    },
    {
      "cell_type": "code",
      "source": [
        "visualization.plot_complicated_confusion_matrix(test_labels, preds, classes, figsize=(10, 10), fontsize=10)"
      ],
      "metadata": {
        "colab": {
          "base_uri": "https://localhost:8080/",
          "height": 580
        },
        "id": "FF9xdUGO-xQV",
        "outputId": "bbb9a2d9-1ef9-4fa9-8523-1fbe676ecb38"
      },
      "execution_count": 163,
      "outputs": [
        {
          "output_type": "display_data",
          "data": {
            "text/plain": [
              "<Figure size 720x720 with 2 Axes>"
            ],
            "image/png": "[encoded data removed]"
          },
          "metadata": {
            "needs_background": "light"
          }
        }
      ]
    }
  ],
  "metadata": {
    "accelerator": "GPU",
    "colab": {
      "collapsed_sections": [],
      "name": "00_TORCHTEXT_BiLSTM_PRE_TRAINED_EMBEDDING_VECTORS.ipynb",
      "provenance": []
    },
    "gpuClass": "standard",
    "kernelspec": {
      "display_name": "Python 3",
      "name": "python3"
    },
    "language_info": {
      "name": "python"
    }
  },
  "nbformat": 4,
  "nbformat_minor": 0
}